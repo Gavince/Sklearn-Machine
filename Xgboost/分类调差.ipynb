{
 "cells": [
  {
   "cell_type": "markdown",
   "metadata": {},
   "source": [
    "## XGBoost多分类\n",
    "任务: 使用鸢尾花的数据来说明多分类的问题"
   ]
  },
  {
   "cell_type": "code",
   "execution_count": 1,
   "metadata": {},
   "outputs": [
    {
     "data": {
      "text/plain": [
       "32512"
      ]
     },
     "execution_count": 1,
     "metadata": {},
     "output_type": "execute_result"
    }
   ],
   "source": [
    "from sklearn import datasets \n",
    "from sklearn.model_selection import train_test_split\n",
    "import xgboost as xgb\n",
    "import datetime\n",
    "from time import time\n",
    "\n",
    "import os\n",
    "os.system('CUDA_VISIBLE__DEVICES = 0')"
   ]
  },
  {
   "cell_type": "code",
   "execution_count": 2,
   "metadata": {},
   "outputs": [],
   "source": [
    "iris = datasets.load_iris()\n",
    "data = iris.data"
   ]
  },
  {
   "cell_type": "code",
   "execution_count": 3,
   "metadata": {},
   "outputs": [
    {
     "name": "stdout",
     "output_type": "stream",
     "text": [
      "[0 0 0 0 0 0 0 0 0 0 0 0 0 0 0 0 0 0 0 0 0 0 0 0 0 0 0 0 0 0 0 0 0 0 0 0 0\n",
      " 0 0 0 0 0 0 0 0 0 0 0 0 0 1 1 1 1 1 1 1 1 1 1 1 1 1 1 1 1 1 1 1 1 1 1 1 1\n",
      " 1 1 1 1 1 1 1 1 1 1 1 1 1 1 1 1 1 1 1 1 1 1 1 1 1 1 2 2 2 2 2 2 2 2 2 2 2\n",
      " 2 2 2 2 2 2 2 2 2 2 2 2 2 2 2 2 2 2 2 2 2 2 2 2 2 2 2 2 2 2 2 2 2 2 2 2 2\n",
      " 2 2]\n"
     ]
    }
   ],
   "source": [
    "#一共有100个样本数据, 维度为4维\n",
    "label = iris.target\n",
    "print (label)"
   ]
  },
  {
   "cell_type": "code",
   "execution_count": 4,
   "metadata": {},
   "outputs": [],
   "source": [
    "train_x, test_x, train_y, test_y = train_test_split(data, label, random_state=0)\n",
    "\n",
    "dfull = xgb.DMatrix(train_x,label=train_y)\n",
    "dtest = xgb.DMatrix(test_x)"
   ]
  },
  {
   "cell_type": "code",
   "execution_count": 5,
   "metadata": {},
   "outputs": [],
   "source": [
    "# 初始的调参结果(全部使用默认值)\n",
    "param1 = {'verbosity': 0 #并非默认\n",
    "          , \"silent\": 0\n",
    "          , \"tree_method\": \"gpu_hist\" # 使用GPU\n",
    "#           , \"gpu_id\": 0\n",
    "          , 'obj':'multi:softmax' # 多分类\n",
    "          , \"num_class\":10  \n",
    "#           , \"eta\":0.01\n",
    "          \n",
    "#           , \"gamma\":0\n",
    "#           , \"max_depth\":6\n",
    "\n",
    "#           , \"subsample\":1  # 横向抽样\n",
    "#           , \"colsample_bytree\":1  # 纵向抽样\n",
    "#           , \"colsample_bylevel\":1\n",
    "#           , \"colsample_bynode\":1\n",
    "\n",
    "#           , \"lambda\":1  # L2\n",
    "#           , \"alpha\":0  # L1\n",
    "         }\n",
    "num_round = 200"
   ]
  },
  {
   "cell_type": "code",
   "execution_count": 6,
   "metadata": {},
   "outputs": [
    {
     "name": "stdout",
     "output_type": "stream",
     "text": [
      "The time of param１:\n",
      "00:04:206865\n",
      "The time of param2:\n",
      "00:01:824981\n",
      "The time of param3:\n",
      "00:01:672112\n"
     ]
    }
   ],
   "source": [
    "print(\"The time of param１:\")\n",
    "t0 = time()\n",
    "cvresult = xgb.cv(params=param1, dtrain=dfull, num_boost_round=num_round)\n",
    "print(datetime.datetime.fromtimestamp(time()-t0).strftime(\"%M:%S:%f\"))\n",
    "\n",
    "# 上一次的调参结果\n",
    "param2 = {'verbosity':0\n",
    "          , \"tree_method\": \"gpu_hist\"\n",
    "#           , \"gpu_id\": 0\n",
    "          , \"silent\": 0\n",
    "          , 'obj':'multi:softmax' #并非默认\n",
    "          , \"num_class\":10 \n",
    "          \n",
    "#           , \"eta\":0.01\n",
    "          \n",
    "#           , \"gamma\":0\n",
    "#           , \"max_depth\":6\n",
    "\n",
    "#           , \"subsample\":1  # 横向抽样\n",
    "#           , \"colsample_bytree\":1  # 纵向抽样\n",
    "#           , \"colsample_bylevel\":1\n",
    "#           , \"colsample_bynode\":1\n",
    "\n",
    "#           , \"lambda\":1  # L2\n",
    "#           , \"alpha\":0  # L1\n",
    "         }\n",
    "\n",
    "# 现在的调参结果\n",
    "param3 = {'verbosity':0\n",
    "          , \"tree_method\": \"gpu_hist\"\n",
    "#           , \"gpu_id\": 0\n",
    "          , \"silent\": 0\n",
    "          , 'obj':'multi:softmax' #并非默认\n",
    "          , \"num_class\":10 \n",
    "          \n",
    "#           , \"eta\":0.01\n",
    "          \n",
    "#           , \"gamma\":0\n",
    "#           , \"max_depth\":6\n",
    "\n",
    "#           , \"subsample\":1  # 横向抽样\n",
    "#           , \"colsample_bytree\":1  # 纵向抽样\n",
    "#           , \"colsample_bylevel\":1\n",
    "#           , \"colsample_bynode\":1\n",
    "\n",
    "#           , \"lambda\":1  # L2\n",
    "#           , \"alpha\":0  # L1\n",
    "         }\n",
    "\n",
    "t0 = time()\n",
    "print(\"The time of param2:\")\n",
    "cvresult2 = xgb.cv(params=param2, dtrain=dfull, num_boost_round=num_round)\n",
    "print(datetime.datetime.fromtimestamp(time()-t0).strftime(\"%M:%S:%f\"))\n",
    "\n",
    "print(\"The time of param3:\")\n",
    "t0 = time()\n",
    "cvresult3 = xgb.cv(params=param3, dtrain=dfull, num_boost_round=num_round)\n",
    "print(datetime.datetime.fromtimestamp(time()-t0).strftime(\"%M:%S:%f\"))"
   ]
  },
  {
   "cell_type": "code",
   "execution_count": 7,
   "metadata": {},
   "outputs": [
    {
     "ename": "NameError",
     "evalue": "name 'plt' is not defined",
     "output_type": "error",
     "traceback": [
      "\u001b[0;31m---------------------------------------------------------------------------\u001b[0m",
      "\u001b[0;31mNameError\u001b[0m                                 Traceback (most recent call last)",
      "\u001b[0;32m<ipython-input-7-d79f62f50775>\u001b[0m in \u001b[0;36m<module>\u001b[0;34m()\u001b[0m\n\u001b[1;32m      1\u001b[0m \u001b[0;31m#　调整参数后的效果\u001b[0m\u001b[0;34m\u001b[0m\u001b[0;34m\u001b[0m\u001b[0m\n\u001b[0;32m----> 2\u001b[0;31m \u001b[0mfig\u001b[0m\u001b[0;34m,\u001b[0m \u001b[0max\u001b[0m \u001b[0;34m=\u001b[0m \u001b[0mplt\u001b[0m\u001b[0;34m.\u001b[0m\u001b[0msubplots\u001b[0m\u001b[0;34m(\u001b[0m\u001b[0;36m1\u001b[0m\u001b[0;34m,\u001b[0m \u001b[0mfigsize\u001b[0m\u001b[0;34m=\u001b[0m\u001b[0;34m(\u001b[0m\u001b[0;36m15\u001b[0m\u001b[0;34m,\u001b[0m \u001b[0;36m8\u001b[0m\u001b[0;34m)\u001b[0m\u001b[0;34m)\u001b[0m\u001b[0;34m\u001b[0m\u001b[0m\n\u001b[0m\u001b[1;32m      3\u001b[0m \u001b[0max\u001b[0m\u001b[0;34m.\u001b[0m\u001b[0mgrid\u001b[0m\u001b[0;34m(\u001b[0m\u001b[0;34m)\u001b[0m\u001b[0;34m\u001b[0m\u001b[0m\n\u001b[1;32m      4\u001b[0m \u001b[0mend\u001b[0m \u001b[0;34m=\u001b[0m \u001b[0mnum_round\u001b[0m \u001b[0;34m+\u001b[0m \u001b[0;36m1\u001b[0m\u001b[0;34m\u001b[0m\u001b[0m\n\u001b[1;32m      5\u001b[0m \u001b[0;34m\u001b[0m\u001b[0m\n",
      "\u001b[0;31mNameError\u001b[0m: name 'plt' is not defined"
     ]
    }
   ],
   "source": [
    "#　调整参数后的效果\n",
    "fig, ax = plt.subplots(1, figsize=(15, 8))\n",
    "ax.grid()\n",
    "end = num_round + 1\n",
    "\n",
    "ax.plot(range(1, end), cvresult.iloc[:, 0], c=\"red\", label=\"test_origin\")\n",
    "ax.plot(range(1, end), cvresult.iloc[:, 2], c=\"green\", label=\"train_origin\")\n",
    "\n",
    "ax.plot(range(1, end), cvresult2.iloc[:, 0], c=\"pink\", label=\"test_last\")\n",
    "ax.plot(range(1, end), cvresult2.iloc[:, 2], c=\"yellow\", label=\"train_last\")\n",
    "\n",
    "ax.plot(range(1, end), cvresult3.iloc[:, 0], c=\"black\", label=\"test_this\")\n",
    "ax.plot(range(1, end), cvresult3.iloc[:, 2], c=\"blue\", label=\"train_this\")\n",
    "\n",
    "ax.legend(fontsize = \"xx-large\")\n",
    "ax.set_ylim(bottom=-0.1, top=0.5)\n",
    "plt.ylabel(\"mse\")\n",
    "plt.xlabel(\"num_round\")\n",
    "plt.savefig(\"./imgs/cv.png\")\n",
    "plt.show()"
   ]
  },
  {
   "cell_type": "code",
   "execution_count": null,
   "metadata": {},
   "outputs": [],
   "source": []
  },
  {
   "cell_type": "code",
   "execution_count": null,
   "metadata": {},
   "outputs": [],
   "source": []
  },
  {
   "cell_type": "code",
   "execution_count": null,
   "metadata": {},
   "outputs": [],
   "source": []
  }
 ],
 "metadata": {
  "kernelspec": {
   "display_name": "Python 3",
   "language": "python",
   "name": "python3"
  },
  "language_info": {
   "codemirror_mode": {
    "name": "ipython",
    "version": 3
   },
   "file_extension": ".py",
   "mimetype": "text/x-python",
   "name": "python",
   "nbconvert_exporter": "python",
   "pygments_lexer": "ipython3",
   "version": "3.6.3"
  }
 },
 "nbformat": 4,
 "nbformat_minor": 4
}
