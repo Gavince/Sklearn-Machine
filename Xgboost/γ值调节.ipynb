{
 "cells": [
  {
   "cell_type": "code",
   "execution_count": 65,
   "metadata": {},
   "outputs": [],
   "source": [
    "from sklearn.datasets import load_breast_cancer\n",
    "import xgboost as xgb\n",
    "from time import time\n",
    "import matplotlib.pyplot as plt"
   ]
  },
  {
   "cell_type": "code",
   "execution_count": 66,
   "metadata": {},
   "outputs": [],
   "source": [
    "cancer_data = load_breast_cancer()"
   ]
  },
  {
   "cell_type": "code",
   "execution_count": 67,
   "metadata": {},
   "outputs": [],
   "source": [
    "X = cancer_data.data\n",
    "Y = cancer_data.target"
   ]
  },
  {
   "cell_type": "code",
   "execution_count": 68,
   "metadata": {},
   "outputs": [
    {
     "data": {
      "text/plain": [
       "(569, 30)"
      ]
     },
     "execution_count": 68,
     "metadata": {},
     "output_type": "execute_result"
    }
   ],
   "source": [
    "X.shape"
   ]
  },
  {
   "cell_type": "code",
   "execution_count": 69,
   "metadata": {},
   "outputs": [],
   "source": [
    "dfull = xgb.DMatrix(X, Y)"
   ]
  },
  {
   "cell_type": "code",
   "execution_count": 70,
   "metadata": {},
   "outputs": [],
   "source": [
    "# 设定参数(回归)\n",
    "param1 = {\"silent\": True, \"obj\":\"binary:logistic\", \"gamma\":0}\n",
    "param2 = {\"silent\": True, \"obj\":\"binary:logistic\", \"gamma\":10}\n",
    "num_round = 180\n",
    "n_fold = 5"
   ]
  },
  {
   "cell_type": "code",
   "execution_count": 75,
   "metadata": {},
   "outputs": [
    {
     "name": "stdout",
     "output_type": "stream",
     "text": [
      "Consume time : 1.6430003643035889\n"
     ]
    }
   ],
   "source": [
    "t0 = time()\n",
    "cvresult1 = xgb.cv(param1,dfull, num_round, n_fold, metrics=(\"error\"))\n",
    "cvresult2 = xgb.cv(param2,dfull, num_round, n_fold, metrics=(\"error\"))\n",
    "print(\"Consume time :\", time() - t0)"
   ]
  },
  {
   "cell_type": "code",
   "execution_count": 78,
   "metadata": {},
   "outputs": [
    {
     "data": {
      "text/html": [
       "<div>\n",
       "<style>\n",
       "    .dataframe thead tr:only-child th {\n",
       "        text-align: right;\n",
       "    }\n",
       "\n",
       "    .dataframe thead th {\n",
       "        text-align: left;\n",
       "    }\n",
       "\n",
       "    .dataframe tbody tr th {\n",
       "        vertical-align: top;\n",
       "    }\n",
       "</style>\n",
       "<table border=\"1\" class=\"dataframe\">\n",
       "  <thead>\n",
       "    <tr style=\"text-align: right;\">\n",
       "      <th></th>\n",
       "      <th>test-error-mean</th>\n",
       "      <th>test-error-std</th>\n",
       "      <th>train-error-mean</th>\n",
       "      <th>train-error-std</th>\n",
       "    </tr>\n",
       "  </thead>\n",
       "  <tbody>\n",
       "    <tr>\n",
       "      <th>0</th>\n",
       "      <td>0.072039</td>\n",
       "      <td>0.020999</td>\n",
       "      <td>0.002637</td>\n",
       "      <td>0.000880</td>\n",
       "    </tr>\n",
       "    <tr>\n",
       "      <th>1</th>\n",
       "      <td>0.064974</td>\n",
       "      <td>0.023195</td>\n",
       "      <td>0.002637</td>\n",
       "      <td>0.000880</td>\n",
       "    </tr>\n",
       "    <tr>\n",
       "      <th>2</th>\n",
       "      <td>0.064974</td>\n",
       "      <td>0.023195</td>\n",
       "      <td>0.002637</td>\n",
       "      <td>0.000880</td>\n",
       "    </tr>\n",
       "    <tr>\n",
       "      <th>3</th>\n",
       "      <td>0.064974</td>\n",
       "      <td>0.023195</td>\n",
       "      <td>0.002197</td>\n",
       "      <td>0.001390</td>\n",
       "    </tr>\n",
       "    <tr>\n",
       "      <th>4</th>\n",
       "      <td>0.064974</td>\n",
       "      <td>0.023195</td>\n",
       "      <td>0.001757</td>\n",
       "      <td>0.000879</td>\n",
       "    </tr>\n",
       "  </tbody>\n",
       "</table>\n",
       "</div>"
      ],
      "text/plain": [
       "   test-error-mean  test-error-std  train-error-mean  train-error-std\n",
       "0         0.072039        0.020999          0.002637         0.000880\n",
       "1         0.064974        0.023195          0.002637         0.000880\n",
       "2         0.064974        0.023195          0.002637         0.000880\n",
       "3         0.064974        0.023195          0.002197         0.001390\n",
       "4         0.064974        0.023195          0.001757         0.000879"
      ]
     },
     "execution_count": 78,
     "metadata": {},
     "output_type": "execute_result"
    }
   ],
   "source": [
    "cvresult1.head()"
   ]
  },
  {
   "cell_type": "code",
   "execution_count": 76,
   "metadata": {},
   "outputs": [
    {
     "data": {
      "image/png": "[encoded data removed]",
      "text/plain": [
       "<matplotlib.figure.Figure at 0x7f7cc904ca58>"
      ]
     },
     "metadata": {},
     "output_type": "display_data"
    }
   ],
   "source": [
    "# 画图看效果\n",
    "plt.figure(figsize=(12, 6))\n",
    "plt.plot(range(1, 181), cvresult1.iloc[:, 0], c=\"blue\", label = \"test, gamma=0\")\n",
    "plt.plot(range(1, 181), cvresult1.iloc[:, 2], c=\"red\", label = \"train, gamma=0\")\n",
    "plt.plot(range(1, 181), cvresult2.iloc[:, 0], c=\"orange\", label = \"test, gamma=20\")\n",
    "plt.plot(range(1, 181), cvresult2.iloc[:, 2], c=\"green\", label = \"train, gamma=20\")\n",
    "plt.xlabel(\"n_estimators\")\n",
    "plt.ylabel(\"mse\")\n",
    "plt.legend()\n",
    "plt.savefig(\"imgs/11.svg\")\n",
    "plt.show()"
   ]
  },
  {
   "cell_type": "code",
   "execution_count": null,
   "metadata": {},
   "outputs": [],
   "source": []
  },
  {
   "cell_type": "code",
   "execution_count": null,
   "metadata": {},
   "outputs": [],
   "source": []
  },
  {
   "cell_type": "code",
   "execution_count": null,
   "metadata": {},
   "outputs": [],
   "source": []
  },
  {
   "cell_type": "code",
   "execution_count": null,
   "metadata": {},
   "outputs": [],
   "source": []
  }
 ],
 "metadata": {
  "kernelspec": {
   "display_name": "Python 3",
   "language": "python",
   "name": "python3"
  },
  "language_info": {
   "codemirror_mode": {
    "name": "ipython",
    "version": 3
   },
   "file_extension": ".py",
   "mimetype": "text/x-python",
   "name": "python",
   "nbconvert_exporter": "python",
   "pygments_lexer": "ipython3",
   "version": "3.6.3"
  }
 },
 "nbformat": 4,
 "nbformat_minor": 4
}
