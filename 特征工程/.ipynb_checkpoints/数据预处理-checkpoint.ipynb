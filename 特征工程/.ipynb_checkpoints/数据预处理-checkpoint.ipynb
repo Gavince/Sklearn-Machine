{
 "cells": [
  {
   "cell_type": "markdown",
   "metadata": {},
   "source": [
    "# 数据预处理  \n",
    "**数据预处理**:是从数据中检测，纠正或删除损坏，不准确或不适用于模型的记录的过程\n",
    "可能面对的问题有：数据类型不同，比如有的是文字，有的是数字，有的含时间序列，有的连续，有的间断。\n",
    "也可能，数据的质量不行，有噪声，有异常，有缺失，数据出错，量纲不一，有重复，数据是偏态，数据量太\n",
    "大或太小\n",
    "数据预处理的目的：让数据适应模型，匹配模型的需求"
   ]
  },
  {
   "cell_type": "code",
   "execution_count": 1,
   "metadata": {},
   "outputs": [],
   "source": [
    "import pandas as pd\n",
    "import numpy as np\n",
    "import matplotlib.pyplot as plt"
   ]
  },
  {
   "cell_type": "markdown",
   "metadata": {},
   "source": [
    "### 1. 数据归一化  \n",
    "$$\n",
    "x^{*}=\\frac{x-\\min (x)}{\\max (x)-\\min (x)}\n",
    "$$"
   ]
  },
  {
   "cell_type": "markdown",
   "metadata": {},
   "source": [
    "#### sklearn处理"
   ]
  },
  {
   "cell_type": "code",
   "execution_count": 12,
   "metadata": {},
   "outputs": [],
   "source": [
    "# 给出特征\n",
    "data = [[12, 16],\n",
    "       [33, 55],\n",
    "       [99, 100]]"
   ]
  },
  {
   "cell_type": "code",
   "execution_count": 13,
   "metadata": {},
   "outputs": [
    {
     "data": {
      "text/html": [
       "<div>\n",
       "<style scoped>\n",
       "    .dataframe tbody tr th:only-of-type {\n",
       "        vertical-align: middle;\n",
       "    }\n",
       "\n",
       "    .dataframe tbody tr th {\n",
       "        vertical-align: top;\n",
       "    }\n",
       "\n",
       "    .dataframe thead th {\n",
       "        text-align: right;\n",
       "    }\n",
       "</style>\n",
       "<table border=\"1\" class=\"dataframe\">\n",
       "  <thead>\n",
       "    <tr style=\"text-align: right;\">\n",
       "      <th></th>\n",
       "      <th>fea1</th>\n",
       "      <th>fear2</th>\n",
       "    </tr>\n",
       "  </thead>\n",
       "  <tbody>\n",
       "    <tr>\n",
       "      <th>1</th>\n",
       "      <td>12</td>\n",
       "      <td>16</td>\n",
       "    </tr>\n",
       "    <tr>\n",
       "      <th>2</th>\n",
       "      <td>33</td>\n",
       "      <td>55</td>\n",
       "    </tr>\n",
       "    <tr>\n",
       "      <th>3</th>\n",
       "      <td>99</td>\n",
       "      <td>100</td>\n",
       "    </tr>\n",
       "  </tbody>\n",
       "</table>\n",
       "</div>"
      ],
      "text/plain": [
       "   fea1  fear2\n",
       "1    12     16\n",
       "2    33     55\n",
       "3    99    100"
      ]
     },
     "execution_count": 13,
     "metadata": {},
     "output_type": "execute_result"
    }
   ],
   "source": [
    "pd.DataFrame(data, index=[1, 2, 3], columns=[\"fea1\", \"fear2\"])"
   ]
  },
  {
   "cell_type": "code",
   "execution_count": 14,
   "metadata": {},
   "outputs": [],
   "source": [
    "from sklearn.preprocessing import MinMaxScaler\n",
    "# 实例化（默认归一化到０～１）\n",
    "scalar = MinMaxScaler()"
   ]
  },
  {
   "cell_type": "code",
   "execution_count": 15,
   "metadata": {},
   "outputs": [],
   "source": [
    "# 得到结果\n",
    "result = scalar.fit_transform(data)"
   ]
  },
  {
   "cell_type": "code",
   "execution_count": 16,
   "metadata": {},
   "outputs": [
    {
     "data": {
      "text/plain": [
       "array([[0.        , 0.        ],\n",
       "       [0.24137931, 0.46428571],\n",
       "       [1.        , 1.        ]])"
      ]
     },
     "execution_count": 16,
     "metadata": {},
     "output_type": "execute_result"
    }
   ],
   "source": [
    "result"
   ]
  },
  {
   "cell_type": "code",
   "execution_count": 17,
   "metadata": {},
   "outputs": [
    {
     "data": {
      "text/plain": [
       "array([[ 12.,  16.],\n",
       "       [ 33.,  55.],\n",
       "       [ 99., 100.]])"
      ]
     },
     "execution_count": 17,
     "metadata": {},
     "output_type": "execute_result"
    }
   ],
   "source": [
    "# 恢复到原来的数据\n",
    "scalar.inverse_transform(result)"
   ]
  },
  {
   "cell_type": "code",
   "execution_count": 21,
   "metadata": {},
   "outputs": [
    {
     "data": {
      "text/plain": [
       "array([[ 5.        ,  5.        ],\n",
       "       [ 6.20689655,  7.32142857],\n",
       "       [10.        , 10.        ]])"
      ]
     },
     "execution_count": 21,
     "metadata": {},
     "output_type": "execute_result"
    }
   ],
   "source": [
    "# 归一化到某个范围\n",
    "scalar_ = MinMaxScaler(feature_range=(5, 10))\n",
    "scalar = scalar_.fit_transform(data)\n",
    "scalar"
   ]
  },
  {
   "cell_type": "code",
   "execution_count": 20,
   "metadata": {},
   "outputs": [
    {
     "data": {
      "text/plain": [
       "array([[ 12.,  16.],\n",
       "       [ 33.,  55.],\n",
       "       [ 99., 100.]])"
      ]
     },
     "execution_count": 20,
     "metadata": {},
     "output_type": "execute_result"
    }
   ],
   "source": [
    "scalar_.inverse_transform(scalar)"
   ]
  },
  {
   "cell_type": "markdown",
   "metadata": {},
   "source": [
    "#### 函数表示"
   ]
  },
  {
   "cell_type": "code",
   "execution_count": 15,
   "metadata": {},
   "outputs": [
    {
     "data": {
      "text/html": [
       "<div>\n",
       "<style scoped>\n",
       "    .dataframe tbody tr th:only-of-type {\n",
       "        vertical-align: middle;\n",
       "    }\n",
       "\n",
       "    .dataframe tbody tr th {\n",
       "        vertical-align: top;\n",
       "    }\n",
       "\n",
       "    .dataframe thead th {\n",
       "        text-align: right;\n",
       "    }\n",
       "</style>\n",
       "<table border=\"1\" class=\"dataframe\">\n",
       "  <thead>\n",
       "    <tr style=\"text-align: right;\">\n",
       "      <th></th>\n",
       "      <th>0</th>\n",
       "      <th>1</th>\n",
       "    </tr>\n",
       "  </thead>\n",
       "  <tbody>\n",
       "    <tr>\n",
       "      <th>0</th>\n",
       "      <td>12</td>\n",
       "      <td>16</td>\n",
       "    </tr>\n",
       "    <tr>\n",
       "      <th>1</th>\n",
       "      <td>33</td>\n",
       "      <td>55</td>\n",
       "    </tr>\n",
       "    <tr>\n",
       "      <th>2</th>\n",
       "      <td>99</td>\n",
       "      <td>100</td>\n",
       "    </tr>\n",
       "  </tbody>\n",
       "</table>\n",
       "</div>"
      ],
      "text/plain": [
       "    0    1\n",
       "0  12   16\n",
       "1  33   55\n",
       "2  99  100"
      ]
     },
     "execution_count": 15,
     "metadata": {},
     "output_type": "execute_result"
    }
   ],
   "source": [
    "X = np.array(data)\n",
    "pd.DataFrame(X)"
   ]
  },
  {
   "cell_type": "code",
   "execution_count": 17,
   "metadata": {},
   "outputs": [
    {
     "data": {
      "text/plain": [
       "array([[0.        , 0.        ],\n",
       "       [0.24137931, 0.46428571],\n",
       "       [1.        , 1.        ]])"
      ]
     },
     "execution_count": 17,
     "metadata": {},
     "output_type": "execute_result"
    }
   ],
   "source": [
    "# 归一化数据\n",
    "result = (X - X.min(axis=0)) / (X.max(axis=0) - X.min(axis=0))\n",
    "result"
   ]
  },
  {
   "cell_type": "code",
   "execution_count": 18,
   "metadata": {},
   "outputs": [
    {
     "data": {
      "text/plain": [
       "array([[ 12.,  16.],\n",
       "       [ 33.,  55.],\n",
       "       [ 99., 100.]])"
      ]
     },
     "execution_count": 18,
     "metadata": {},
     "output_type": "execute_result"
    }
   ],
   "source": [
    "# 显示归一化前的数据\n",
    "X = result * (X.max(axis=0) - X.min(axis=0)) + X.min(axis=0)\n",
    "X"
   ]
  },
  {
   "cell_type": "markdown",
   "metadata": {},
   "source": [
    "### 2.标准化  N~(0, 1)\n",
    "$$\n",
    "x^{*}=\\frac{x-\\mu}{\\sigma}\n",
    "$$"
   ]
  },
  {
   "cell_type": "markdown",
   "metadata": {},
   "source": [
    "#### sklearn处理"
   ]
  },
  {
   "cell_type": "code",
   "execution_count": 22,
   "metadata": {},
   "outputs": [],
   "source": [
    "from sklearn.preprocessing import StandardScaler"
   ]
  },
  {
   "cell_type": "code",
   "execution_count": 27,
   "metadata": {},
   "outputs": [
    {
     "data": {
      "text/plain": [
       "{'copy': True, 'with_mean': True, 'with_std': True}"
      ]
     },
     "execution_count": 27,
     "metadata": {},
     "output_type": "execute_result"
    }
   ],
   "source": [
    "# 求解标准化的数据\n",
    "std = StandardScaler()\n",
    "std = std.fit(data)\n",
    "std_result = std.transform(data)\n",
    "std.get_params()"
   ]
  },
  {
   "cell_type": "code",
   "execution_count": 28,
   "metadata": {},
   "outputs": [
    {
     "data": {
      "text/plain": [
       "(array([48., 57.]), array([1374., 1178.]))"
      ]
     },
     "execution_count": 28,
     "metadata": {},
     "output_type": "execute_result"
    }
   ],
   "source": [
    "## 查看每一个特征的方差和均值\n",
    "std.mean_, std.var_"
   ]
  },
  {
   "cell_type": "code",
   "execution_count": 30,
   "metadata": {},
   "outputs": [
    {
     "data": {
      "text/plain": [
       "array([[ 12.,  16.],\n",
       "       [ 33.,  55.],\n",
       "       [ 99., 100.]])"
      ]
     },
     "execution_count": 30,
     "metadata": {},
     "output_type": "execute_result"
    }
   ],
   "source": [
    "# 返回标准化之前的数据\n",
    "std.inverse_transform(std_result)"
   ]
  },
  {
   "cell_type": "markdown",
   "metadata": {},
   "source": [
    "#### 函数实现"
   ]
  },
  {
   "cell_type": "code",
   "execution_count": 22,
   "metadata": {},
   "outputs": [
    {
     "data": {
      "text/plain": [
       "array([[-0.97120103, -1.19456892],\n",
       "       [-0.4046671 , -0.05827165],\n",
       "       [ 1.37586813,  1.25284058]])"
      ]
     },
     "execution_count": 22,
     "metadata": {},
     "output_type": "execute_result"
    }
   ],
   "source": [
    "# 数据实现\n",
    "std_result = (X - X.mean(axis=0))/X.std(axis=0)\n",
    "std_result"
   ]
  },
  {
   "cell_type": "markdown",
   "metadata": {},
   "source": [
    "### 3.缺失值处理"
   ]
  },
  {
   "cell_type": "code",
   "execution_count": 31,
   "metadata": {},
   "outputs": [
    {
     "data": {
      "text/html": [
       "<div>\n",
       "<style scoped>\n",
       "    .dataframe tbody tr th:only-of-type {\n",
       "        vertical-align: middle;\n",
       "    }\n",
       "\n",
       "    .dataframe tbody tr th {\n",
       "        vertical-align: top;\n",
       "    }\n",
       "\n",
       "    .dataframe thead th {\n",
       "        text-align: right;\n",
       "    }\n",
       "</style>\n",
       "<table border=\"1\" class=\"dataframe\">\n",
       "  <thead>\n",
       "    <tr style=\"text-align: right;\">\n",
       "      <th></th>\n",
       "      <th>Age</th>\n",
       "      <th>Sex</th>\n",
       "      <th>Embarked</th>\n",
       "      <th>Survived</th>\n",
       "    </tr>\n",
       "  </thead>\n",
       "  <tbody>\n",
       "    <tr>\n",
       "      <th>0</th>\n",
       "      <td>22.0</td>\n",
       "      <td>male</td>\n",
       "      <td>S</td>\n",
       "      <td>No</td>\n",
       "    </tr>\n",
       "    <tr>\n",
       "      <th>1</th>\n",
       "      <td>38.0</td>\n",
       "      <td>female</td>\n",
       "      <td>C</td>\n",
       "      <td>Yes</td>\n",
       "    </tr>\n",
       "    <tr>\n",
       "      <th>2</th>\n",
       "      <td>26.0</td>\n",
       "      <td>female</td>\n",
       "      <td>S</td>\n",
       "      <td>Yes</td>\n",
       "    </tr>\n",
       "    <tr>\n",
       "      <th>3</th>\n",
       "      <td>35.0</td>\n",
       "      <td>female</td>\n",
       "      <td>S</td>\n",
       "      <td>Yes</td>\n",
       "    </tr>\n",
       "    <tr>\n",
       "      <th>4</th>\n",
       "      <td>35.0</td>\n",
       "      <td>male</td>\n",
       "      <td>S</td>\n",
       "      <td>No</td>\n",
       "    </tr>\n",
       "  </tbody>\n",
       "</table>\n",
       "</div>"
      ],
      "text/plain": [
       "    Age     Sex Embarked Survived\n",
       "0  22.0    male        S       No\n",
       "1  38.0  female        C      Yes\n",
       "2  26.0  female        S      Yes\n",
       "3  35.0  female        S      Yes\n",
       "4  35.0    male        S       No"
      ]
     },
     "execution_count": 31,
     "metadata": {},
     "output_type": "execute_result"
    }
   ],
   "source": [
    "data = pd.read_csv(\"data/Narrativedata.csv\", index_col=0)\n",
    "data.head()"
   ]
  },
  {
   "cell_type": "code",
   "execution_count": 32,
   "metadata": {},
   "outputs": [
    {
     "data": {
      "image/png": "[encoded data removed]",
      "text/plain": [
       "<Figure size 432x288 with 1 Axes>"
      ]
     },
     "metadata": {
      "needs_background": "light"
     },
     "output_type": "display_data"
    }
   ],
   "source": [
    "data.hist()\n",
    "plt.show()"
   ]
  },
  {
   "cell_type": "code",
   "execution_count": 33,
   "metadata": {},
   "outputs": [
    {
     "data": {
      "text/html": [
       "<div>\n",
       "<style scoped>\n",
       "    .dataframe tbody tr th:only-of-type {\n",
       "        vertical-align: middle;\n",
       "    }\n",
       "\n",
       "    .dataframe tbody tr th {\n",
       "        vertical-align: top;\n",
       "    }\n",
       "\n",
       "    .dataframe thead th {\n",
       "        text-align: right;\n",
       "    }\n",
       "</style>\n",
       "<table border=\"1\" class=\"dataframe\">\n",
       "  <thead>\n",
       "    <tr style=\"text-align: right;\">\n",
       "      <th></th>\n",
       "      <th>Age</th>\n",
       "    </tr>\n",
       "  </thead>\n",
       "  <tbody>\n",
       "    <tr>\n",
       "      <th>count</th>\n",
       "      <td>714.000000</td>\n",
       "    </tr>\n",
       "    <tr>\n",
       "      <th>mean</th>\n",
       "      <td>29.699118</td>\n",
       "    </tr>\n",
       "    <tr>\n",
       "      <th>std</th>\n",
       "      <td>14.526497</td>\n",
       "    </tr>\n",
       "    <tr>\n",
       "      <th>min</th>\n",
       "      <td>0.420000</td>\n",
       "    </tr>\n",
       "    <tr>\n",
       "      <th>25%</th>\n",
       "      <td>20.125000</td>\n",
       "    </tr>\n",
       "    <tr>\n",
       "      <th>50%</th>\n",
       "      <td>28.000000</td>\n",
       "    </tr>\n",
       "    <tr>\n",
       "      <th>75%</th>\n",
       "      <td>38.000000</td>\n",
       "    </tr>\n",
       "    <tr>\n",
       "      <th>max</th>\n",
       "      <td>80.000000</td>\n",
       "    </tr>\n",
       "  </tbody>\n",
       "</table>\n",
       "</div>"
      ],
      "text/plain": [
       "              Age\n",
       "count  714.000000\n",
       "mean    29.699118\n",
       "std     14.526497\n",
       "min      0.420000\n",
       "25%     20.125000\n",
       "50%     28.000000\n",
       "75%     38.000000\n",
       "max     80.000000"
      ]
     },
     "execution_count": 33,
     "metadata": {},
     "output_type": "execute_result"
    }
   ],
   "source": [
    "data.describe()"
   ]
  },
  {
   "cell_type": "code",
   "execution_count": 34,
   "metadata": {},
   "outputs": [
    {
     "name": "stdout",
     "output_type": "stream",
     "text": [
      "<class 'pandas.core.frame.DataFrame'>\n",
      "Int64Index: 891 entries, 0 to 890\n",
      "Data columns (total 4 columns):\n",
      "Age         714 non-null float64\n",
      "Sex         891 non-null object\n",
      "Embarked    889 non-null object\n",
      "Survived    891 non-null object\n",
      "dtypes: float64(1), object(3)\n",
      "memory usage: 34.8+ KB\n"
     ]
    }
   ],
   "source": [
    "data.info()"
   ]
  },
  {
   "cell_type": "code",
   "execution_count": 35,
   "metadata": {},
   "outputs": [],
   "source": [
    "# 方法一\n",
    "# Age数据中有部分缺失，使用均值添补\n",
    "data1 = data.copy()\n",
    "data1.Age.fillna(data.Age.mean, inplace=True)"
   ]
  },
  {
   "cell_type": "code",
   "execution_count": 36,
   "metadata": {},
   "outputs": [
    {
     "name": "stdout",
     "output_type": "stream",
     "text": [
      "<class 'pandas.core.frame.DataFrame'>\n",
      "Int64Index: 891 entries, 0 to 890\n",
      "Data columns (total 4 columns):\n",
      "Age         891 non-null object\n",
      "Sex         891 non-null object\n",
      "Embarked    889 non-null object\n",
      "Survived    891 non-null object\n",
      "dtypes: object(4)\n",
      "memory usage: 34.8+ KB\n"
     ]
    }
   ],
   "source": [
    "data1.info()"
   ]
  },
  {
   "cell_type": "code",
   "execution_count": 37,
   "metadata": {},
   "outputs": [
    {
     "name": "stdout",
     "output_type": "stream",
     "text": [
      "mean:[[22.]\n",
      " [38.]\n",
      " [26.]\n",
      " [35.]\n",
      " [35.]]\n",
      "median:[[22.]\n",
      " [38.]\n",
      " [26.]\n",
      " [35.]\n",
      " [35.]]\n"
     ]
    }
   ],
   "source": [
    "# 方法二\n",
    "# 使用sklearn impute函数补充\n",
    "data2 = data.copy()\n",
    "from sklearn.impute import SimpleImputer\n",
    "# 填充不同类型数据\n",
    "imp_maen = SimpleImputer(missing_values=np.nan, strategy=\"mean\") # 默认是均值\n",
    "imp_median = SimpleImputer(missing_values=np.nan, strategy=\"median\")\n",
    "\n",
    "imp_maen = imp_maen.fit_transform(data2.Age.values.reshape(-1, 1)) # 填补特征值必须是二维\n",
    "imp_median = imp_median.fit_transform(data2.Age.values.reshape(-1, 1))\n",
    "\n",
    "print(\"mean:{}\\nmedian:{}\".format(imp_maen[:5, :], imp_median[:5, :]))\n",
    "# 更新数据\n",
    "data2.Age = imp_median"
   ]
  },
  {
   "cell_type": "code",
   "execution_count": 38,
   "metadata": {},
   "outputs": [
    {
     "name": "stdout",
     "output_type": "stream",
     "text": [
      "<class 'pandas.core.frame.DataFrame'>\n",
      "Int64Index: 891 entries, 0 to 890\n",
      "Data columns (total 4 columns):\n",
      "Age         891 non-null float64\n",
      "Sex         891 non-null object\n",
      "Embarked    889 non-null object\n",
      "Survived    891 non-null object\n",
      "dtypes: float64(1), object(3)\n",
      "memory usage: 34.8+ KB\n"
     ]
    }
   ],
   "source": [
    "data2.info()"
   ]
  },
  {
   "cell_type": "code",
   "execution_count": 39,
   "metadata": {},
   "outputs": [],
   "source": [
    "# 删除影响较小样本数据\n",
    "data2.dropna(inplace=True)"
   ]
  },
  {
   "cell_type": "code",
   "execution_count": 40,
   "metadata": {},
   "outputs": [
    {
     "name": "stdout",
     "output_type": "stream",
     "text": [
      "<class 'pandas.core.frame.DataFrame'>\n",
      "Int64Index: 889 entries, 0 to 890\n",
      "Data columns (total 4 columns):\n",
      "Age         889 non-null float64\n",
      "Sex         889 non-null object\n",
      "Embarked    889 non-null object\n",
      "Survived    889 non-null object\n",
      "dtypes: float64(1), object(3)\n",
      "memory usage: 34.7+ KB\n"
     ]
    }
   ],
   "source": [
    "data2.info()"
   ]
  },
  {
   "cell_type": "code",
   "execution_count": 41,
   "metadata": {},
   "outputs": [
    {
     "name": "stdout",
     "output_type": "stream",
     "text": [
      "<class 'pandas.core.frame.DataFrame'>\n",
      "Int64Index: 891 entries, 0 to 890\n",
      "Data columns (total 4 columns):\n",
      "Age         891 non-null object\n",
      "Sex         891 non-null object\n",
      "Embarked    889 non-null object\n",
      "Survived    891 non-null object\n",
      "dtypes: object(4)\n",
      "memory usage: 34.8+ KB\n"
     ]
    }
   ],
   "source": [
    "data1.info()"
   ]
  },
  {
   "cell_type": "code",
   "execution_count": 42,
   "metadata": {},
   "outputs": [
    {
     "data": {
      "text/html": [
       "<div>\n",
       "<style scoped>\n",
       "    .dataframe tbody tr th:only-of-type {\n",
       "        vertical-align: middle;\n",
       "    }\n",
       "\n",
       "    .dataframe tbody tr th {\n",
       "        vertical-align: top;\n",
       "    }\n",
       "\n",
       "    .dataframe thead th {\n",
       "        text-align: right;\n",
       "    }\n",
       "</style>\n",
       "<table border=\"1\" class=\"dataframe\">\n",
       "  <thead>\n",
       "    <tr style=\"text-align: right;\">\n",
       "      <th></th>\n",
       "      <th>Age</th>\n",
       "      <th>Sex</th>\n",
       "      <th>Embarked</th>\n",
       "      <th>Survived</th>\n",
       "    </tr>\n",
       "  </thead>\n",
       "  <tbody>\n",
       "    <tr>\n",
       "      <th>0</th>\n",
       "      <td>22</td>\n",
       "      <td>male</td>\n",
       "      <td>S</td>\n",
       "      <td>No</td>\n",
       "    </tr>\n",
       "    <tr>\n",
       "      <th>1</th>\n",
       "      <td>38</td>\n",
       "      <td>female</td>\n",
       "      <td>C</td>\n",
       "      <td>Yes</td>\n",
       "    </tr>\n",
       "    <tr>\n",
       "      <th>2</th>\n",
       "      <td>26</td>\n",
       "      <td>female</td>\n",
       "      <td>S</td>\n",
       "      <td>Yes</td>\n",
       "    </tr>\n",
       "    <tr>\n",
       "      <th>3</th>\n",
       "      <td>35</td>\n",
       "      <td>female</td>\n",
       "      <td>S</td>\n",
       "      <td>Yes</td>\n",
       "    </tr>\n",
       "    <tr>\n",
       "      <th>4</th>\n",
       "      <td>35</td>\n",
       "      <td>male</td>\n",
       "      <td>S</td>\n",
       "      <td>No</td>\n",
       "    </tr>\n",
       "    <tr>\n",
       "      <th>...</th>\n",
       "      <td>...</td>\n",
       "      <td>...</td>\n",
       "      <td>...</td>\n",
       "      <td>...</td>\n",
       "    </tr>\n",
       "    <tr>\n",
       "      <th>886</th>\n",
       "      <td>27</td>\n",
       "      <td>male</td>\n",
       "      <td>S</td>\n",
       "      <td>No</td>\n",
       "    </tr>\n",
       "    <tr>\n",
       "      <th>887</th>\n",
       "      <td>19</td>\n",
       "      <td>female</td>\n",
       "      <td>S</td>\n",
       "      <td>Yes</td>\n",
       "    </tr>\n",
       "    <tr>\n",
       "      <th>888</th>\n",
       "      <td>&lt;bound method Series.mean of 0      22.0\\n1   ...</td>\n",
       "      <td>female</td>\n",
       "      <td>S</td>\n",
       "      <td>No</td>\n",
       "    </tr>\n",
       "    <tr>\n",
       "      <th>889</th>\n",
       "      <td>26</td>\n",
       "      <td>male</td>\n",
       "      <td>C</td>\n",
       "      <td>Unknown</td>\n",
       "    </tr>\n",
       "    <tr>\n",
       "      <th>890</th>\n",
       "      <td>32</td>\n",
       "      <td>male</td>\n",
       "      <td>Q</td>\n",
       "      <td>No</td>\n",
       "    </tr>\n",
       "  </tbody>\n",
       "</table>\n",
       "<p>891 rows × 4 columns</p>\n",
       "</div>"
      ],
      "text/plain": [
       "                                                   Age     Sex Embarked  \\\n",
       "0                                                   22    male        S   \n",
       "1                                                   38  female        C   \n",
       "2                                                   26  female        S   \n",
       "3                                                   35  female        S   \n",
       "4                                                   35    male        S   \n",
       "..                                                 ...     ...      ...   \n",
       "886                                                 27    male        S   \n",
       "887                                                 19  female        S   \n",
       "888  <bound method Series.mean of 0      22.0\\n1   ...  female        S   \n",
       "889                                                 26    male        C   \n",
       "890                                                 32    male        Q   \n",
       "\n",
       "    Survived  \n",
       "0         No  \n",
       "1        Yes  \n",
       "2        Yes  \n",
       "3        Yes  \n",
       "4         No  \n",
       "..       ...  \n",
       "886       No  \n",
       "887      Yes  \n",
       "888       No  \n",
       "889  Unknown  \n",
       "890       No  \n",
       "\n",
       "[891 rows x 4 columns]"
      ]
     },
     "execution_count": 42,
     "metadata": {},
     "output_type": "execute_result"
    }
   ],
   "source": [
    "data1"
   ]
  },
  {
   "cell_type": "code",
   "execution_count": 43,
   "metadata": {},
   "outputs": [
    {
     "name": "stdout",
     "output_type": "stream",
     "text": [
      "<class 'pandas.core.frame.DataFrame'>\n",
      "Int64Index: 889 entries, 0 to 890\n",
      "Data columns (total 4 columns):\n",
      "Age         889 non-null float64\n",
      "Sex         889 non-null object\n",
      "Embarked    889 non-null object\n",
      "Survived    889 non-null object\n",
      "dtypes: float64(1), object(3)\n",
      "memory usage: 34.7+ KB\n"
     ]
    }
   ],
   "source": [
    "data2.info()"
   ]
  },
  {
   "cell_type": "markdown",
   "metadata": {},
   "source": [
    "### 4.处理分类特征"
   ]
  },
  {
   "cell_type": "markdown",
   "metadata": {},
   "source": [
    "#### 标签编码"
   ]
  },
  {
   "cell_type": "code",
   "execution_count": 44,
   "metadata": {},
   "outputs": [],
   "source": [
    "# 标签编码\n",
    "from sklearn.preprocessing import LabelEncoder"
   ]
  },
  {
   "cell_type": "code",
   "execution_count": 48,
   "metadata": {},
   "outputs": [
    {
     "data": {
      "text/html": [
       "<div>\n",
       "<style scoped>\n",
       "    .dataframe tbody tr th:only-of-type {\n",
       "        vertical-align: middle;\n",
       "    }\n",
       "\n",
       "    .dataframe tbody tr th {\n",
       "        vertical-align: top;\n",
       "    }\n",
       "\n",
       "    .dataframe thead th {\n",
       "        text-align: right;\n",
       "    }\n",
       "</style>\n",
       "<table border=\"1\" class=\"dataframe\">\n",
       "  <thead>\n",
       "    <tr style=\"text-align: right;\">\n",
       "      <th></th>\n",
       "      <th>Age</th>\n",
       "      <th>Sex</th>\n",
       "      <th>Embarked</th>\n",
       "      <th>Survived</th>\n",
       "    </tr>\n",
       "  </thead>\n",
       "  <tbody>\n",
       "    <tr>\n",
       "      <th>0</th>\n",
       "      <td>22.0</td>\n",
       "      <td>male</td>\n",
       "      <td>S</td>\n",
       "      <td>No</td>\n",
       "    </tr>\n",
       "    <tr>\n",
       "      <th>1</th>\n",
       "      <td>38.0</td>\n",
       "      <td>female</td>\n",
       "      <td>C</td>\n",
       "      <td>Yes</td>\n",
       "    </tr>\n",
       "    <tr>\n",
       "      <th>2</th>\n",
       "      <td>26.0</td>\n",
       "      <td>female</td>\n",
       "      <td>S</td>\n",
       "      <td>Yes</td>\n",
       "    </tr>\n",
       "    <tr>\n",
       "      <th>3</th>\n",
       "      <td>35.0</td>\n",
       "      <td>female</td>\n",
       "      <td>S</td>\n",
       "      <td>Yes</td>\n",
       "    </tr>\n",
       "    <tr>\n",
       "      <th>4</th>\n",
       "      <td>35.0</td>\n",
       "      <td>male</td>\n",
       "      <td>S</td>\n",
       "      <td>No</td>\n",
       "    </tr>\n",
       "  </tbody>\n",
       "</table>\n",
       "</div>"
      ],
      "text/plain": [
       "    Age     Sex Embarked Survived\n",
       "0  22.0    male        S       No\n",
       "1  38.0  female        C      Yes\n",
       "2  26.0  female        S      Yes\n",
       "3  35.0  female        S      Yes\n",
       "4  35.0    male        S       No"
      ]
     },
     "execution_count": 48,
     "metadata": {},
     "output_type": "execute_result"
    }
   ],
   "source": [
    "# 取出标签\n",
    "Y_label = data.iloc[:,-1]\n",
    "data.head()"
   ]
  },
  {
   "cell_type": "code",
   "execution_count": 49,
   "metadata": {},
   "outputs": [
    {
     "data": {
      "text/plain": [
       "0           No\n",
       "1          Yes\n",
       "2          Yes\n",
       "3          Yes\n",
       "4           No\n",
       "        ...   \n",
       "886         No\n",
       "887        Yes\n",
       "888         No\n",
       "889    Unknown\n",
       "890         No\n",
       "Name: Survived, Length: 891, dtype: object"
      ]
     },
     "execution_count": 49,
     "metadata": {},
     "output_type": "execute_result"
    }
   ],
   "source": [
    "Y_label"
   ]
  },
  {
   "cell_type": "code",
   "execution_count": 50,
   "metadata": {},
   "outputs": [],
   "source": [
    "le = LabelEncoder()"
   ]
  },
  {
   "cell_type": "code",
   "execution_count": 54,
   "metadata": {},
   "outputs": [
    {
     "data": {
      "text/html": [
       "<div>\n",
       "<style scoped>\n",
       "    .dataframe tbody tr th:only-of-type {\n",
       "        vertical-align: middle;\n",
       "    }\n",
       "\n",
       "    .dataframe tbody tr th {\n",
       "        vertical-align: top;\n",
       "    }\n",
       "\n",
       "    .dataframe thead th {\n",
       "        text-align: right;\n",
       "    }\n",
       "</style>\n",
       "<table border=\"1\" class=\"dataframe\">\n",
       "  <thead>\n",
       "    <tr style=\"text-align: right;\">\n",
       "      <th></th>\n",
       "      <th>Age</th>\n",
       "      <th>Sex</th>\n",
       "      <th>Embarked</th>\n",
       "      <th>Survived</th>\n",
       "    </tr>\n",
       "  </thead>\n",
       "  <tbody>\n",
       "    <tr>\n",
       "      <th>0</th>\n",
       "      <td>22.0</td>\n",
       "      <td>male</td>\n",
       "      <td>S</td>\n",
       "      <td>0</td>\n",
       "    </tr>\n",
       "    <tr>\n",
       "      <th>1</th>\n",
       "      <td>38.0</td>\n",
       "      <td>female</td>\n",
       "      <td>C</td>\n",
       "      <td>2</td>\n",
       "    </tr>\n",
       "    <tr>\n",
       "      <th>2</th>\n",
       "      <td>26.0</td>\n",
       "      <td>female</td>\n",
       "      <td>S</td>\n",
       "      <td>2</td>\n",
       "    </tr>\n",
       "    <tr>\n",
       "      <th>3</th>\n",
       "      <td>35.0</td>\n",
       "      <td>female</td>\n",
       "      <td>S</td>\n",
       "      <td>2</td>\n",
       "    </tr>\n",
       "    <tr>\n",
       "      <th>4</th>\n",
       "      <td>35.0</td>\n",
       "      <td>male</td>\n",
       "      <td>S</td>\n",
       "      <td>0</td>\n",
       "    </tr>\n",
       "  </tbody>\n",
       "</table>\n",
       "</div>"
      ],
      "text/plain": [
       "    Age     Sex Embarked  Survived\n",
       "0  22.0    male        S         0\n",
       "1  38.0  female        C         2\n",
       "2  26.0  female        S         2\n",
       "3  35.0  female        S         2\n",
       "4  35.0    male        S         0"
      ]
     },
     "execution_count": 54,
     "metadata": {},
     "output_type": "execute_result"
    }
   ],
   "source": [
    "data.iloc[:, -1] = le.fit_transform(Y_label)\n",
    "data.head()"
   ]
  },
  {
   "cell_type": "code",
   "execution_count": 55,
   "metadata": {},
   "outputs": [
    {
     "data": {
      "text/plain": [
       "array(['No', 'Unknown', 'Yes'], dtype=object)"
      ]
     },
     "execution_count": 55,
     "metadata": {},
     "output_type": "execute_result"
    }
   ],
   "source": [
    "# 标签编码的类别\n",
    "le.classes_"
   ]
  },
  {
   "cell_type": "code",
   "execution_count": 57,
   "metadata": {},
   "outputs": [
    {
     "data": {
      "text/plain": [
       "{}"
      ]
     },
     "execution_count": 57,
     "metadata": {},
     "output_type": "execute_result"
    }
   ],
   "source": [
    "le.get_params()"
   ]
  },
  {
   "cell_type": "markdown",
   "metadata": {},
   "source": [
    "#### 特征编码"
   ]
  },
  {
   "cell_type": "markdown",
   "metadata": {},
   "source": [
    "#### preprocessing.OrdinalEncoder：特征专用，能够将**分类特征转**换为分类数值"
   ]
  },
  {
   "cell_type": "code",
   "execution_count": 60,
   "metadata": {},
   "outputs": [],
   "source": [
    "from sklearn.preprocessing import OrdinalEncoder"
   ]
  },
  {
   "cell_type": "code",
   "execution_count": 61,
   "metadata": {},
   "outputs": [],
   "source": [
    "ord = OrdinalEncoder()\n",
    "data_ = data2.copy()"
   ]
  },
  {
   "cell_type": "code",
   "execution_count": 62,
   "metadata": {},
   "outputs": [
    {
     "data": {
      "text/html": [
       "<div>\n",
       "<style scoped>\n",
       "    .dataframe tbody tr th:only-of-type {\n",
       "        vertical-align: middle;\n",
       "    }\n",
       "\n",
       "    .dataframe tbody tr th {\n",
       "        vertical-align: top;\n",
       "    }\n",
       "\n",
       "    .dataframe thead th {\n",
       "        text-align: right;\n",
       "    }\n",
       "</style>\n",
       "<table border=\"1\" class=\"dataframe\">\n",
       "  <thead>\n",
       "    <tr style=\"text-align: right;\">\n",
       "      <th></th>\n",
       "      <th>Age</th>\n",
       "      <th>Sex</th>\n",
       "      <th>Embarked</th>\n",
       "      <th>Survived</th>\n",
       "    </tr>\n",
       "  </thead>\n",
       "  <tbody>\n",
       "    <tr>\n",
       "      <th>0</th>\n",
       "      <td>22.0</td>\n",
       "      <td>male</td>\n",
       "      <td>S</td>\n",
       "      <td>No</td>\n",
       "    </tr>\n",
       "    <tr>\n",
       "      <th>1</th>\n",
       "      <td>38.0</td>\n",
       "      <td>female</td>\n",
       "      <td>C</td>\n",
       "      <td>Yes</td>\n",
       "    </tr>\n",
       "    <tr>\n",
       "      <th>2</th>\n",
       "      <td>26.0</td>\n",
       "      <td>female</td>\n",
       "      <td>S</td>\n",
       "      <td>Yes</td>\n",
       "    </tr>\n",
       "    <tr>\n",
       "      <th>3</th>\n",
       "      <td>35.0</td>\n",
       "      <td>female</td>\n",
       "      <td>S</td>\n",
       "      <td>Yes</td>\n",
       "    </tr>\n",
       "    <tr>\n",
       "      <th>4</th>\n",
       "      <td>35.0</td>\n",
       "      <td>male</td>\n",
       "      <td>S</td>\n",
       "      <td>No</td>\n",
       "    </tr>\n",
       "  </tbody>\n",
       "</table>\n",
       "</div>"
      ],
      "text/plain": [
       "    Age     Sex Embarked Survived\n",
       "0  22.0    male        S       No\n",
       "1  38.0  female        C      Yes\n",
       "2  26.0  female        S      Yes\n",
       "3  35.0  female        S      Yes\n",
       "4  35.0    male        S       No"
      ]
     },
     "execution_count": 62,
     "metadata": {},
     "output_type": "execute_result"
    }
   ],
   "source": [
    "data_.head()"
   ]
  },
  {
   "cell_type": "code",
   "execution_count": 63,
   "metadata": {},
   "outputs": [
    {
     "data": {
      "text/html": [
       "<div>\n",
       "<style scoped>\n",
       "    .dataframe tbody tr th:only-of-type {\n",
       "        vertical-align: middle;\n",
       "    }\n",
       "\n",
       "    .dataframe tbody tr th {\n",
       "        vertical-align: top;\n",
       "    }\n",
       "\n",
       "    .dataframe thead th {\n",
       "        text-align: right;\n",
       "    }\n",
       "</style>\n",
       "<table border=\"1\" class=\"dataframe\">\n",
       "  <thead>\n",
       "    <tr style=\"text-align: right;\">\n",
       "      <th></th>\n",
       "      <th>Age</th>\n",
       "      <th>Sex</th>\n",
       "      <th>Embarked</th>\n",
       "      <th>Survived</th>\n",
       "    </tr>\n",
       "  </thead>\n",
       "  <tbody>\n",
       "    <tr>\n",
       "      <th>0</th>\n",
       "      <td>28.0</td>\n",
       "      <td>1.0</td>\n",
       "      <td>2.0</td>\n",
       "      <td>No</td>\n",
       "    </tr>\n",
       "    <tr>\n",
       "      <th>1</th>\n",
       "      <td>51.0</td>\n",
       "      <td>0.0</td>\n",
       "      <td>0.0</td>\n",
       "      <td>Yes</td>\n",
       "    </tr>\n",
       "    <tr>\n",
       "      <th>2</th>\n",
       "      <td>34.0</td>\n",
       "      <td>0.0</td>\n",
       "      <td>2.0</td>\n",
       "      <td>Yes</td>\n",
       "    </tr>\n",
       "    <tr>\n",
       "      <th>3</th>\n",
       "      <td>47.0</td>\n",
       "      <td>0.0</td>\n",
       "      <td>2.0</td>\n",
       "      <td>Yes</td>\n",
       "    </tr>\n",
       "    <tr>\n",
       "      <th>4</th>\n",
       "      <td>47.0</td>\n",
       "      <td>1.0</td>\n",
       "      <td>2.0</td>\n",
       "      <td>No</td>\n",
       "    </tr>\n",
       "  </tbody>\n",
       "</table>\n",
       "</div>"
      ],
      "text/plain": [
       "    Age  Sex  Embarked Survived\n",
       "0  28.0  1.0       2.0       No\n",
       "1  51.0  0.0       0.0      Yes\n",
       "2  34.0  0.0       2.0      Yes\n",
       "3  47.0  0.0       2.0      Yes\n",
       "4  47.0  1.0       2.0       No"
      ]
     },
     "execution_count": 63,
     "metadata": {},
     "output_type": "execute_result"
    }
   ],
   "source": [
    "data_.iloc[:, :-1] = ord.fit_transform(data_.iloc[:,:-1])\n",
    "data_.head()"
   ]
  },
  {
   "cell_type": "code",
   "execution_count": 108,
   "metadata": {},
   "outputs": [
    {
     "data": {
      "text/plain": [
       "[array([ 0.42,  0.67,  0.75,  0.83,  0.92,  1.  ,  2.  ,  3.  ,  4.  ,\n",
       "         5.  ,  6.  ,  7.  ,  8.  ,  9.  , 10.  , 11.  , 12.  , 13.  ,\n",
       "        14.  , 14.5 , 15.  , 16.  , 17.  , 18.  , 19.  , 20.  , 20.5 ,\n",
       "        21.  , 22.  , 23.  , 23.5 , 24.  , 24.5 , 25.  , 26.  , 27.  ,\n",
       "        28.  , 28.5 , 29.  , 30.  , 30.5 , 31.  , 32.  , 32.5 , 33.  ,\n",
       "        34.  , 34.5 , 35.  , 36.  , 36.5 , 37.  , 38.  , 39.  , 40.  ,\n",
       "        40.5 , 41.  , 42.  , 43.  , 44.  , 45.  , 45.5 , 46.  , 47.  ,\n",
       "        48.  , 49.  , 50.  , 51.  , 52.  , 53.  , 54.  , 55.  , 55.5 ,\n",
       "        56.  , 57.  , 58.  , 59.  , 60.  , 61.  , 62.  , 63.  , 64.  ,\n",
       "        65.  , 66.  , 70.  , 70.5 , 71.  , 74.  , 80.  ]),\n",
       " array(['female', 'male'], dtype=object),\n",
       " array(['C', 'Q', 'S'], dtype=object)]"
      ]
     },
     "execution_count": 108,
     "metadata": {},
     "output_type": "execute_result"
    }
   ],
   "source": [
    "ord.categories_"
   ]
  },
  {
   "cell_type": "code",
   "execution_count": 109,
   "metadata": {},
   "outputs": [
    {
     "data": {
      "text/html": [
       "<div>\n",
       "<style scoped>\n",
       "    .dataframe tbody tr th:only-of-type {\n",
       "        vertical-align: middle;\n",
       "    }\n",
       "\n",
       "    .dataframe tbody tr th {\n",
       "        vertical-align: top;\n",
       "    }\n",
       "\n",
       "    .dataframe thead th {\n",
       "        text-align: right;\n",
       "    }\n",
       "</style>\n",
       "<table border=\"1\" class=\"dataframe\">\n",
       "  <thead>\n",
       "    <tr style=\"text-align: right;\">\n",
       "      <th></th>\n",
       "      <th>Age</th>\n",
       "      <th>Sex</th>\n",
       "      <th>Embarked</th>\n",
       "      <th>Survived</th>\n",
       "    </tr>\n",
       "  </thead>\n",
       "  <tbody>\n",
       "    <tr>\n",
       "      <th>0</th>\n",
       "      <td>28.0</td>\n",
       "      <td>1.0</td>\n",
       "      <td>2.0</td>\n",
       "      <td>No</td>\n",
       "    </tr>\n",
       "    <tr>\n",
       "      <th>1</th>\n",
       "      <td>51.0</td>\n",
       "      <td>0.0</td>\n",
       "      <td>0.0</td>\n",
       "      <td>Yes</td>\n",
       "    </tr>\n",
       "    <tr>\n",
       "      <th>2</th>\n",
       "      <td>34.0</td>\n",
       "      <td>0.0</td>\n",
       "      <td>2.0</td>\n",
       "      <td>Yes</td>\n",
       "    </tr>\n",
       "    <tr>\n",
       "      <th>3</th>\n",
       "      <td>47.0</td>\n",
       "      <td>0.0</td>\n",
       "      <td>2.0</td>\n",
       "      <td>Yes</td>\n",
       "    </tr>\n",
       "    <tr>\n",
       "      <th>4</th>\n",
       "      <td>47.0</td>\n",
       "      <td>1.0</td>\n",
       "      <td>2.0</td>\n",
       "      <td>No</td>\n",
       "    </tr>\n",
       "  </tbody>\n",
       "</table>\n",
       "</div>"
      ],
      "text/plain": [
       "    Age  Sex  Embarked Survived\n",
       "0  28.0  1.0       2.0       No\n",
       "1  51.0  0.0       0.0      Yes\n",
       "2  34.0  0.0       2.0      Yes\n",
       "3  47.0  0.0       2.0      Yes\n",
       "4  47.0  1.0       2.0       No"
      ]
     },
     "execution_count": 109,
     "metadata": {},
     "output_type": "execute_result"
    }
   ],
   "source": [
    "data_.head()"
   ]
  },
  {
   "cell_type": "code",
   "execution_count": 110,
   "metadata": {},
   "outputs": [
    {
     "name": "stdout",
     "output_type": "stream",
     "text": [
      "<class 'pandas.core.frame.DataFrame'>\n",
      "Int64Index: 889 entries, 0 to 890\n",
      "Data columns (total 4 columns):\n",
      "Age         889 non-null float64\n",
      "Sex         889 non-null float64\n",
      "Embarked    889 non-null float64\n",
      "Survived    889 non-null object\n",
      "dtypes: float64(3), object(1)\n",
      "memory usage: 34.7+ KB\n"
     ]
    }
   ],
   "source": [
    "data_.info()"
   ]
  },
  {
   "cell_type": "code",
   "execution_count": 111,
   "metadata": {},
   "outputs": [
    {
     "data": {
      "image/png": "[encoded data removed]",
      "text/plain": [
       "<Figure size 432x288 with 4 Axes>"
      ]
     },
     "metadata": {
      "needs_background": "light"
     },
     "output_type": "display_data"
    }
   ],
   "source": [
    "data_.hist()\n",
    "plt.show()"
   ]
  },
  {
   "cell_type": "markdown",
   "metadata": {},
   "source": [
    "#### preprocessing.OneHotEncoder：独热编码，创建哑变量"
   ]
  },
  {
   "cell_type": "code",
   "execution_count": 65,
   "metadata": {},
   "outputs": [],
   "source": [
    "from sklearn.preprocessing import OneHotEncoder"
   ]
  },
  {
   "cell_type": "code",
   "execution_count": 77,
   "metadata": {},
   "outputs": [],
   "source": [
    "# 取出特征进行编码\n",
    "fetaure = data2.iloc[:, 1:-1]\n",
    "enc = OneHotEncoder(categories=\"auto\").fit(fetaure)"
   ]
  },
  {
   "cell_type": "code",
   "execution_count": 78,
   "metadata": {},
   "outputs": [
    {
     "data": {
      "text/plain": [
       "<889x5 sparse matrix of type '<class 'numpy.float64'>'\n",
       "\twith 1778 stored elements in Compressed Sparse Row format>"
      ]
     },
     "execution_count": 78,
     "metadata": {},
     "output_type": "execute_result"
    }
   ],
   "source": [
    "result = enc.transform(fetaure)\n",
    "result"
   ]
  },
  {
   "cell_type": "code",
   "execution_count": 79,
   "metadata": {},
   "outputs": [],
   "source": [
    "# 结果\n",
    "pd_result = pd.DataFrame(result.toarray())"
   ]
  },
  {
   "cell_type": "code",
   "execution_count": 80,
   "metadata": {},
   "outputs": [
    {
     "data": {
      "text/plain": [
       "array(['x0_female', 'x0_male', 'x1_C', 'x1_Q', 'x1_S'], dtype=object)"
      ]
     },
     "execution_count": 80,
     "metadata": {},
     "output_type": "execute_result"
    }
   ],
   "source": [
    "# 得到编码的特征名称\n",
    "enc.get_feature_names()"
   ]
  },
  {
   "cell_type": "code",
   "execution_count": 81,
   "metadata": {},
   "outputs": [],
   "source": [
    "# 拼接数据，生成新的数据，删除修的特征\n",
    "newdata = pd.concat([data2, pd_result], axis=1)\n",
    "\n",
    "newdata.drop(labels=[\"Sex\", \"Embarked\"], axis=1, inplace=True)\n",
    "newdata.dropna(inplace=True, axis=0)"
   ]
  },
  {
   "cell_type": "code",
   "execution_count": 82,
   "metadata": {},
   "outputs": [],
   "source": [
    "# 添加新的数据标签\n",
    "newdata.columns = [\"Age\", \"Survived\", 'x0_female', 'x0_male', 'x1_C', 'x1_Q', 'x1_S']"
   ]
  },
  {
   "cell_type": "code",
   "execution_count": 85,
   "metadata": {},
   "outputs": [
    {
     "data": {
      "text/html": [
       "<div>\n",
       "<style scoped>\n",
       "    .dataframe tbody tr th:only-of-type {\n",
       "        vertical-align: middle;\n",
       "    }\n",
       "\n",
       "    .dataframe tbody tr th {\n",
       "        vertical-align: top;\n",
       "    }\n",
       "\n",
       "    .dataframe thead th {\n",
       "        text-align: right;\n",
       "    }\n",
       "</style>\n",
       "<table border=\"1\" class=\"dataframe\">\n",
       "  <thead>\n",
       "    <tr style=\"text-align: right;\">\n",
       "      <th></th>\n",
       "      <th>Age</th>\n",
       "      <th>Survived</th>\n",
       "      <th>x0_female</th>\n",
       "      <th>x0_male</th>\n",
       "      <th>x1_C</th>\n",
       "      <th>x1_Q</th>\n",
       "      <th>x1_S</th>\n",
       "    </tr>\n",
       "  </thead>\n",
       "  <tbody>\n",
       "    <tr>\n",
       "      <th>0</th>\n",
       "      <td>22.0</td>\n",
       "      <td>0</td>\n",
       "      <td>0.0</td>\n",
       "      <td>1.0</td>\n",
       "      <td>0.0</td>\n",
       "      <td>0.0</td>\n",
       "      <td>1.0</td>\n",
       "    </tr>\n",
       "    <tr>\n",
       "      <th>1</th>\n",
       "      <td>38.0</td>\n",
       "      <td>2</td>\n",
       "      <td>1.0</td>\n",
       "      <td>0.0</td>\n",
       "      <td>1.0</td>\n",
       "      <td>0.0</td>\n",
       "      <td>0.0</td>\n",
       "    </tr>\n",
       "    <tr>\n",
       "      <th>2</th>\n",
       "      <td>26.0</td>\n",
       "      <td>2</td>\n",
       "      <td>1.0</td>\n",
       "      <td>0.0</td>\n",
       "      <td>0.0</td>\n",
       "      <td>0.0</td>\n",
       "      <td>1.0</td>\n",
       "    </tr>\n",
       "    <tr>\n",
       "      <th>3</th>\n",
       "      <td>35.0</td>\n",
       "      <td>2</td>\n",
       "      <td>1.0</td>\n",
       "      <td>0.0</td>\n",
       "      <td>0.0</td>\n",
       "      <td>0.0</td>\n",
       "      <td>1.0</td>\n",
       "    </tr>\n",
       "    <tr>\n",
       "      <th>4</th>\n",
       "      <td>35.0</td>\n",
       "      <td>0</td>\n",
       "      <td>0.0</td>\n",
       "      <td>1.0</td>\n",
       "      <td>0.0</td>\n",
       "      <td>0.0</td>\n",
       "      <td>1.0</td>\n",
       "    </tr>\n",
       "  </tbody>\n",
       "</table>\n",
       "</div>"
      ],
      "text/plain": [
       "    Age  Survived  x0_female  x0_male  x1_C  x1_Q  x1_S\n",
       "0  22.0         0        0.0      1.0   0.0   0.0   1.0\n",
       "1  38.0         2        1.0      0.0   1.0   0.0   0.0\n",
       "2  26.0         2        1.0      0.0   0.0   0.0   1.0\n",
       "3  35.0         2        1.0      0.0   0.0   0.0   1.0\n",
       "4  35.0         0        0.0      1.0   0.0   0.0   1.0"
      ]
     },
     "execution_count": 85,
     "metadata": {},
     "output_type": "execute_result"
    }
   ],
   "source": [
    "lbe = LabelEncoder()\n",
    "newdata.loc[:, \"Survived\"] = lbe.fit_transform(newdata.loc[:, \"Survived\"])\n",
    "newdata.head()"
   ]
  },
  {
   "cell_type": "code",
   "execution_count": 84,
   "metadata": {},
   "outputs": [
    {
     "name": "stdout",
     "output_type": "stream",
     "text": [
      "<class 'pandas.core.frame.DataFrame'>\n",
      "Int64Index: 887 entries, 0 to 888\n",
      "Data columns (total 7 columns):\n",
      "Age          887 non-null float64\n",
      "Survived     887 non-null int64\n",
      "x0_female    887 non-null float64\n",
      "x0_male      887 non-null float64\n",
      "x1_C         887 non-null float64\n",
      "x1_Q         887 non-null float64\n",
      "x1_S         887 non-null float64\n",
      "dtypes: float64(6), int64(1)\n",
      "memory usage: 55.4 KB\n"
     ]
    }
   ],
   "source": [
    "newdata.info()"
   ]
  },
  {
   "cell_type": "code",
   "execution_count": 192,
   "metadata": {},
   "outputs": [
    {
     "data": {
      "image/png": "[encoded data removed]",
      "text/plain": [
       "<Figure size 864x864 with 9 Axes>"
      ]
     },
     "metadata": {
      "needs_background": "light"
     },
     "output_type": "display_data"
    }
   ],
   "source": [
    "newdata.hist(figsize=(12, 12))\n",
    "plt.savefig(\"imgs/data_hist.png\")\n",
    "plt.show()"
   ]
  },
  {
   "cell_type": "code",
   "execution_count": 193,
   "metadata": {},
   "outputs": [],
   "source": [
    "# 数据保存\n",
    "newdata.to_csv(\"./data/newdata\")"
   ]
  },
  {
   "cell_type": "markdown",
   "metadata": {},
   "source": [
    "### 5.处理连续特征"
   ]
  },
  {
   "cell_type": "markdown",
   "metadata": {},
   "source": [
    "#### 二分类"
   ]
  },
  {
   "cell_type": "code",
   "execution_count": 87,
   "metadata": {},
   "outputs": [
    {
     "data": {
      "text/html": [
       "<div>\n",
       "<style scoped>\n",
       "    .dataframe tbody tr th:only-of-type {\n",
       "        vertical-align: middle;\n",
       "    }\n",
       "\n",
       "    .dataframe tbody tr th {\n",
       "        vertical-align: top;\n",
       "    }\n",
       "\n",
       "    .dataframe thead th {\n",
       "        text-align: right;\n",
       "    }\n",
       "</style>\n",
       "<table border=\"1\" class=\"dataframe\">\n",
       "  <thead>\n",
       "    <tr style=\"text-align: right;\">\n",
       "      <th></th>\n",
       "      <th>Age</th>\n",
       "      <th>Sex</th>\n",
       "      <th>Embarked</th>\n",
       "      <th>Survived</th>\n",
       "    </tr>\n",
       "  </thead>\n",
       "  <tbody>\n",
       "    <tr>\n",
       "      <th>0</th>\n",
       "      <td>22.0</td>\n",
       "      <td>male</td>\n",
       "      <td>S</td>\n",
       "      <td>No</td>\n",
       "    </tr>\n",
       "    <tr>\n",
       "      <th>1</th>\n",
       "      <td>38.0</td>\n",
       "      <td>female</td>\n",
       "      <td>C</td>\n",
       "      <td>Yes</td>\n",
       "    </tr>\n",
       "    <tr>\n",
       "      <th>2</th>\n",
       "      <td>26.0</td>\n",
       "      <td>female</td>\n",
       "      <td>S</td>\n",
       "      <td>Yes</td>\n",
       "    </tr>\n",
       "    <tr>\n",
       "      <th>3</th>\n",
       "      <td>35.0</td>\n",
       "      <td>female</td>\n",
       "      <td>S</td>\n",
       "      <td>Yes</td>\n",
       "    </tr>\n",
       "    <tr>\n",
       "      <th>4</th>\n",
       "      <td>35.0</td>\n",
       "      <td>male</td>\n",
       "      <td>S</td>\n",
       "      <td>No</td>\n",
       "    </tr>\n",
       "  </tbody>\n",
       "</table>\n",
       "</div>"
      ],
      "text/plain": [
       "    Age     Sex Embarked Survived\n",
       "0  22.0    male        S       No\n",
       "1  38.0  female        C      Yes\n",
       "2  26.0  female        S      Yes\n",
       "3  35.0  female        S      Yes\n",
       "4  35.0    male        S       No"
      ]
     },
     "execution_count": 87,
     "metadata": {},
     "output_type": "execute_result"
    }
   ],
   "source": [
    "data3 = data2.copy()\n",
    "data3.head()"
   ]
  },
  {
   "cell_type": "code",
   "execution_count": 88,
   "metadata": {},
   "outputs": [],
   "source": [
    "# 年龄是连续属性的特征\n",
    "from sklearn.preprocessing import Binarizer\n",
    "Age_feature = data3.iloc[:, 0].values.reshape(-1, 1) # 注意：处理特征要是二维数据"
   ]
  },
  {
   "cell_type": "code",
   "execution_count": 90,
   "metadata": {},
   "outputs": [
    {
     "data": {
      "text/plain": [
       "303.0"
      ]
     },
     "execution_count": 90,
     "metadata": {},
     "output_type": "execute_result"
    }
   ],
   "source": [
    "ba = Binarizer(threshold=30)\n",
    "age = ba.fit_transform(Age_feature)\n",
    "age.sum()"
   ]
  },
  {
   "cell_type": "code",
   "execution_count": 219,
   "metadata": {},
   "outputs": [
    {
     "data": {
      "text/plain": [
       "{'copy': True, 'threshold': 30}"
      ]
     },
     "execution_count": 219,
     "metadata": {},
     "output_type": "execute_result"
    }
   ],
   "source": [
    "ba.get_params()"
   ]
  },
  {
   "cell_type": "code",
   "execution_count": 217,
   "metadata": {},
   "outputs": [
    {
     "data": {
      "image/png": "[encoded data removed]",
      "text/plain": [
       "<Figure size 432x288 with 1 Axes>"
      ]
     },
     "metadata": {
      "needs_background": "light"
     },
     "output_type": "display_data"
    }
   ],
   "source": [
    "plt.hist(age, color=\"orange\")\n",
    "plt.show()"
   ]
  },
  {
   "cell_type": "markdown",
   "metadata": {},
   "source": [
    "#### 多分类"
   ]
  },
  {
   "cell_type": "code",
   "execution_count": 99,
   "metadata": {},
   "outputs": [],
   "source": [
    "from sklearn.preprocessing import KBinsDiscretizer"
   ]
  },
  {
   "cell_type": "code",
   "execution_count": 100,
   "metadata": {},
   "outputs": [
    {
     "data": {
      "text/plain": [
       "(889, 1)"
      ]
     },
     "execution_count": 100,
     "metadata": {},
     "output_type": "execute_result"
    }
   ],
   "source": [
    "X = data2.iloc[:, 0].values.reshape(-1, 1)\n",
    "X.shape"
   ]
  },
  {
   "cell_type": "code",
   "execution_count": 107,
   "metadata": {},
   "outputs": [
    {
     "name": "stdout",
     "output_type": "stream",
     "text": [
      "{0.0, 1.0, 2.0}\n"
     ]
    },
    {
     "data": {
      "image/png": "[encoded data removed]",
      "text/plain": [
       "<Figure size 432x288 with 1 Axes>"
      ]
     },
     "metadata": {
      "needs_background": "light"
     },
     "output_type": "display_data"
    }
   ],
   "source": [
    "# 等位分箱\n",
    "est = KBinsDiscretizer(n_bins=3, encode=\"ordinal\", strategy=\"quantile\")\n",
    "print(set(est.fit_transform(X).ravel()))\n",
    "plt.hist(est.fit_transform(X))\n",
    "plt.show()"
   ]
  },
  {
   "cell_type": "code",
   "execution_count": 102,
   "metadata": {},
   "outputs": [
    {
     "data": {
      "text/plain": [
       "array([[1., 0., 0.],\n",
       "       [0., 0., 1.],\n",
       "       [0., 1., 0.],\n",
       "       ...,\n",
       "       [0., 1., 0.],\n",
       "       [0., 1., 0.],\n",
       "       [0., 0., 1.]])"
      ]
     },
     "execution_count": 102,
     "metadata": {},
     "output_type": "execute_result"
    }
   ],
   "source": [
    "est = KBinsDiscretizer(n_bins=3, encode=\"onehot\", strategy=\"quantile\")\n",
    "est.fit_transform(X).toarray()"
   ]
  },
  {
   "cell_type": "code",
   "execution_count": 103,
   "metadata": {
    "collapsed": true,
    "jupyter": {
     "outputs_hidden": true
    }
   },
   "outputs": [
    {
     "data": {
      "text/plain": [
       "array([[12.71],\n",
       "       [55.5 ],\n",
       "       [28.  ],\n",
       "       [55.5 ],\n",
       "       [55.5 ],\n",
       "       [28.  ],\n",
       "       [55.5 ],\n",
       "       [12.71],\n",
       "       [28.  ],\n",
       "       [12.71],\n",
       "       [12.71],\n",
       "       [55.5 ],\n",
       "       [12.71],\n",
       "       [55.5 ],\n",
       "       [12.71],\n",
       "       [55.5 ],\n",
       "       [12.71],\n",
       "       [28.  ],\n",
       "       [55.5 ],\n",
       "       [28.  ],\n",
       "       [55.5 ],\n",
       "       [55.5 ],\n",
       "       [12.71],\n",
       "       [28.  ],\n",
       "       [12.71],\n",
       "       [55.5 ],\n",
       "       [28.  ],\n",
       "       [12.71],\n",
       "       [28.  ],\n",
       "       [28.  ],\n",
       "       [55.5 ],\n",
       "       [28.  ],\n",
       "       [28.  ],\n",
       "       [55.5 ],\n",
       "       [28.  ],\n",
       "       [55.5 ],\n",
       "       [28.  ],\n",
       "       [12.71],\n",
       "       [12.71],\n",
       "       [12.71],\n",
       "       [55.5 ],\n",
       "       [28.  ],\n",
       "       [28.  ],\n",
       "       [12.71],\n",
       "       [12.71],\n",
       "       [28.  ],\n",
       "       [28.  ],\n",
       "       [28.  ],\n",
       "       [28.  ],\n",
       "       [12.71],\n",
       "       [12.71],\n",
       "       [12.71],\n",
       "       [55.5 ],\n",
       "       [28.  ],\n",
       "       [55.5 ],\n",
       "       [28.  ],\n",
       "       [12.71],\n",
       "       [28.  ],\n",
       "       [12.71],\n",
       "       [12.71],\n",
       "       [12.71],\n",
       "       [55.5 ],\n",
       "       [12.71],\n",
       "       [28.  ],\n",
       "       [28.  ],\n",
       "       [28.  ],\n",
       "       [12.71],\n",
       "       [12.71],\n",
       "       [28.  ],\n",
       "       [55.5 ],\n",
       "       [12.71],\n",
       "       [12.71],\n",
       "       [28.  ],\n",
       "       [55.5 ],\n",
       "       [28.  ],\n",
       "       [28.  ],\n",
       "       [28.  ],\n",
       "       [12.71],\n",
       "       [28.  ],\n",
       "       [12.71],\n",
       "       [28.  ],\n",
       "       [28.  ],\n",
       "       [28.  ],\n",
       "       [12.71],\n",
       "       [55.5 ],\n",
       "       [12.71],\n",
       "       [28.  ],\n",
       "       [12.71],\n",
       "       [12.71],\n",
       "       [28.  ],\n",
       "       [12.71],\n",
       "       [55.5 ],\n",
       "       [28.  ],\n",
       "       [55.5 ],\n",
       "       [28.  ],\n",
       "       [55.5 ],\n",
       "       [12.71],\n",
       "       [55.5 ],\n",
       "       [55.5 ],\n",
       "       [28.  ],\n",
       "       [28.  ],\n",
       "       [12.71],\n",
       "       [55.5 ],\n",
       "       [55.5 ],\n",
       "       [28.  ],\n",
       "       [12.71],\n",
       "       [28.  ],\n",
       "       [55.5 ],\n",
       "       [28.  ],\n",
       "       [55.5 ],\n",
       "       [12.71],\n",
       "       [12.71],\n",
       "       [12.71],\n",
       "       [12.71],\n",
       "       [12.71],\n",
       "       [55.5 ],\n",
       "       [28.  ],\n",
       "       [12.71],\n",
       "       [12.71],\n",
       "       [12.71],\n",
       "       [28.  ],\n",
       "       [55.5 ],\n",
       "       [55.5 ],\n",
       "       [55.5 ],\n",
       "       [12.71],\n",
       "       [28.  ],\n",
       "       [12.71],\n",
       "       [28.  ],\n",
       "       [55.5 ],\n",
       "       [55.5 ],\n",
       "       [12.71],\n",
       "       [55.5 ],\n",
       "       [28.  ],\n",
       "       [28.  ],\n",
       "       [12.71],\n",
       "       [12.71],\n",
       "       [55.5 ],\n",
       "       [12.71],\n",
       "       [12.71],\n",
       "       [28.  ],\n",
       "       [12.71],\n",
       "       [12.71],\n",
       "       [12.71],\n",
       "       [12.71],\n",
       "       [12.71],\n",
       "       [28.  ],\n",
       "       [12.71],\n",
       "       [55.5 ],\n",
       "       [55.5 ],\n",
       "       [55.5 ],\n",
       "       [12.71],\n",
       "       [55.5 ],\n",
       "       [55.5 ],\n",
       "       [28.  ],\n",
       "       [55.5 ],\n",
       "       [12.71],\n",
       "       [28.  ],\n",
       "       [28.  ],\n",
       "       [28.  ],\n",
       "       [55.5 ],\n",
       "       [55.5 ],\n",
       "       [28.  ],\n",
       "       [12.71],\n",
       "       [12.71],\n",
       "       [12.71],\n",
       "       [28.  ],\n",
       "       [55.5 ],\n",
       "       [28.  ],\n",
       "       [28.  ],\n",
       "       [55.5 ],\n",
       "       [12.71],\n",
       "       [12.71],\n",
       "       [12.71],\n",
       "       [55.5 ],\n",
       "       [12.71],\n",
       "       [28.  ],\n",
       "       [55.5 ],\n",
       "       [28.  ],\n",
       "       [55.5 ],\n",
       "       [28.  ],\n",
       "       [28.  ],\n",
       "       [12.71],\n",
       "       [12.71],\n",
       "       [12.71],\n",
       "       [28.  ],\n",
       "       [28.  ],\n",
       "       [55.5 ],\n",
       "       [55.5 ],\n",
       "       [55.5 ],\n",
       "       [55.5 ],\n",
       "       [12.71],\n",
       "       [12.71],\n",
       "       [12.71],\n",
       "       [55.5 ],\n",
       "       [55.5 ],\n",
       "       [28.  ],\n",
       "       [55.5 ],\n",
       "       [28.  ],\n",
       "       [12.71],\n",
       "       [28.  ],\n",
       "       [28.  ],\n",
       "       [55.5 ],\n",
       "       [55.5 ],\n",
       "       [12.71],\n",
       "       [12.71],\n",
       "       [55.5 ],\n",
       "       [28.  ],\n",
       "       [12.71],\n",
       "       [55.5 ],\n",
       "       [12.71],\n",
       "       [55.5 ],\n",
       "       [12.71],\n",
       "       [28.  ],\n",
       "       [28.  ],\n",
       "       [55.5 ],\n",
       "       [28.  ],\n",
       "       [55.5 ],\n",
       "       [55.5 ],\n",
       "       [28.  ],\n",
       "       [12.71],\n",
       "       [28.  ],\n",
       "       [55.5 ],\n",
       "       [28.  ],\n",
       "       [55.5 ],\n",
       "       [12.71],\n",
       "       [12.71],\n",
       "       [12.71],\n",
       "       [12.71],\n",
       "       [28.  ],\n",
       "       [55.5 ],\n",
       "       [28.  ],\n",
       "       [55.5 ],\n",
       "       [12.71],\n",
       "       [12.71],\n",
       "       [28.  ],\n",
       "       [55.5 ],\n",
       "       [12.71],\n",
       "       [12.71],\n",
       "       [55.5 ],\n",
       "       [28.  ],\n",
       "       [28.  ],\n",
       "       [28.  ],\n",
       "       [12.71],\n",
       "       [28.  ],\n",
       "       [55.5 ],\n",
       "       [28.  ],\n",
       "       [12.71],\n",
       "       [55.5 ],\n",
       "       [55.5 ],\n",
       "       [28.  ],\n",
       "       [28.  ],\n",
       "       [55.5 ],\n",
       "       [28.  ],\n",
       "       [55.5 ],\n",
       "       [28.  ],\n",
       "       [28.  ],\n",
       "       [28.  ],\n",
       "       [55.5 ],\n",
       "       [55.5 ],\n",
       "       [28.  ],\n",
       "       [12.71],\n",
       "       [55.5 ],\n",
       "       [55.5 ],\n",
       "       [28.  ],\n",
       "       [55.5 ],\n",
       "       [12.71],\n",
       "       [28.  ],\n",
       "       [55.5 ],\n",
       "       [55.5 ],\n",
       "       [28.  ],\n",
       "       [28.  ],\n",
       "       [55.5 ],\n",
       "       [55.5 ],\n",
       "       [28.  ],\n",
       "       [55.5 ],\n",
       "       [55.5 ],\n",
       "       [28.  ],\n",
       "       [12.71],\n",
       "       [55.5 ],\n",
       "       [55.5 ],\n",
       "       [28.  ],\n",
       "       [12.71],\n",
       "       [12.71],\n",
       "       [28.  ],\n",
       "       [55.5 ],\n",
       "       [28.  ],\n",
       "       [12.71],\n",
       "       [55.5 ],\n",
       "       [12.71],\n",
       "       [28.  ],\n",
       "       [12.71],\n",
       "       [55.5 ],\n",
       "       [12.71],\n",
       "       [12.71],\n",
       "       [28.  ],\n",
       "       [12.71],\n",
       "       [12.71],\n",
       "       [28.  ],\n",
       "       [55.5 ],\n",
       "       [28.  ],\n",
       "       [28.  ],\n",
       "       [12.71],\n",
       "       [28.  ],\n",
       "       [28.  ],\n",
       "       [12.71],\n",
       "       [28.  ],\n",
       "       [12.71],\n",
       "       [28.  ],\n",
       "       [28.  ],\n",
       "       [12.71],\n",
       "       [12.71],\n",
       "       [28.  ],\n",
       "       [28.  ],\n",
       "       [55.5 ],\n",
       "       [28.  ],\n",
       "       [12.71],\n",
       "       [55.5 ],\n",
       "       [55.5 ],\n",
       "       [55.5 ],\n",
       "       [12.71],\n",
       "       [28.  ],\n",
       "       [28.  ],\n",
       "       [12.71],\n",
       "       [28.  ],\n",
       "       [55.5 ],\n",
       "       [55.5 ],\n",
       "       [55.5 ],\n",
       "       [55.5 ],\n",
       "       [12.71],\n",
       "       [28.  ],\n",
       "       [55.5 ],\n",
       "       [55.5 ],\n",
       "       [12.71],\n",
       "       [28.  ],\n",
       "       [28.  ],\n",
       "       [28.  ],\n",
       "       [55.5 ],\n",
       "       [55.5 ],\n",
       "       [55.5 ],\n",
       "       [12.71],\n",
       "       [12.71],\n",
       "       [28.  ],\n",
       "       [28.  ],\n",
       "       [55.5 ],\n",
       "       [12.71],\n",
       "       [55.5 ],\n",
       "       [28.  ],\n",
       "       [12.71],\n",
       "       [55.5 ],\n",
       "       [12.71],\n",
       "       [28.  ],\n",
       "       [12.71],\n",
       "       [28.  ],\n",
       "       [28.  ],\n",
       "       [28.  ],\n",
       "       [12.71],\n",
       "       [55.5 ],\n",
       "       [28.  ],\n",
       "       [28.  ],\n",
       "       [55.5 ],\n",
       "       [28.  ],\n",
       "       [55.5 ],\n",
       "       [55.5 ],\n",
       "       [28.  ],\n",
       "       [28.  ],\n",
       "       [55.5 ],\n",
       "       [28.  ],\n",
       "       [28.  ],\n",
       "       [12.71],\n",
       "       [28.  ],\n",
       "       [12.71],\n",
       "       [12.71],\n",
       "       [12.71],\n",
       "       [12.71],\n",
       "       [28.  ],\n",
       "       [12.71],\n",
       "       [28.  ],\n",
       "       [12.71],\n",
       "       [12.71],\n",
       "       [55.5 ],\n",
       "       [12.71],\n",
       "       [55.5 ],\n",
       "       [55.5 ],\n",
       "       [28.  ],\n",
       "       [12.71],\n",
       "       [12.71],\n",
       "       [55.5 ],\n",
       "       [28.  ],\n",
       "       [12.71],\n",
       "       [55.5 ],\n",
       "       [12.71],\n",
       "       [28.  ],\n",
       "       [12.71],\n",
       "       [12.71],\n",
       "       [12.71],\n",
       "       [55.5 ],\n",
       "       [55.5 ],\n",
       "       [12.71],\n",
       "       [28.  ],\n",
       "       [55.5 ],\n",
       "       [28.  ],\n",
       "       [12.71],\n",
       "       [28.  ],\n",
       "       [12.71],\n",
       "       [55.5 ],\n",
       "       [55.5 ],\n",
       "       [12.71],\n",
       "       [12.71],\n",
       "       [28.  ],\n",
       "       [28.  ],\n",
       "       [28.  ],\n",
       "       [55.5 ],\n",
       "       [28.  ],\n",
       "       [55.5 ],\n",
       "       [28.  ],\n",
       "       [55.5 ],\n",
       "       [12.71],\n",
       "       [28.  ],\n",
       "       [12.71],\n",
       "       [28.  ],\n",
       "       [12.71],\n",
       "       [28.  ],\n",
       "       [28.  ],\n",
       "       [12.71],\n",
       "       [28.  ],\n",
       "       [28.  ],\n",
       "       [12.71],\n",
       "       [28.  ],\n",
       "       [55.5 ],\n",
       "       [28.  ],\n",
       "       [28.  ],\n",
       "       [55.5 ],\n",
       "       [12.71],\n",
       "       [55.5 ],\n",
       "       [12.71],\n",
       "       [12.71],\n",
       "       [12.71],\n",
       "       [55.5 ],\n",
       "       [55.5 ],\n",
       "       [55.5 ],\n",
       "       [12.71],\n",
       "       [28.  ],\n",
       "       [28.  ],\n",
       "       [28.  ],\n",
       "       [12.71],\n",
       "       [12.71],\n",
       "       [55.5 ],\n",
       "       [12.71],\n",
       "       [55.5 ],\n",
       "       [55.5 ],\n",
       "       [28.  ],\n",
       "       [28.  ],\n",
       "       [55.5 ],\n",
       "       [28.  ],\n",
       "       [28.  ],\n",
       "       [55.5 ],\n",
       "       [28.  ],\n",
       "       [55.5 ],\n",
       "       [28.  ],\n",
       "       [55.5 ],\n",
       "       [55.5 ],\n",
       "       [55.5 ],\n",
       "       [55.5 ],\n",
       "       [28.  ],\n",
       "       [55.5 ],\n",
       "       [28.  ],\n",
       "       [55.5 ],\n",
       "       [28.  ],\n",
       "       [12.71],\n",
       "       [28.  ],\n",
       "       [55.5 ],\n",
       "       [55.5 ],\n",
       "       [12.71],\n",
       "       [12.71],\n",
       "       [28.  ],\n",
       "       [55.5 ],\n",
       "       [28.  ],\n",
       "       [12.71],\n",
       "       [12.71],\n",
       "       [12.71],\n",
       "       [28.  ],\n",
       "       [55.5 ],\n",
       "       [55.5 ],\n",
       "       [28.  ],\n",
       "       [28.  ],\n",
       "       [55.5 ],\n",
       "       [55.5 ],\n",
       "       [28.  ],\n",
       "       [12.71],\n",
       "       [28.  ],\n",
       "       [12.71],\n",
       "       [55.5 ],\n",
       "       [55.5 ],\n",
       "       [12.71],\n",
       "       [28.  ],\n",
       "       [55.5 ],\n",
       "       [28.  ],\n",
       "       [28.  ],\n",
       "       [12.71],\n",
       "       [12.71],\n",
       "       [12.71],\n",
       "       [28.  ],\n",
       "       [55.5 ],\n",
       "       [12.71],\n",
       "       [12.71],\n",
       "       [55.5 ],\n",
       "       [28.  ],\n",
       "       [28.  ],\n",
       "       [28.  ],\n",
       "       [28.  ],\n",
       "       [28.  ],\n",
       "       [55.5 ],\n",
       "       [55.5 ],\n",
       "       [12.71],\n",
       "       [55.5 ],\n",
       "       [55.5 ],\n",
       "       [28.  ],\n",
       "       [55.5 ],\n",
       "       [55.5 ],\n",
       "       [28.  ],\n",
       "       [12.71],\n",
       "       [28.  ],\n",
       "       [55.5 ],\n",
       "       [28.  ],\n",
       "       [55.5 ],\n",
       "       [55.5 ],\n",
       "       [28.  ],\n",
       "       [55.5 ],\n",
       "       [12.71],\n",
       "       [12.71],\n",
       "       [28.  ],\n",
       "       [12.71],\n",
       "       [28.  ],\n",
       "       [28.  ],\n",
       "       [12.71],\n",
       "       [55.5 ],\n",
       "       [28.  ],\n",
       "       [28.  ],\n",
       "       [12.71],\n",
       "       [55.5 ],\n",
       "       [12.71],\n",
       "       [12.71],\n",
       "       [55.5 ],\n",
       "       [55.5 ],\n",
       "       [55.5 ],\n",
       "       [12.71],\n",
       "       [28.  ],\n",
       "       [55.5 ],\n",
       "       [12.71],\n",
       "       [12.71],\n",
       "       [28.  ],\n",
       "       [28.  ],\n",
       "       [12.71],\n",
       "       [12.71],\n",
       "       [55.5 ],\n",
       "       [55.5 ],\n",
       "       [28.  ],\n",
       "       [55.5 ],\n",
       "       [55.5 ],\n",
       "       [28.  ],\n",
       "       [55.5 ],\n",
       "       [28.  ],\n",
       "       [28.  ],\n",
       "       [28.  ],\n",
       "       [12.71],\n",
       "       [12.71],\n",
       "       [28.  ],\n",
       "       [28.  ],\n",
       "       [55.5 ],\n",
       "       [55.5 ],\n",
       "       [55.5 ],\n",
       "       [55.5 ],\n",
       "       [28.  ],\n",
       "       [12.71],\n",
       "       [12.71],\n",
       "       [55.5 ],\n",
       "       [55.5 ],\n",
       "       [28.  ],\n",
       "       [55.5 ],\n",
       "       [28.  ],\n",
       "       [55.5 ],\n",
       "       [55.5 ],\n",
       "       [55.5 ],\n",
       "       [28.  ],\n",
       "       [12.71],\n",
       "       [55.5 ],\n",
       "       [55.5 ],\n",
       "       [12.71],\n",
       "       [28.  ],\n",
       "       [55.5 ],\n",
       "       [55.5 ],\n",
       "       [55.5 ],\n",
       "       [28.  ],\n",
       "       [55.5 ],\n",
       "       [55.5 ],\n",
       "       [28.  ],\n",
       "       [55.5 ],\n",
       "       [28.  ],\n",
       "       [55.5 ],\n",
       "       [12.71],\n",
       "       [28.  ],\n",
       "       [28.  ],\n",
       "       [55.5 ],\n",
       "       [55.5 ],\n",
       "       [55.5 ],\n",
       "       [28.  ],\n",
       "       [28.  ],\n",
       "       [12.71],\n",
       "       [55.5 ],\n",
       "       [55.5 ],\n",
       "       [28.  ],\n",
       "       [28.  ],\n",
       "       [28.  ],\n",
       "       [55.5 ],\n",
       "       [12.71],\n",
       "       [55.5 ],\n",
       "       [28.  ],\n",
       "       [12.71],\n",
       "       [28.  ],\n",
       "       [28.  ],\n",
       "       [55.5 ],\n",
       "       [12.71],\n",
       "       [12.71],\n",
       "       [12.71],\n",
       "       [55.5 ],\n",
       "       [55.5 ],\n",
       "       [12.71],\n",
       "       [28.  ],\n",
       "       [28.  ],\n",
       "       [55.5 ],\n",
       "       [55.5 ],\n",
       "       [55.5 ],\n",
       "       [28.  ],\n",
       "       [12.71],\n",
       "       [28.  ],\n",
       "       [55.5 ],\n",
       "       [55.5 ],\n",
       "       [55.5 ],\n",
       "       [28.  ],\n",
       "       [12.71],\n",
       "       [12.71],\n",
       "       [12.71],\n",
       "       [28.  ],\n",
       "       [12.71],\n",
       "       [55.5 ],\n",
       "       [12.71],\n",
       "       [55.5 ],\n",
       "       [28.  ],\n",
       "       [12.71],\n",
       "       [28.  ],\n",
       "       [12.71],\n",
       "       [12.71],\n",
       "       [28.  ],\n",
       "       [12.71],\n",
       "       [12.71],\n",
       "       [28.  ],\n",
       "       [55.5 ],\n",
       "       [12.71],\n",
       "       [55.5 ],\n",
       "       [55.5 ],\n",
       "       [55.5 ],\n",
       "       [55.5 ],\n",
       "       [55.5 ],\n",
       "       [12.71],\n",
       "       [55.5 ],\n",
       "       [28.  ],\n",
       "       [28.  ],\n",
       "       [55.5 ],\n",
       "       [28.  ],\n",
       "       [55.5 ],\n",
       "       [55.5 ],\n",
       "       [55.5 ],\n",
       "       [55.5 ],\n",
       "       [28.  ],\n",
       "       [12.71],\n",
       "       [12.71],\n",
       "       [12.71],\n",
       "       [55.5 ],\n",
       "       [55.5 ],\n",
       "       [28.  ],\n",
       "       [28.  ],\n",
       "       [12.71],\n",
       "       [12.71],\n",
       "       [55.5 ],\n",
       "       [28.  ],\n",
       "       [12.71],\n",
       "       [12.71],\n",
       "       [12.71],\n",
       "       [12.71],\n",
       "       [55.5 ],\n",
       "       [12.71],\n",
       "       [28.  ],\n",
       "       [28.  ],\n",
       "       [55.5 ],\n",
       "       [55.5 ],\n",
       "       [55.5 ],\n",
       "       [28.  ],\n",
       "       [55.5 ],\n",
       "       [55.5 ],\n",
       "       [12.71],\n",
       "       [55.5 ],\n",
       "       [12.71],\n",
       "       [28.  ],\n",
       "       [28.  ],\n",
       "       [55.5 ],\n",
       "       [55.5 ],\n",
       "       [55.5 ],\n",
       "       [12.71],\n",
       "       [28.  ],\n",
       "       [12.71],\n",
       "       [28.  ],\n",
       "       [55.5 ],\n",
       "       [28.  ],\n",
       "       [55.5 ],\n",
       "       [12.71],\n",
       "       [55.5 ],\n",
       "       [28.  ],\n",
       "       [28.  ],\n",
       "       [55.5 ],\n",
       "       [12.71],\n",
       "       [12.71],\n",
       "       [55.5 ],\n",
       "       [55.5 ],\n",
       "       [28.  ],\n",
       "       [12.71],\n",
       "       [28.  ],\n",
       "       [28.  ],\n",
       "       [28.  ],\n",
       "       [28.  ],\n",
       "       [28.  ],\n",
       "       [12.71],\n",
       "       [28.  ],\n",
       "       [12.71],\n",
       "       [12.71],\n",
       "       [28.  ],\n",
       "       [55.5 ],\n",
       "       [55.5 ],\n",
       "       [28.  ],\n",
       "       [28.  ],\n",
       "       [28.  ],\n",
       "       [55.5 ],\n",
       "       [12.71],\n",
       "       [12.71],\n",
       "       [55.5 ],\n",
       "       [55.5 ],\n",
       "       [12.71],\n",
       "       [28.  ],\n",
       "       [12.71],\n",
       "       [55.5 ],\n",
       "       [12.71],\n",
       "       [12.71],\n",
       "       [55.5 ],\n",
       "       [12.71],\n",
       "       [55.5 ],\n",
       "       [12.71],\n",
       "       [28.  ],\n",
       "       [12.71],\n",
       "       [55.5 ],\n",
       "       [55.5 ],\n",
       "       [28.  ],\n",
       "       [55.5 ],\n",
       "       [12.71],\n",
       "       [55.5 ],\n",
       "       [12.71],\n",
       "       [55.5 ],\n",
       "       [28.  ],\n",
       "       [28.  ],\n",
       "       [28.  ],\n",
       "       [55.5 ],\n",
       "       [12.71],\n",
       "       [55.5 ],\n",
       "       [55.5 ],\n",
       "       [28.  ],\n",
       "       [55.5 ],\n",
       "       [12.71],\n",
       "       [28.  ],\n",
       "       [12.71],\n",
       "       [28.  ],\n",
       "       [55.5 ],\n",
       "       [12.71],\n",
       "       [12.71],\n",
       "       [28.  ],\n",
       "       [28.  ],\n",
       "       [28.  ],\n",
       "       [28.  ],\n",
       "       [12.71],\n",
       "       [12.71],\n",
       "       [12.71],\n",
       "       [55.5 ],\n",
       "       [28.  ],\n",
       "       [12.71],\n",
       "       [28.  ],\n",
       "       [28.  ],\n",
       "       [28.  ],\n",
       "       [55.5 ],\n",
       "       [55.5 ],\n",
       "       [55.5 ],\n",
       "       [28.  ],\n",
       "       [28.  ],\n",
       "       [55.5 ],\n",
       "       [55.5 ],\n",
       "       [12.71],\n",
       "       [12.71],\n",
       "       [28.  ],\n",
       "       [55.5 ],\n",
       "       [55.5 ],\n",
       "       [12.71],\n",
       "       [55.5 ],\n",
       "       [55.5 ],\n",
       "       [28.  ],\n",
       "       [55.5 ],\n",
       "       [55.5 ],\n",
       "       [12.71],\n",
       "       [28.  ],\n",
       "       [28.  ],\n",
       "       [12.71],\n",
       "       [55.5 ],\n",
       "       [55.5 ],\n",
       "       [12.71],\n",
       "       [55.5 ],\n",
       "       [28.  ],\n",
       "       [55.5 ],\n",
       "       [28.  ],\n",
       "       [12.71],\n",
       "       [28.  ],\n",
       "       [28.  ],\n",
       "       [12.71],\n",
       "       [28.  ],\n",
       "       [12.71],\n",
       "       [12.71],\n",
       "       [28.  ],\n",
       "       [12.71],\n",
       "       [12.71],\n",
       "       [55.5 ],\n",
       "       [12.71],\n",
       "       [28.  ],\n",
       "       [55.5 ],\n",
       "       [28.  ],\n",
       "       [12.71],\n",
       "       [12.71],\n",
       "       [28.  ],\n",
       "       [55.5 ],\n",
       "       [12.71],\n",
       "       [55.5 ],\n",
       "       [28.  ],\n",
       "       [55.5 ],\n",
       "       [28.  ],\n",
       "       [28.  ],\n",
       "       [12.71],\n",
       "       [55.5 ],\n",
       "       [12.71],\n",
       "       [12.71],\n",
       "       [55.5 ],\n",
       "       [12.71],\n",
       "       [55.5 ],\n",
       "       [55.5 ],\n",
       "       [12.71],\n",
       "       [28.  ],\n",
       "       [55.5 ],\n",
       "       [12.71],\n",
       "       [55.5 ],\n",
       "       [28.  ],\n",
       "       [12.71],\n",
       "       [55.5 ],\n",
       "       [28.  ],\n",
       "       [55.5 ],\n",
       "       [28.  ],\n",
       "       [12.71],\n",
       "       [28.  ],\n",
       "       [55.5 ],\n",
       "       [55.5 ],\n",
       "       [55.5 ],\n",
       "       [28.  ],\n",
       "       [12.71],\n",
       "       [12.71],\n",
       "       [12.71],\n",
       "       [28.  ],\n",
       "       [55.5 ],\n",
       "       [28.  ],\n",
       "       [55.5 ],\n",
       "       [12.71],\n",
       "       [28.  ],\n",
       "       [28.  ],\n",
       "       [55.5 ],\n",
       "       [28.  ],\n",
       "       [12.71],\n",
       "       [28.  ],\n",
       "       [28.  ],\n",
       "       [55.5 ]])"
      ]
     },
     "execution_count": 103,
     "metadata": {},
     "output_type": "execute_result"
    }
   ],
   "source": [
    "est.inverse_transform(est.fit_transform(X))"
   ]
  },
  {
   "cell_type": "code",
   "execution_count": null,
   "metadata": {},
   "outputs": [],
   "source": []
  },
  {
   "cell_type": "code",
   "execution_count": null,
   "metadata": {},
   "outputs": [],
   "source": []
  },
  {
   "cell_type": "code",
   "execution_count": null,
   "metadata": {},
   "outputs": [],
   "source": []
  }
 ],
 "metadata": {
  "kernelspec": {
   "display_name": "Python 3",
   "language": "python",
   "name": "python3"
  },
  "language_info": {
   "codemirror_mode": {
    "name": "ipython",
    "version": 3
   },
   "file_extension": ".py",
   "mimetype": "text/x-python",
   "name": "python",
   "nbconvert_exporter": "python",
   "pygments_lexer": "ipython3",
   "version": "3.6.5"
  }
 },
 "nbformat": 4,
 "nbformat_minor": 4
}
