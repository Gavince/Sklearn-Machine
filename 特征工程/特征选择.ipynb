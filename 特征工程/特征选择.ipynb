{
 "cells": [
  {
   "cell_type": "markdown",
   "metadata": {},
   "source": [
    "## 特征选择"
   ]
  },
  {
   "cell_type": "code",
   "execution_count": 1,
   "metadata": {},
   "outputs": [],
   "source": [
    "import pandas as pd\n",
    "import numpy as np\n",
    "import matplotlib.pyplot as plt\n",
    "%matplotlib inline"
   ]
  },
  {
   "cell_type": "code",
   "execution_count": 2,
   "metadata": {},
   "outputs": [],
   "source": [
    "data = pd.read_csv(\"./data/digit recognizor.csv\")"
   ]
  },
  {
   "cell_type": "code",
   "execution_count": 3,
   "metadata": {},
   "outputs": [
    {
     "data": {
      "text/plain": [
       "(42000, 785)"
      ]
     },
     "execution_count": 3,
     "metadata": {},
     "output_type": "execute_result"
    }
   ],
   "source": [
    "data.shape"
   ]
  },
  {
   "cell_type": "code",
   "execution_count": 4,
   "metadata": {},
   "outputs": [
    {
     "data": {
      "text/html": [
       "<div>\n",
       "<style scoped>\n",
       "    .dataframe tbody tr th:only-of-type {\n",
       "        vertical-align: middle;\n",
       "    }\n",
       "\n",
       "    .dataframe tbody tr th {\n",
       "        vertical-align: top;\n",
       "    }\n",
       "\n",
       "    .dataframe thead th {\n",
       "        text-align: right;\n",
       "    }\n",
       "</style>\n",
       "<table border=\"1\" class=\"dataframe\">\n",
       "  <thead>\n",
       "    <tr style=\"text-align: right;\">\n",
       "      <th></th>\n",
       "      <th>label</th>\n",
       "      <th>pixel0</th>\n",
       "      <th>pixel1</th>\n",
       "      <th>pixel2</th>\n",
       "      <th>pixel3</th>\n",
       "      <th>pixel4</th>\n",
       "      <th>pixel5</th>\n",
       "      <th>pixel6</th>\n",
       "      <th>pixel7</th>\n",
       "      <th>pixel8</th>\n",
       "      <th>...</th>\n",
       "      <th>pixel774</th>\n",
       "      <th>pixel775</th>\n",
       "      <th>pixel776</th>\n",
       "      <th>pixel777</th>\n",
       "      <th>pixel778</th>\n",
       "      <th>pixel779</th>\n",
       "      <th>pixel780</th>\n",
       "      <th>pixel781</th>\n",
       "      <th>pixel782</th>\n",
       "      <th>pixel783</th>\n",
       "    </tr>\n",
       "  </thead>\n",
       "  <tbody>\n",
       "    <tr>\n",
       "      <th>0</th>\n",
       "      <td>1</td>\n",
       "      <td>0</td>\n",
       "      <td>0</td>\n",
       "      <td>0</td>\n",
       "      <td>0</td>\n",
       "      <td>0</td>\n",
       "      <td>0</td>\n",
       "      <td>0</td>\n",
       "      <td>0</td>\n",
       "      <td>0</td>\n",
       "      <td>...</td>\n",
       "      <td>0</td>\n",
       "      <td>0</td>\n",
       "      <td>0</td>\n",
       "      <td>0</td>\n",
       "      <td>0</td>\n",
       "      <td>0</td>\n",
       "      <td>0</td>\n",
       "      <td>0</td>\n",
       "      <td>0</td>\n",
       "      <td>0</td>\n",
       "    </tr>\n",
       "    <tr>\n",
       "      <th>1</th>\n",
       "      <td>0</td>\n",
       "      <td>0</td>\n",
       "      <td>0</td>\n",
       "      <td>0</td>\n",
       "      <td>0</td>\n",
       "      <td>0</td>\n",
       "      <td>0</td>\n",
       "      <td>0</td>\n",
       "      <td>0</td>\n",
       "      <td>0</td>\n",
       "      <td>...</td>\n",
       "      <td>0</td>\n",
       "      <td>0</td>\n",
       "      <td>0</td>\n",
       "      <td>0</td>\n",
       "      <td>0</td>\n",
       "      <td>0</td>\n",
       "      <td>0</td>\n",
       "      <td>0</td>\n",
       "      <td>0</td>\n",
       "      <td>0</td>\n",
       "    </tr>\n",
       "    <tr>\n",
       "      <th>2</th>\n",
       "      <td>1</td>\n",
       "      <td>0</td>\n",
       "      <td>0</td>\n",
       "      <td>0</td>\n",
       "      <td>0</td>\n",
       "      <td>0</td>\n",
       "      <td>0</td>\n",
       "      <td>0</td>\n",
       "      <td>0</td>\n",
       "      <td>0</td>\n",
       "      <td>...</td>\n",
       "      <td>0</td>\n",
       "      <td>0</td>\n",
       "      <td>0</td>\n",
       "      <td>0</td>\n",
       "      <td>0</td>\n",
       "      <td>0</td>\n",
       "      <td>0</td>\n",
       "      <td>0</td>\n",
       "      <td>0</td>\n",
       "      <td>0</td>\n",
       "    </tr>\n",
       "    <tr>\n",
       "      <th>3</th>\n",
       "      <td>4</td>\n",
       "      <td>0</td>\n",
       "      <td>0</td>\n",
       "      <td>0</td>\n",
       "      <td>0</td>\n",
       "      <td>0</td>\n",
       "      <td>0</td>\n",
       "      <td>0</td>\n",
       "      <td>0</td>\n",
       "      <td>0</td>\n",
       "      <td>...</td>\n",
       "      <td>0</td>\n",
       "      <td>0</td>\n",
       "      <td>0</td>\n",
       "      <td>0</td>\n",
       "      <td>0</td>\n",
       "      <td>0</td>\n",
       "      <td>0</td>\n",
       "      <td>0</td>\n",
       "      <td>0</td>\n",
       "      <td>0</td>\n",
       "    </tr>\n",
       "    <tr>\n",
       "      <th>4</th>\n",
       "      <td>0</td>\n",
       "      <td>0</td>\n",
       "      <td>0</td>\n",
       "      <td>0</td>\n",
       "      <td>0</td>\n",
       "      <td>0</td>\n",
       "      <td>0</td>\n",
       "      <td>0</td>\n",
       "      <td>0</td>\n",
       "      <td>0</td>\n",
       "      <td>...</td>\n",
       "      <td>0</td>\n",
       "      <td>0</td>\n",
       "      <td>0</td>\n",
       "      <td>0</td>\n",
       "      <td>0</td>\n",
       "      <td>0</td>\n",
       "      <td>0</td>\n",
       "      <td>0</td>\n",
       "      <td>0</td>\n",
       "      <td>0</td>\n",
       "    </tr>\n",
       "  </tbody>\n",
       "</table>\n",
       "<p>5 rows × 785 columns</p>\n",
       "</div>"
      ],
      "text/plain": [
       "   label  pixel0  pixel1  pixel2  pixel3  pixel4  pixel5  pixel6  pixel7  \\\n",
       "0      1       0       0       0       0       0       0       0       0   \n",
       "1      0       0       0       0       0       0       0       0       0   \n",
       "2      1       0       0       0       0       0       0       0       0   \n",
       "3      4       0       0       0       0       0       0       0       0   \n",
       "4      0       0       0       0       0       0       0       0       0   \n",
       "\n",
       "   pixel8  ...  pixel774  pixel775  pixel776  pixel777  pixel778  pixel779  \\\n",
       "0       0  ...         0         0         0         0         0         0   \n",
       "1       0  ...         0         0         0         0         0         0   \n",
       "2       0  ...         0         0         0         0         0         0   \n",
       "3       0  ...         0         0         0         0         0         0   \n",
       "4       0  ...         0         0         0         0         0         0   \n",
       "\n",
       "   pixel780  pixel781  pixel782  pixel783  \n",
       "0         0         0         0         0  \n",
       "1         0         0         0         0  \n",
       "2         0         0         0         0  \n",
       "3         0         0         0         0  \n",
       "4         0         0         0         0  \n",
       "\n",
       "[5 rows x 785 columns]"
      ]
     },
     "execution_count": 4,
     "metadata": {},
     "output_type": "execute_result"
    }
   ],
   "source": [
    "data.head()"
   ]
  },
  {
   "cell_type": "code",
   "execution_count": 5,
   "metadata": {},
   "outputs": [
    {
     "name": "stdout",
     "output_type": "stream",
     "text": [
      "<class 'pandas.core.frame.DataFrame'>\n",
      "RangeIndex: 42000 entries, 0 to 41999\n",
      "Columns: 785 entries, label to pixel783\n",
      "dtypes: int64(785)\n",
      "memory usage: 251.5 MB\n"
     ]
    }
   ],
   "source": [
    "data.info()"
   ]
  },
  {
   "cell_type": "code",
   "execution_count": 6,
   "metadata": {},
   "outputs": [],
   "source": [
    "# 读取数据\n",
    "x = data.iloc[:, 1:]\n",
    "y = data.iloc[:, 0]"
   ]
  },
  {
   "cell_type": "markdown",
   "metadata": {},
   "source": [
    "### 方差过滤  \n",
    "方差过小表示数据本身的差异性很小，可能每一个样本在当前特征下的取值都相同，所以这个特征几乎是没有用的"
   ]
  },
  {
   "cell_type": "code",
   "execution_count": 7,
   "metadata": {},
   "outputs": [],
   "source": [
    "from sklearn.feature_selection import VarianceThreshold"
   ]
  },
  {
   "cell_type": "code",
   "execution_count": 8,
   "metadata": {},
   "outputs": [],
   "source": [
    "selector = VarianceThreshold()\n",
    "x_var = selector.fit_transform(x)"
   ]
  },
  {
   "cell_type": "code",
   "execution_count": 9,
   "metadata": {},
   "outputs": [
    {
     "data": {
      "text/html": [
       "<div>\n",
       "<style scoped>\n",
       "    .dataframe tbody tr th:only-of-type {\n",
       "        vertical-align: middle;\n",
       "    }\n",
       "\n",
       "    .dataframe tbody tr th {\n",
       "        vertical-align: top;\n",
       "    }\n",
       "\n",
       "    .dataframe thead th {\n",
       "        text-align: right;\n",
       "    }\n",
       "</style>\n",
       "<table border=\"1\" class=\"dataframe\">\n",
       "  <thead>\n",
       "    <tr style=\"text-align: right;\">\n",
       "      <th></th>\n",
       "      <th>0</th>\n",
       "      <th>1</th>\n",
       "      <th>2</th>\n",
       "      <th>3</th>\n",
       "      <th>4</th>\n",
       "      <th>5</th>\n",
       "      <th>6</th>\n",
       "      <th>7</th>\n",
       "      <th>8</th>\n",
       "      <th>9</th>\n",
       "      <th>...</th>\n",
       "      <th>698</th>\n",
       "      <th>699</th>\n",
       "      <th>700</th>\n",
       "      <th>701</th>\n",
       "      <th>702</th>\n",
       "      <th>703</th>\n",
       "      <th>704</th>\n",
       "      <th>705</th>\n",
       "      <th>706</th>\n",
       "      <th>707</th>\n",
       "    </tr>\n",
       "  </thead>\n",
       "  <tbody>\n",
       "    <tr>\n",
       "      <th>0</th>\n",
       "      <td>0</td>\n",
       "      <td>0</td>\n",
       "      <td>0</td>\n",
       "      <td>0</td>\n",
       "      <td>0</td>\n",
       "      <td>0</td>\n",
       "      <td>0</td>\n",
       "      <td>0</td>\n",
       "      <td>0</td>\n",
       "      <td>0</td>\n",
       "      <td>...</td>\n",
       "      <td>0</td>\n",
       "      <td>0</td>\n",
       "      <td>0</td>\n",
       "      <td>0</td>\n",
       "      <td>0</td>\n",
       "      <td>0</td>\n",
       "      <td>0</td>\n",
       "      <td>0</td>\n",
       "      <td>0</td>\n",
       "      <td>0</td>\n",
       "    </tr>\n",
       "    <tr>\n",
       "      <th>1</th>\n",
       "      <td>0</td>\n",
       "      <td>0</td>\n",
       "      <td>0</td>\n",
       "      <td>0</td>\n",
       "      <td>0</td>\n",
       "      <td>0</td>\n",
       "      <td>0</td>\n",
       "      <td>0</td>\n",
       "      <td>0</td>\n",
       "      <td>0</td>\n",
       "      <td>...</td>\n",
       "      <td>0</td>\n",
       "      <td>0</td>\n",
       "      <td>0</td>\n",
       "      <td>0</td>\n",
       "      <td>0</td>\n",
       "      <td>0</td>\n",
       "      <td>0</td>\n",
       "      <td>0</td>\n",
       "      <td>0</td>\n",
       "      <td>0</td>\n",
       "    </tr>\n",
       "    <tr>\n",
       "      <th>2</th>\n",
       "      <td>0</td>\n",
       "      <td>0</td>\n",
       "      <td>0</td>\n",
       "      <td>0</td>\n",
       "      <td>0</td>\n",
       "      <td>0</td>\n",
       "      <td>0</td>\n",
       "      <td>0</td>\n",
       "      <td>0</td>\n",
       "      <td>0</td>\n",
       "      <td>...</td>\n",
       "      <td>0</td>\n",
       "      <td>0</td>\n",
       "      <td>0</td>\n",
       "      <td>0</td>\n",
       "      <td>0</td>\n",
       "      <td>0</td>\n",
       "      <td>0</td>\n",
       "      <td>0</td>\n",
       "      <td>0</td>\n",
       "      <td>0</td>\n",
       "    </tr>\n",
       "    <tr>\n",
       "      <th>3</th>\n",
       "      <td>0</td>\n",
       "      <td>0</td>\n",
       "      <td>0</td>\n",
       "      <td>0</td>\n",
       "      <td>0</td>\n",
       "      <td>0</td>\n",
       "      <td>0</td>\n",
       "      <td>0</td>\n",
       "      <td>0</td>\n",
       "      <td>0</td>\n",
       "      <td>...</td>\n",
       "      <td>0</td>\n",
       "      <td>0</td>\n",
       "      <td>0</td>\n",
       "      <td>0</td>\n",
       "      <td>0</td>\n",
       "      <td>0</td>\n",
       "      <td>0</td>\n",
       "      <td>0</td>\n",
       "      <td>0</td>\n",
       "      <td>0</td>\n",
       "    </tr>\n",
       "    <tr>\n",
       "      <th>4</th>\n",
       "      <td>0</td>\n",
       "      <td>0</td>\n",
       "      <td>0</td>\n",
       "      <td>0</td>\n",
       "      <td>0</td>\n",
       "      <td>0</td>\n",
       "      <td>0</td>\n",
       "      <td>0</td>\n",
       "      <td>0</td>\n",
       "      <td>0</td>\n",
       "      <td>...</td>\n",
       "      <td>0</td>\n",
       "      <td>0</td>\n",
       "      <td>0</td>\n",
       "      <td>0</td>\n",
       "      <td>0</td>\n",
       "      <td>0</td>\n",
       "      <td>0</td>\n",
       "      <td>0</td>\n",
       "      <td>0</td>\n",
       "      <td>0</td>\n",
       "    </tr>\n",
       "  </tbody>\n",
       "</table>\n",
       "<p>5 rows × 708 columns</p>\n",
       "</div>"
      ],
      "text/plain": [
       "   0    1    2    3    4    5    6    7    8    9    ...  698  699  700  701  \\\n",
       "0    0    0    0    0    0    0    0    0    0    0  ...    0    0    0    0   \n",
       "1    0    0    0    0    0    0    0    0    0    0  ...    0    0    0    0   \n",
       "2    0    0    0    0    0    0    0    0    0    0  ...    0    0    0    0   \n",
       "3    0    0    0    0    0    0    0    0    0    0  ...    0    0    0    0   \n",
       "4    0    0    0    0    0    0    0    0    0    0  ...    0    0    0    0   \n",
       "\n",
       "   702  703  704  705  706  707  \n",
       "0    0    0    0    0    0    0  \n",
       "1    0    0    0    0    0    0  \n",
       "2    0    0    0    0    0    0  \n",
       "3    0    0    0    0    0    0  \n",
       "4    0    0    0    0    0    0  \n",
       "\n",
       "[5 rows x 708 columns]"
      ]
     },
     "execution_count": 9,
     "metadata": {},
     "output_type": "execute_result"
    }
   ],
   "source": [
    "pd.DataFrame(x_var).head()"
   ]
  },
  {
   "cell_type": "code",
   "execution_count": 10,
   "metadata": {},
   "outputs": [
    {
     "data": {
      "text/html": [
       "<div>\n",
       "<style scoped>\n",
       "    .dataframe tbody tr th:only-of-type {\n",
       "        vertical-align: middle;\n",
       "    }\n",
       "\n",
       "    .dataframe tbody tr th {\n",
       "        vertical-align: top;\n",
       "    }\n",
       "\n",
       "    .dataframe thead th {\n",
       "        text-align: right;\n",
       "    }\n",
       "</style>\n",
       "<table border=\"1\" class=\"dataframe\">\n",
       "  <thead>\n",
       "    <tr style=\"text-align: right;\">\n",
       "      <th></th>\n",
       "      <th>0</th>\n",
       "      <th>1</th>\n",
       "      <th>2</th>\n",
       "      <th>3</th>\n",
       "      <th>4</th>\n",
       "      <th>5</th>\n",
       "      <th>6</th>\n",
       "      <th>7</th>\n",
       "      <th>8</th>\n",
       "      <th>9</th>\n",
       "      <th>...</th>\n",
       "      <th>382</th>\n",
       "      <th>383</th>\n",
       "      <th>384</th>\n",
       "      <th>385</th>\n",
       "      <th>386</th>\n",
       "      <th>387</th>\n",
       "      <th>388</th>\n",
       "      <th>389</th>\n",
       "      <th>390</th>\n",
       "      <th>391</th>\n",
       "    </tr>\n",
       "  </thead>\n",
       "  <tbody>\n",
       "    <tr>\n",
       "      <th>0</th>\n",
       "      <td>0</td>\n",
       "      <td>0</td>\n",
       "      <td>0</td>\n",
       "      <td>0</td>\n",
       "      <td>0</td>\n",
       "      <td>0</td>\n",
       "      <td>0</td>\n",
       "      <td>0</td>\n",
       "      <td>0</td>\n",
       "      <td>0</td>\n",
       "      <td>...</td>\n",
       "      <td>0</td>\n",
       "      <td>0</td>\n",
       "      <td>0</td>\n",
       "      <td>0</td>\n",
       "      <td>0</td>\n",
       "      <td>0</td>\n",
       "      <td>0</td>\n",
       "      <td>0</td>\n",
       "      <td>0</td>\n",
       "      <td>0</td>\n",
       "    </tr>\n",
       "    <tr>\n",
       "      <th>1</th>\n",
       "      <td>0</td>\n",
       "      <td>0</td>\n",
       "      <td>0</td>\n",
       "      <td>0</td>\n",
       "      <td>0</td>\n",
       "      <td>0</td>\n",
       "      <td>0</td>\n",
       "      <td>0</td>\n",
       "      <td>18</td>\n",
       "      <td>30</td>\n",
       "      <td>...</td>\n",
       "      <td>0</td>\n",
       "      <td>0</td>\n",
       "      <td>0</td>\n",
       "      <td>0</td>\n",
       "      <td>0</td>\n",
       "      <td>0</td>\n",
       "      <td>0</td>\n",
       "      <td>0</td>\n",
       "      <td>0</td>\n",
       "      <td>0</td>\n",
       "    </tr>\n",
       "    <tr>\n",
       "      <th>2</th>\n",
       "      <td>0</td>\n",
       "      <td>0</td>\n",
       "      <td>0</td>\n",
       "      <td>0</td>\n",
       "      <td>0</td>\n",
       "      <td>0</td>\n",
       "      <td>0</td>\n",
       "      <td>0</td>\n",
       "      <td>0</td>\n",
       "      <td>0</td>\n",
       "      <td>...</td>\n",
       "      <td>0</td>\n",
       "      <td>0</td>\n",
       "      <td>0</td>\n",
       "      <td>0</td>\n",
       "      <td>0</td>\n",
       "      <td>0</td>\n",
       "      <td>0</td>\n",
       "      <td>0</td>\n",
       "      <td>0</td>\n",
       "      <td>0</td>\n",
       "    </tr>\n",
       "    <tr>\n",
       "      <th>3</th>\n",
       "      <td>0</td>\n",
       "      <td>0</td>\n",
       "      <td>0</td>\n",
       "      <td>0</td>\n",
       "      <td>0</td>\n",
       "      <td>0</td>\n",
       "      <td>0</td>\n",
       "      <td>0</td>\n",
       "      <td>0</td>\n",
       "      <td>0</td>\n",
       "      <td>...</td>\n",
       "      <td>6</td>\n",
       "      <td>0</td>\n",
       "      <td>0</td>\n",
       "      <td>0</td>\n",
       "      <td>0</td>\n",
       "      <td>0</td>\n",
       "      <td>0</td>\n",
       "      <td>0</td>\n",
       "      <td>0</td>\n",
       "      <td>0</td>\n",
       "    </tr>\n",
       "    <tr>\n",
       "      <th>4</th>\n",
       "      <td>0</td>\n",
       "      <td>0</td>\n",
       "      <td>0</td>\n",
       "      <td>0</td>\n",
       "      <td>0</td>\n",
       "      <td>0</td>\n",
       "      <td>0</td>\n",
       "      <td>1</td>\n",
       "      <td>25</td>\n",
       "      <td>130</td>\n",
       "      <td>...</td>\n",
       "      <td>0</td>\n",
       "      <td>0</td>\n",
       "      <td>0</td>\n",
       "      <td>0</td>\n",
       "      <td>0</td>\n",
       "      <td>0</td>\n",
       "      <td>0</td>\n",
       "      <td>0</td>\n",
       "      <td>0</td>\n",
       "      <td>0</td>\n",
       "    </tr>\n",
       "    <tr>\n",
       "      <th>...</th>\n",
       "      <td>...</td>\n",
       "      <td>...</td>\n",
       "      <td>...</td>\n",
       "      <td>...</td>\n",
       "      <td>...</td>\n",
       "      <td>...</td>\n",
       "      <td>...</td>\n",
       "      <td>...</td>\n",
       "      <td>...</td>\n",
       "      <td>...</td>\n",
       "      <td>...</td>\n",
       "      <td>...</td>\n",
       "      <td>...</td>\n",
       "      <td>...</td>\n",
       "      <td>...</td>\n",
       "      <td>...</td>\n",
       "      <td>...</td>\n",
       "      <td>...</td>\n",
       "      <td>...</td>\n",
       "      <td>...</td>\n",
       "      <td>...</td>\n",
       "    </tr>\n",
       "    <tr>\n",
       "      <th>41995</th>\n",
       "      <td>0</td>\n",
       "      <td>0</td>\n",
       "      <td>0</td>\n",
       "      <td>0</td>\n",
       "      <td>0</td>\n",
       "      <td>0</td>\n",
       "      <td>0</td>\n",
       "      <td>0</td>\n",
       "      <td>0</td>\n",
       "      <td>0</td>\n",
       "      <td>...</td>\n",
       "      <td>0</td>\n",
       "      <td>0</td>\n",
       "      <td>0</td>\n",
       "      <td>0</td>\n",
       "      <td>0</td>\n",
       "      <td>0</td>\n",
       "      <td>0</td>\n",
       "      <td>0</td>\n",
       "      <td>0</td>\n",
       "      <td>0</td>\n",
       "    </tr>\n",
       "    <tr>\n",
       "      <th>41996</th>\n",
       "      <td>0</td>\n",
       "      <td>0</td>\n",
       "      <td>0</td>\n",
       "      <td>0</td>\n",
       "      <td>0</td>\n",
       "      <td>0</td>\n",
       "      <td>0</td>\n",
       "      <td>0</td>\n",
       "      <td>0</td>\n",
       "      <td>0</td>\n",
       "      <td>...</td>\n",
       "      <td>0</td>\n",
       "      <td>0</td>\n",
       "      <td>0</td>\n",
       "      <td>0</td>\n",
       "      <td>0</td>\n",
       "      <td>0</td>\n",
       "      <td>0</td>\n",
       "      <td>0</td>\n",
       "      <td>0</td>\n",
       "      <td>0</td>\n",
       "    </tr>\n",
       "    <tr>\n",
       "      <th>41997</th>\n",
       "      <td>0</td>\n",
       "      <td>0</td>\n",
       "      <td>0</td>\n",
       "      <td>0</td>\n",
       "      <td>0</td>\n",
       "      <td>0</td>\n",
       "      <td>0</td>\n",
       "      <td>0</td>\n",
       "      <td>0</td>\n",
       "      <td>0</td>\n",
       "      <td>...</td>\n",
       "      <td>0</td>\n",
       "      <td>0</td>\n",
       "      <td>128</td>\n",
       "      <td>255</td>\n",
       "      <td>255</td>\n",
       "      <td>255</td>\n",
       "      <td>128</td>\n",
       "      <td>0</td>\n",
       "      <td>0</td>\n",
       "      <td>0</td>\n",
       "    </tr>\n",
       "    <tr>\n",
       "      <th>41998</th>\n",
       "      <td>0</td>\n",
       "      <td>0</td>\n",
       "      <td>0</td>\n",
       "      <td>146</td>\n",
       "      <td>237</td>\n",
       "      <td>252</td>\n",
       "      <td>189</td>\n",
       "      <td>0</td>\n",
       "      <td>0</td>\n",
       "      <td>0</td>\n",
       "      <td>...</td>\n",
       "      <td>0</td>\n",
       "      <td>0</td>\n",
       "      <td>0</td>\n",
       "      <td>0</td>\n",
       "      <td>0</td>\n",
       "      <td>0</td>\n",
       "      <td>0</td>\n",
       "      <td>0</td>\n",
       "      <td>0</td>\n",
       "      <td>0</td>\n",
       "    </tr>\n",
       "    <tr>\n",
       "      <th>41999</th>\n",
       "      <td>0</td>\n",
       "      <td>0</td>\n",
       "      <td>0</td>\n",
       "      <td>0</td>\n",
       "      <td>0</td>\n",
       "      <td>0</td>\n",
       "      <td>0</td>\n",
       "      <td>0</td>\n",
       "      <td>0</td>\n",
       "      <td>0</td>\n",
       "      <td>...</td>\n",
       "      <td>0</td>\n",
       "      <td>0</td>\n",
       "      <td>0</td>\n",
       "      <td>0</td>\n",
       "      <td>0</td>\n",
       "      <td>0</td>\n",
       "      <td>0</td>\n",
       "      <td>74</td>\n",
       "      <td>250</td>\n",
       "      <td>59</td>\n",
       "    </tr>\n",
       "  </tbody>\n",
       "</table>\n",
       "<p>42000 rows × 392 columns</p>\n",
       "</div>"
      ],
      "text/plain": [
       "       0    1    2    3    4    5    6    7    8    9    ...  382  383  384  \\\n",
       "0        0    0    0    0    0    0    0    0    0    0  ...    0    0    0   \n",
       "1        0    0    0    0    0    0    0    0   18   30  ...    0    0    0   \n",
       "2        0    0    0    0    0    0    0    0    0    0  ...    0    0    0   \n",
       "3        0    0    0    0    0    0    0    0    0    0  ...    6    0    0   \n",
       "4        0    0    0    0    0    0    0    1   25  130  ...    0    0    0   \n",
       "...    ...  ...  ...  ...  ...  ...  ...  ...  ...  ...  ...  ...  ...  ...   \n",
       "41995    0    0    0    0    0    0    0    0    0    0  ...    0    0    0   \n",
       "41996    0    0    0    0    0    0    0    0    0    0  ...    0    0    0   \n",
       "41997    0    0    0    0    0    0    0    0    0    0  ...    0    0  128   \n",
       "41998    0    0    0  146  237  252  189    0    0    0  ...    0    0    0   \n",
       "41999    0    0    0    0    0    0    0    0    0    0  ...    0    0    0   \n",
       "\n",
       "       385  386  387  388  389  390  391  \n",
       "0        0    0    0    0    0    0    0  \n",
       "1        0    0    0    0    0    0    0  \n",
       "2        0    0    0    0    0    0    0  \n",
       "3        0    0    0    0    0    0    0  \n",
       "4        0    0    0    0    0    0    0  \n",
       "...    ...  ...  ...  ...  ...  ...  ...  \n",
       "41995    0    0    0    0    0    0    0  \n",
       "41996    0    0    0    0    0    0    0  \n",
       "41997  255  255  255  128    0    0    0  \n",
       "41998    0    0    0    0    0    0    0  \n",
       "41999    0    0    0    0   74  250   59  \n",
       "\n",
       "[42000 rows x 392 columns]"
      ]
     },
     "execution_count": 10,
     "metadata": {},
     "output_type": "execute_result"
    }
   ],
   "source": [
    "## 留下一半的特征\n",
    "var_x = VarianceThreshold( np.median(x.var().values))\n",
    "pd.DataFrame(var_x.fit_transform(x))"
   ]
  },
  {
   "cell_type": "code",
   "execution_count": 11,
   "metadata": {},
   "outputs": [
    {
     "data": {
      "text/plain": [
       "(42000, 685)"
      ]
     },
     "execution_count": 11,
     "metadata": {},
     "output_type": "execute_result"
    }
   ],
   "source": [
    "x_bvar = VarianceThreshold(0.8 * (1-.8))\n",
    "x_bvar.fit_transform(x).shape"
   ]
  },
  {
   "cell_type": "markdown",
   "metadata": {},
   "source": [
    "#### 方差过滤的效果"
   ]
  },
  {
   "cell_type": "code",
   "execution_count": 12,
   "metadata": {},
   "outputs": [],
   "source": [
    "from sklearn.ensemble import RandomForestClassifier\n",
    "from sklearn.neighbors import KNeighborsClassifier\n",
    "from sklearn.model_selection import cross_val_score"
   ]
  },
  {
   "cell_type": "code",
   "execution_count": 13,
   "metadata": {},
   "outputs": [],
   "source": [
    "X = data.iloc[:, 1:]\n",
    "Y = data.iloc[:, 0]"
   ]
  },
  {
   "cell_type": "code",
   "execution_count": 73,
   "metadata": {},
   "outputs": [
    {
     "data": {
      "text/plain": [
       "0.9658569700264943"
      ]
     },
     "execution_count": 73,
     "metadata": {},
     "output_type": "execute_result"
    }
   ],
   "source": [
    "## KNN\n",
    "knn = KNeighborsClassifier()\n",
    "cross_val_score(knn, X, Y, cv=5).mean()"
   ]
  },
  {
   "cell_type": "code",
   "execution_count": 14,
   "metadata": {},
   "outputs": [
    {
     "data": {
      "text/plain": [
       "0.9404290938131181"
      ]
     },
     "execution_count": 14,
     "metadata": {},
     "output_type": "execute_result"
    }
   ],
   "source": [
    "rfc =  RandomForestClassifier(n_estimators=10, random_state=10)\n",
    "cross_val_score(rfc, X, Y, cv=10).mean()"
   ]
  },
  {
   "cell_type": "code",
   "execution_count": 59,
   "metadata": {},
   "outputs": [
    {
     "data": {
      "image/png": "[encoded data removed]",
      "text/plain": [
       "<Figure size 432x288 with 1 Axes>"
      ]
     },
     "metadata": {
      "needs_background": "light"
     },
     "output_type": "display_data"
    }
   ],
   "source": [
    "#　学习曲线的绘制\n",
    "score = []\n",
    "for i in range(10, 100, 10):\n",
    "    rfc =  RandomForestClassifier(n_estimators=i, random_state=10)\n",
    "    score.append(cross_val_score(rfc, X, Y, cv=10).mean())\n",
    "\n",
    "plt.plot(range(10, 100, 10), score)\n",
    "plt.show()"
   ]
  },
  {
   "cell_type": "code",
   "execution_count": 16,
   "metadata": {},
   "outputs": [],
   "source": [
    "#　使用方差过滤\n",
    "Var_X = VarianceThreshold(threshold=np.median(X.var().values))\n",
    "Var_X = Var_X.fit_transform(X)"
   ]
  },
  {
   "cell_type": "code",
   "execution_count": 17,
   "metadata": {},
   "outputs": [
    {
     "data": {
      "text/plain": [
       "(42000, 392)"
      ]
     },
     "execution_count": 17,
     "metadata": {},
     "output_type": "execute_result"
    }
   ],
   "source": [
    "Var_X.shape"
   ]
  },
  {
   "cell_type": "code",
   "execution_count": 88,
   "metadata": {},
   "outputs": [
    {
     "data": {
      "text/plain": [
       "0.9650717945587776"
      ]
     },
     "execution_count": 88,
     "metadata": {},
     "output_type": "execute_result"
    }
   ],
   "source": [
    "# 随机森林 方差未过滤\n",
    "%%time\n",
    "rfc = RandomForestClassifier(random_state=10, n_estimators=100)\n",
    "cross_val_score(rfc, X, y, cv=10).mean()"
   ]
  },
  {
   "cell_type": "code",
   "execution_count": 18,
   "metadata": {},
   "outputs": [
    {
     "name": "stdout",
     "output_type": "stream",
     "text": [
      "0.965953064611079\n",
      "CPU times: user 3min 46s, sys: 973 ms, total: 3min 47s\n",
      "Wall time: 3min 47s\n"
     ]
    }
   ],
   "source": [
    "%%time \n",
    "# 随机森林 方差\n",
    "rfc = RandomForestClassifier(random_state=10, n_estimators=100)\n",
    "print(cross_val_score(rfc, Var_X, y, cv=10).mean())"
   ]
  },
  {
   "cell_type": "code",
   "execution_count": 86,
   "metadata": {},
   "outputs": [
    {
     "data": {
      "text/plain": [
       "0.8533806183759705"
      ]
     },
     "execution_count": 86,
     "metadata": {},
     "output_type": "execute_result"
    }
   ],
   "source": [
    "# 单棵决策树的效果\n",
    "from sklearn.tree import DecisionTreeClassifier\n",
    "dtc = DecisionTreeClassifier()\n",
    "cross_val_score(dtc, Var_X, y, cv=5).mean()"
   ]
  },
  {
   "cell_type": "markdown",
   "metadata": {},
   "source": [
    "### 卡方检验　\n",
    "卡方过滤是专门针对离散型标签（即分类问题）的相关性过滤。卡方检验类feature_selection.chi2计算每个非负\n",
    "特征和标签之间的卡方统计量，并依照卡方统计量由高到低为特征排名。再结合feature_selection.SelectKBest\n",
    "这个可以输入”评分标准“来选出前K个分数最高的特征的类，我们可以借此除去最可能独立于标签，与我们分类目\n",
    "的无关的特征"
   ]
  },
  {
   "cell_type": "code",
   "execution_count": 22,
   "metadata": {},
   "outputs": [],
   "source": [
    "from sklearn.feature_selection import SelectKBest\n",
    "from sklearn.feature_selection import chi2"
   ]
  },
  {
   "cell_type": "code",
   "execution_count": 24,
   "metadata": {},
   "outputs": [
    {
     "name": "stdout",
     "output_type": "stream",
     "text": [
      "CPU times: user 5 µs, sys: 0 ns, total: 5 µs\n",
      "Wall time: 8.58 µs\n",
      "(42000, 300)\n"
     ]
    }
   ],
   "source": [
    "# 方差过滤\n",
    "%time\n",
    "X_chi2 = SelectKBest(chi2, k=300)\n",
    "X_chi2 = X_chi2.fit_transform(Var_X, y)\n",
    "print(X_chi2.shape)"
   ]
  },
  {
   "cell_type": "code",
   "execution_count": 101,
   "metadata": {},
   "outputs": [
    {
     "data": {
      "text/plain": [
       "0.9369050160902587"
      ]
     },
     "execution_count": 101,
     "metadata": {},
     "output_type": "execute_result"
    }
   ],
   "source": [
    "# 验证模型\n",
    "cross_val_score(RandomForestClassifier(random_state=10\n",
    "                                       , n_estimators=10)\n",
    "                , X_chi2\n",
    "                , y\n",
    "                , cv=10).mean()"
   ]
  },
  {
   "cell_type": "code",
   "execution_count": 103,
   "metadata": {},
   "outputs": [
    {
     "data": {
      "image/png": "[encoded data removed]",
      "text/plain": [
       "<Figure size 432x288 with 1 Axes>"
      ]
     },
     "metadata": {
      "needs_background": "light"
     },
     "output_type": "display_data"
    }
   ],
   "source": [
    "# 使用学习曲线进行验证数据\n",
    "score = []\n",
    "for i in range(390, 200, -10):\n",
    "    X_chi = SelectKBest(chi2, k = i)\n",
    "    X_chi = X_chi.fit_transform(Var_X, y)\n",
    "    score.append(cross_val_score(RandomForestClassifier(n_estimators=10\n",
    "                                                        , random_state=10)\n",
    "                                 , X_chi\n",
    "                                 , y\n",
    "                                 ,cv=10\n",
    "                                ).mean())\n",
    "plt.plot(range(390, 200, -10), score)\n",
    "plt.show()"
   ]
  },
  {
   "cell_type": "code",
   "execution_count": 27,
   "metadata": {},
   "outputs": [
    {
     "data": {
      "text/plain": [
       "(392,)"
      ]
     },
     "execution_count": 27,
     "metadata": {},
     "output_type": "execute_result"
    }
   ],
   "source": [
    "# 卡方的P值检验\n",
    "chivalue, pvalue_chi = chi2(Var_X, y)\n",
    "chivalue.shape"
   ]
  },
  {
   "cell_type": "code",
   "execution_count": 28,
   "metadata": {},
   "outputs": [
    {
     "data": {
      "text/plain": [
       "array([0., 0., 0., 0., 0., 0., 0., 0., 0., 0., 0., 0., 0., 0., 0., 0., 0.,\n",
       "       0., 0., 0., 0., 0., 0., 0., 0., 0., 0., 0., 0., 0., 0., 0., 0., 0.,\n",
       "       0., 0., 0., 0., 0., 0., 0., 0., 0., 0., 0., 0., 0., 0., 0., 0., 0.,\n",
       "       0., 0., 0., 0., 0., 0., 0., 0., 0., 0., 0., 0., 0., 0., 0., 0., 0.,\n",
       "       0., 0., 0., 0., 0., 0., 0., 0., 0., 0., 0., 0., 0., 0., 0., 0., 0.,\n",
       "       0., 0., 0., 0., 0., 0., 0., 0., 0., 0., 0., 0., 0., 0., 0., 0., 0.,\n",
       "       0., 0., 0., 0., 0., 0., 0., 0., 0., 0., 0., 0., 0., 0., 0., 0., 0.,\n",
       "       0., 0., 0., 0., 0., 0., 0., 0., 0., 0., 0., 0., 0., 0., 0., 0., 0.,\n",
       "       0., 0., 0., 0., 0., 0., 0., 0., 0., 0., 0., 0., 0., 0., 0., 0., 0.,\n",
       "       0., 0., 0., 0., 0., 0., 0., 0., 0., 0., 0., 0., 0., 0., 0., 0., 0.,\n",
       "       0., 0., 0., 0., 0., 0., 0., 0., 0., 0., 0., 0., 0., 0., 0., 0., 0.,\n",
       "       0., 0., 0., 0., 0., 0., 0., 0., 0., 0., 0., 0., 0., 0., 0., 0., 0.,\n",
       "       0., 0., 0., 0., 0., 0., 0., 0., 0., 0., 0., 0., 0., 0., 0., 0., 0.,\n",
       "       0., 0., 0., 0., 0., 0., 0., 0., 0., 0., 0., 0., 0., 0., 0., 0., 0.,\n",
       "       0., 0., 0., 0., 0., 0., 0., 0., 0., 0., 0., 0., 0., 0., 0., 0., 0.,\n",
       "       0., 0., 0., 0., 0., 0., 0., 0., 0., 0., 0., 0., 0., 0., 0., 0., 0.,\n",
       "       0., 0., 0., 0., 0., 0., 0., 0., 0., 0., 0., 0., 0., 0., 0., 0., 0.,\n",
       "       0., 0., 0., 0., 0., 0., 0., 0., 0., 0., 0., 0., 0., 0., 0., 0., 0.,\n",
       "       0., 0., 0., 0., 0., 0., 0., 0., 0., 0., 0., 0., 0., 0., 0., 0., 0.,\n",
       "       0., 0., 0., 0., 0., 0., 0., 0., 0., 0., 0., 0., 0., 0., 0., 0., 0.,\n",
       "       0., 0., 0., 0., 0., 0., 0., 0., 0., 0., 0., 0., 0., 0., 0., 0., 0.,\n",
       "       0., 0., 0., 0., 0., 0., 0., 0., 0., 0., 0., 0., 0., 0., 0., 0., 0.,\n",
       "       0., 0., 0., 0., 0., 0., 0., 0., 0., 0., 0., 0., 0., 0., 0., 0., 0.,\n",
       "       0.])"
      ]
     },
     "execution_count": 28,
     "metadata": {},
     "output_type": "execute_result"
    }
   ],
   "source": [
    "pvalue_chi"
   ]
  },
  {
   "cell_type": "code",
   "execution_count": 29,
   "metadata": {},
   "outputs": [],
   "source": [
    "k = chivalue.shape[0] - (pvalue_chi>0.5).sum()"
   ]
  },
  {
   "cell_type": "code",
   "execution_count": 30,
   "metadata": {},
   "outputs": [
    {
     "data": {
      "text/plain": [
       "392"
      ]
     },
     "execution_count": 30,
     "metadata": {},
     "output_type": "execute_result"
    }
   ],
   "source": [
    "k"
   ]
  },
  {
   "cell_type": "markdown",
   "metadata": {},
   "source": [
    "### F检验  \n",
    "F检验，又称ANOVA，方差齐性检验，是用来捕捉每个特征与标签之间的线性关系的过滤方法。它即可以做回归也\n",
    "可以做分类，因此包含feature_selection.f_classif（F检验分类）和feature_selection.f_regression（F检验回\n",
    "归）两个类。其中F检验分类用于标签是离散型变量的数据，而F检验回归用于标签是连续型变量的数据"
   ]
  },
  {
   "cell_type": "code",
   "execution_count": 31,
   "metadata": {},
   "outputs": [],
   "source": [
    "from sklearn.feature_selection import f_classif"
   ]
  },
  {
   "cell_type": "code",
   "execution_count": 32,
   "metadata": {},
   "outputs": [],
   "source": [
    "F, pvalue = f_classif(Var_X, y)"
   ]
  },
  {
   "cell_type": "code",
   "execution_count": 33,
   "metadata": {},
   "outputs": [
    {
     "data": {
      "text/plain": [
       "((392,), (392,))"
      ]
     },
     "execution_count": 33,
     "metadata": {},
     "output_type": "execute_result"
    }
   ],
   "source": [
    "F.shape, pvalue.shape"
   ]
  },
  {
   "cell_type": "code",
   "execution_count": 36,
   "metadata": {},
   "outputs": [
    {
     "data": {
      "text/plain": [
       "392"
      ]
     },
     "execution_count": 36,
     "metadata": {},
     "output_type": "execute_result"
    }
   ],
   "source": [
    "# 删除指定数值的特征\n",
    "k = F.shape[0] - (pvalue > 0.05).sum()\n",
    "k"
   ]
  },
  {
   "cell_type": "markdown",
   "metadata": {},
   "source": [
    "### 嵌入法"
   ]
  },
  {
   "cell_type": "code",
   "execution_count": 42,
   "metadata": {},
   "outputs": [],
   "source": [
    "from sklearn.feature_selection import SelectFromModel\n",
    "from sklearn.ensemble import RandomForestClassifier"
   ]
  },
  {
   "cell_type": "code",
   "execution_count": 45,
   "metadata": {},
   "outputs": [],
   "source": [
    "rfc = RandomForestClassifier(n_estimators=10, random_state=10)\n",
    "X_embeded = SelectFromModel(rfc, threshold=0.005).fit_transform(X, y)"
   ]
  },
  {
   "cell_type": "code",
   "execution_count": 47,
   "metadata": {},
   "outputs": [
    {
     "data": {
      "text/plain": [
       "(42000, 47)"
      ]
     },
     "execution_count": 47,
     "metadata": {},
     "output_type": "execute_result"
    }
   ],
   "source": [
    "X_embeded.shape"
   ]
  },
  {
   "cell_type": "code",
   "execution_count": 51,
   "metadata": {
    "collapsed": true,
    "jupyter": {
     "outputs_hidden": true
    }
   },
   "outputs": [
    {
     "data": {
      "text/plain": [
       "array([0.00000000e+00, 0.00000000e+00, 0.00000000e+00, 0.00000000e+00,\n",
       "       0.00000000e+00, 0.00000000e+00, 0.00000000e+00, 0.00000000e+00,\n",
       "       0.00000000e+00, 0.00000000e+00, 0.00000000e+00, 0.00000000e+00,\n",
       "       0.00000000e+00, 0.00000000e+00, 0.00000000e+00, 0.00000000e+00,\n",
       "       0.00000000e+00, 0.00000000e+00, 0.00000000e+00, 0.00000000e+00,\n",
       "       0.00000000e+00, 0.00000000e+00, 0.00000000e+00, 0.00000000e+00,\n",
       "       0.00000000e+00, 0.00000000e+00, 0.00000000e+00, 0.00000000e+00,\n",
       "       0.00000000e+00, 0.00000000e+00, 0.00000000e+00, 0.00000000e+00,\n",
       "       0.00000000e+00, 0.00000000e+00, 0.00000000e+00, 0.00000000e+00,\n",
       "       0.00000000e+00, 0.00000000e+00, 0.00000000e+00, 0.00000000e+00,\n",
       "       0.00000000e+00, 0.00000000e+00, 0.00000000e+00, 0.00000000e+00,\n",
       "       5.23090046e-06, 0.00000000e+00, 0.00000000e+00, 0.00000000e+00,\n",
       "       0.00000000e+00, 0.00000000e+00, 0.00000000e+00, 8.64222426e-06,\n",
       "       0.00000000e+00, 0.00000000e+00, 0.00000000e+00, 0.00000000e+00,\n",
       "       0.00000000e+00, 0.00000000e+00, 0.00000000e+00, 0.00000000e+00,\n",
       "       0.00000000e+00, 0.00000000e+00, 5.18797988e-06, 0.00000000e+00,\n",
       "       2.92164379e-05, 4.31621121e-05, 2.32306476e-05, 1.95856843e-05,\n",
       "       5.19956152e-05, 3.02699592e-05, 4.50747943e-05, 3.70429549e-04,\n",
       "       5.99487263e-05, 7.05852990e-05, 3.60791085e-05, 3.82506474e-05,\n",
       "       1.04075895e-05, 0.00000000e+00, 4.41100611e-06, 1.30826431e-05,\n",
       "       0.00000000e+00, 0.00000000e+00, 0.00000000e+00, 0.00000000e+00,\n",
       "       0.00000000e+00, 0.00000000e+00, 0.00000000e+00, 0.00000000e+00,\n",
       "       0.00000000e+00, 1.82929554e-05, 6.17489149e-06, 3.27208990e-05,\n",
       "       5.00537024e-05, 1.94694698e-04, 2.66970049e-04, 8.13266890e-04,\n",
       "       1.59232393e-03, 1.53097296e-03, 6.90431978e-04, 9.62531049e-04,\n",
       "       3.91683494e-03, 2.59787316e-03, 4.84335511e-04, 2.65229581e-04,\n",
       "       3.81676957e-04, 2.81752806e-04, 4.18241143e-05, 0.00000000e+00,\n",
       "       0.00000000e+00, 0.00000000e+00, 0.00000000e+00, 0.00000000e+00,\n",
       "       0.00000000e+00, 0.00000000e+00, 0.00000000e+00, 0.00000000e+00,\n",
       "       0.00000000e+00, 5.10499543e-06, 7.08754214e-05, 9.95302653e-05,\n",
       "       2.04601084e-04, 2.74193670e-04, 4.24689676e-04, 1.09346919e-03,\n",
       "       4.86991189e-04, 2.48662675e-03, 1.43766350e-03, 7.95547442e-04,\n",
       "       1.15893665e-03, 4.21801044e-04, 6.51578701e-04, 3.92389395e-04,\n",
       "       2.08958748e-04, 1.09338846e-04, 1.10648406e-04, 1.09129295e-04,\n",
       "       3.36674795e-05, 2.64651741e-06, 5.01461747e-06, 0.00000000e+00,\n",
       "       0.00000000e+00, 0.00000000e+00, 0.00000000e+00, 0.00000000e+00,\n",
       "       0.00000000e+00, 8.31754967e-05, 4.98501480e-05, 2.74905371e-04,\n",
       "       3.13031183e-04, 1.06667017e-03, 2.61878265e-03, 3.95541628e-03,\n",
       "       1.96554945e-03, 3.47646362e-03, 5.50079111e-03, 1.03560343e-02,\n",
       "       7.01743604e-03, 5.61173343e-03, 2.99552695e-03, 1.25831500e-03,\n",
       "       1.68372440e-03, 6.93302787e-04, 4.14709527e-04, 2.85989659e-04,\n",
       "       1.08537044e-04, 3.12179051e-05, 0.00000000e+00, 0.00000000e+00,\n",
       "       0.00000000e+00, 0.00000000e+00, 0.00000000e+00, 5.13175925e-06,\n",
       "       1.39340940e-05, 9.84651458e-05, 1.92735452e-04, 2.40202503e-04,\n",
       "       1.41356459e-03, 9.38374937e-04, 2.87087570e-03, 1.82386561e-03,\n",
       "       1.84920066e-03, 2.28932639e-03, 4.14582587e-03, 2.65816253e-03,\n",
       "       4.71278325e-03, 2.06910619e-03, 1.76160637e-03, 9.14375890e-04,\n",
       "       1.55410157e-03, 1.46604895e-03, 7.39133822e-04, 8.81573316e-04,\n",
       "       1.75664073e-04, 6.07552206e-05, 1.37192813e-05, 0.00000000e+00,\n",
       "       0.00000000e+00, 0.00000000e+00, 7.77392969e-06, 1.12908381e-05,\n",
       "       2.22323996e-05, 1.37758666e-04, 1.54200526e-04, 4.52176725e-04,\n",
       "       1.34168072e-03, 1.86665764e-03, 3.24572878e-03, 3.94253053e-03,\n",
       "       2.02810488e-03, 3.82142087e-03, 4.77022138e-03, 6.51864284e-03,\n",
       "       7.35706201e-03, 2.93090725e-03, 1.74026918e-03, 6.64389801e-03,\n",
       "       1.45089900e-03, 1.37758083e-03, 1.14785653e-03, 1.14805053e-03,\n",
       "       7.62161990e-04, 4.32184689e-04, 5.05833558e-06, 0.00000000e+00,\n",
       "       0.00000000e+00, 4.62817436e-06, 1.47302968e-05, 0.00000000e+00,\n",
       "       2.42702423e-05, 2.71219081e-04, 3.18003677e-04, 5.11836043e-04,\n",
       "       2.15928008e-03, 1.56447301e-03, 1.72586701e-03, 3.04703762e-03,\n",
       "       3.55978017e-03, 3.52618485e-03, 3.46526719e-03, 5.75239662e-03,\n",
       "       5.50757378e-03, 2.08064765e-03, 3.49113304e-03, 3.06766996e-03,\n",
       "       1.40446897e-03, 9.02595278e-04, 1.92462922e-03, 1.80798168e-03,\n",
       "       8.41916596e-04, 2.55116816e-04, 1.04172904e-05, 0.00000000e+00,\n",
       "       0.00000000e+00, 0.00000000e+00, 0.00000000e+00, 3.52862896e-06,\n",
       "       8.92329977e-05, 3.17430126e-04, 2.85392281e-04, 1.15980934e-03,\n",
       "       1.18028486e-03, 2.13957359e-03, 2.27652197e-03, 3.81348373e-03,\n",
       "       2.86843633e-03, 4.51806815e-03, 4.81347661e-03, 3.67926496e-03,\n",
       "       3.81122772e-03, 2.76671928e-03, 4.57525116e-03, 2.74801556e-03,\n",
       "       1.37290547e-03, 2.57512645e-03, 4.80970234e-04, 4.28436840e-04,\n",
       "       2.37998643e-04, 1.22180932e-04, 4.84738848e-05, 0.00000000e+00,\n",
       "       0.00000000e+00, 0.00000000e+00, 0.00000000e+00, 7.96467976e-05,\n",
       "       6.76490933e-05, 2.04412772e-04, 4.57234469e-04, 8.72755924e-04,\n",
       "       1.03464175e-03, 4.93604632e-03, 5.65693924e-03, 8.00084225e-03,\n",
       "       3.10651614e-03, 2.49491827e-03, 2.27367219e-03, 2.88556100e-03,\n",
       "       4.38716315e-03, 5.61543917e-03, 3.39252984e-03, 3.06351860e-03,\n",
       "       1.99351747e-03, 1.13602517e-03, 1.72230699e-03, 4.56083643e-04,\n",
       "       6.62425066e-04, 1.57220535e-04, 8.73884517e-06, 5.26098103e-06,\n",
       "       0.00000000e+00, 0.00000000e+00, 0.00000000e+00, 5.05437266e-05,\n",
       "       8.39482131e-05, 2.52349026e-04, 9.58573428e-04, 9.54376126e-04,\n",
       "       2.33656448e-03, 2.90509170e-03, 2.36986526e-03, 6.16865997e-03,\n",
       "       3.09687509e-03, 2.68760005e-03, 4.86554107e-03, 7.24953421e-03,\n",
       "       4.09742182e-03, 2.68944546e-03, 8.60780142e-03, 1.77219770e-03,\n",
       "       2.05884585e-03, 3.98738472e-03, 4.58528358e-03, 3.63376534e-04,\n",
       "       1.52639230e-04, 3.73095959e-05, 2.64620154e-06, 0.00000000e+00,\n",
       "       0.00000000e+00, 0.00000000e+00, 4.23442786e-06, 2.19313622e-05,\n",
       "       1.10412570e-04, 1.58902197e-04, 5.08543073e-04, 2.32259523e-03,\n",
       "       4.66431985e-03, 7.10534192e-03, 3.53387124e-03, 1.03397573e-02,\n",
       "       3.88453455e-03, 3.93246296e-03, 9.48883623e-03, 7.85182027e-03,\n",
       "       2.16063438e-03, 2.66593749e-03, 2.09503549e-03, 1.87327919e-03,\n",
       "       1.75472051e-03, 9.83443741e-04, 3.83612467e-03, 5.37581359e-04,\n",
       "       6.36348777e-05, 1.34706386e-05, 3.39307255e-05, 0.00000000e+00,\n",
       "       0.00000000e+00, 0.00000000e+00, 0.00000000e+00, 9.61906840e-06,\n",
       "       2.91862747e-05, 4.85711682e-04, 1.63899550e-03, 1.18929819e-03,\n",
       "       3.81372945e-03, 2.98500903e-03, 6.35849125e-03, 5.68110753e-03,\n",
       "       4.89363576e-03, 1.17325361e-02, 1.24673607e-02, 6.88968514e-03,\n",
       "       2.42854866e-03, 6.44902936e-03, 2.41811502e-03, 1.29203257e-03,\n",
       "       1.05008378e-03, 6.57666142e-04, 1.12641072e-03, 7.51190465e-04,\n",
       "       1.95634644e-04, 1.28258717e-05, 2.64660367e-06, 0.00000000e+00,\n",
       "       0.00000000e+00, 0.00000000e+00, 0.00000000e+00, 1.60852991e-05,\n",
       "       2.34871283e-04, 1.86610479e-04, 9.28808877e-04, 1.58780739e-03,\n",
       "       2.09893141e-03, 2.40895023e-03, 7.41025799e-03, 4.50183111e-03,\n",
       "       2.73919334e-03, 6.28024587e-03, 3.03909316e-03, 1.56940134e-03,\n",
       "       5.70252239e-03, 3.26770275e-03, 5.20258666e-03, 1.13084768e-03,\n",
       "       1.66583379e-03, 3.64917903e-03, 7.76426946e-04, 6.32540830e-04,\n",
       "       1.45057344e-04, 1.27814617e-05, 1.34504987e-05, 0.00000000e+00,\n",
       "       0.00000000e+00, 0.00000000e+00, 0.00000000e+00, 1.91495989e-05,\n",
       "       4.15608170e-05, 2.58355651e-04, 1.03694726e-03, 3.07886427e-03,\n",
       "       5.04435491e-03, 4.32648069e-03, 2.66769646e-03, 5.60525064e-03,\n",
       "       4.68076905e-03, 1.03299144e-02, 4.58373772e-03, 7.63117206e-03,\n",
       "       2.81591311e-03, 1.94689606e-03, 4.16691147e-03, 1.53712934e-03,\n",
       "       2.93224778e-03, 5.90502426e-04, 4.25692982e-04, 3.33631448e-04,\n",
       "       6.17927409e-05, 6.81573915e-05, 0.00000000e+00, 0.00000000e+00,\n",
       "       0.00000000e+00, 0.00000000e+00, 0.00000000e+00, 9.26244692e-06,\n",
       "       1.23942816e-04, 3.04367720e-04, 3.24529179e-03, 2.41921846e-03,\n",
       "       2.56731448e-03, 2.38303491e-03, 3.27548030e-03, 5.35717775e-03,\n",
       "       8.39116743e-03, 1.25886059e-02, 2.37860176e-03, 4.93659073e-03,\n",
       "       2.02318448e-03, 4.56866640e-03, 1.70651086e-03, 1.36477863e-03,\n",
       "       1.06829411e-03, 5.95290216e-04, 8.41637332e-04, 3.39279262e-04,\n",
       "       1.18248493e-04, 3.14919895e-05, 9.54073967e-06, 0.00000000e+00,\n",
       "       0.00000000e+00, 0.00000000e+00, 0.00000000e+00, 3.63616183e-05,\n",
       "       1.06074874e-04, 7.93344801e-04, 1.00481091e-03, 1.71294498e-03,\n",
       "       7.10467467e-03, 2.91589265e-03, 8.26782462e-03, 4.75176641e-03,\n",
       "       3.92525889e-03, 7.81960075e-03, 5.63302295e-03, 2.38237753e-03,\n",
       "       1.38173994e-03, 1.44190537e-03, 1.13385816e-03, 2.42553080e-03,\n",
       "       1.06758232e-03, 1.16646052e-03, 6.22683509e-04, 4.48310406e-04,\n",
       "       9.87230130e-05, 9.65479388e-06, 2.06393162e-05, 2.84978611e-05,\n",
       "       0.00000000e+00, 0.00000000e+00, 0.00000000e+00, 1.42011243e-04,\n",
       "       1.34878721e-04, 3.98246927e-04, 4.36180404e-03, 9.20334517e-04,\n",
       "       2.25931547e-03, 5.03568148e-03, 8.11514448e-03, 2.80218781e-03,\n",
       "       4.76707513e-03, 3.31326094e-03, 1.97657912e-03, 2.98881488e-03,\n",
       "       1.73282121e-03, 1.88538535e-03, 4.63540472e-03, 2.27959085e-03,\n",
       "       2.05521996e-03, 7.80290647e-04, 1.44356293e-03, 3.27954339e-04,\n",
       "       1.24632634e-04, 2.30517499e-05, 0.00000000e+00, 0.00000000e+00,\n",
       "       0.00000000e+00, 0.00000000e+00, 0.00000000e+00, 7.49864367e-05,\n",
       "       1.86993544e-04, 6.17400707e-04, 1.23253052e-03, 2.97115690e-03,\n",
       "       2.85020989e-03, 9.83350711e-03, 3.95557541e-03, 3.59086637e-03,\n",
       "       3.56761835e-03, 1.76579566e-03, 1.86444608e-03, 1.06717763e-03,\n",
       "       1.39822845e-03, 1.49533167e-03, 1.60153080e-03, 1.82611043e-03,\n",
       "       7.11655038e-04, 5.05736082e-04, 8.93405986e-04, 4.02457049e-04,\n",
       "       2.54497352e-04, 3.53591743e-05, 1.26685012e-05, 0.00000000e+00,\n",
       "       0.00000000e+00, 0.00000000e+00, 1.30027007e-05, 5.62349874e-05,\n",
       "       1.65647475e-04, 5.05467243e-04, 2.56408742e-03, 9.60695490e-04,\n",
       "       4.37222731e-03, 7.08866799e-03, 5.51967991e-03, 5.21930760e-03,\n",
       "       2.28208010e-03, 1.97986623e-03, 2.04920582e-03, 3.50309606e-03,\n",
       "       1.37684177e-03, 1.83802347e-03, 2.69862932e-03, 3.94462188e-03,\n",
       "       9.17731102e-04, 6.77171050e-04, 3.47361806e-04, 5.71754432e-04,\n",
       "       1.28490668e-04, 1.58557727e-05, 0.00000000e+00, 0.00000000e+00,\n",
       "       0.00000000e+00, 0.00000000e+00, 0.00000000e+00, 2.30437632e-05,\n",
       "       2.05406060e-04, 6.26377004e-04, 4.99569231e-04, 1.31665612e-03,\n",
       "       5.05856455e-03, 2.07174319e-03, 3.00863101e-03, 1.32675162e-03,\n",
       "       1.60773266e-03, 1.89027607e-03, 1.12530416e-03, 1.67379552e-03,\n",
       "       8.58824877e-04, 7.58632122e-04, 8.45786708e-04, 1.84652395e-03,\n",
       "       5.88664060e-04, 5.47593855e-04, 3.36882661e-04, 7.96011230e-05,\n",
       "       7.31444441e-05, 0.00000000e+00, 0.00000000e+00, 0.00000000e+00,\n",
       "       0.00000000e+00, 0.00000000e+00, 4.41078620e-06, 7.93838830e-06,\n",
       "       2.40553287e-04, 2.54786763e-04, 4.56356087e-04, 4.63752303e-04,\n",
       "       1.23647526e-03, 4.39597948e-03, 2.05927466e-03, 2.54699121e-03,\n",
       "       1.42244039e-03, 1.15398395e-03, 2.75454548e-03, 2.14829572e-03,\n",
       "       9.45112851e-04, 7.50188360e-04, 8.94650680e-04, 5.75935105e-04,\n",
       "       2.31935824e-04, 1.71598225e-04, 1.87993472e-04, 7.23318447e-05,\n",
       "       1.72968625e-05, 2.64647172e-06, 0.00000000e+00, 0.00000000e+00,\n",
       "       0.00000000e+00, 0.00000000e+00, 0.00000000e+00, 3.50338563e-05,\n",
       "       9.60088972e-05, 9.82942357e-05, 2.12032888e-03, 1.28431955e-03,\n",
       "       1.20593722e-03, 4.44518928e-03, 2.17672474e-03, 4.41114217e-03,\n",
       "       1.85044678e-03, 4.19042339e-03, 4.55601629e-03, 2.88990528e-03,\n",
       "       2.18068763e-03, 7.42905663e-04, 5.08939863e-04, 4.48146893e-04,\n",
       "       1.70792921e-04, 1.85911459e-04, 1.00643693e-04, 2.75265086e-05,\n",
       "       1.73231209e-05, 1.01987522e-05, 0.00000000e+00, 0.00000000e+00,\n",
       "       0.00000000e+00, 0.00000000e+00, 0.00000000e+00, 1.02273879e-05,\n",
       "       5.64215858e-05, 9.57767527e-05, 1.18975954e-04, 4.37350242e-04,\n",
       "       6.19326569e-04, 6.83490623e-04, 9.90251534e-04, 2.59214570e-03,\n",
       "       6.97741312e-04, 2.47457976e-03, 8.13412094e-04, 1.16931418e-03,\n",
       "       4.13871653e-04, 6.36179621e-04, 3.46555154e-04, 1.82656358e-04,\n",
       "       8.75606254e-05, 7.57725715e-05, 3.06582596e-05, 3.22697295e-05,\n",
       "       5.18985409e-06, 0.00000000e+00, 0.00000000e+00, 0.00000000e+00,\n",
       "       0.00000000e+00, 0.00000000e+00, 0.00000000e+00, 5.13470224e-06,\n",
       "       0.00000000e+00, 3.79182236e-05, 1.28994253e-04, 1.95106834e-04,\n",
       "       5.55922878e-04, 2.51300096e-04, 3.14112091e-04, 3.29275234e-04,\n",
       "       1.45326589e-03, 4.02083111e-04, 2.26469435e-04, 3.43716273e-04,\n",
       "       3.63490798e-04, 5.44407801e-04, 2.19581284e-04, 1.71370394e-04,\n",
       "       7.25105159e-05, 3.28790687e-05, 1.11167157e-05, 7.93933245e-06,\n",
       "       1.00603806e-05, 0.00000000e+00, 0.00000000e+00, 0.00000000e+00,\n",
       "       0.00000000e+00, 0.00000000e+00, 0.00000000e+00, 0.00000000e+00,\n",
       "       2.71065671e-05, 2.35263309e-05, 8.51434351e-06, 1.88544241e-05,\n",
       "       3.88381540e-05, 8.88369292e-05, 9.67997500e-05, 6.61795740e-04,\n",
       "       7.52282326e-05, 5.70208159e-05, 1.13230197e-04, 2.11200970e-04,\n",
       "       6.21546249e-05, 1.15111634e-04, 2.27276805e-05, 0.00000000e+00,\n",
       "       0.00000000e+00, 4.76364910e-06, 7.81647225e-06, 0.00000000e+00,\n",
       "       0.00000000e+00, 0.00000000e+00, 0.00000000e+00, 0.00000000e+00,\n",
       "       0.00000000e+00, 0.00000000e+00, 0.00000000e+00, 0.00000000e+00,\n",
       "       0.00000000e+00, 0.00000000e+00, 0.00000000e+00, 0.00000000e+00,\n",
       "       6.61587834e-06, 0.00000000e+00, 0.00000000e+00, 0.00000000e+00,\n",
       "       0.00000000e+00, 0.00000000e+00, 1.48290939e-05, 1.02831078e-05,\n",
       "       0.00000000e+00, 0.00000000e+00, 0.00000000e+00, 1.42139982e-05,\n",
       "       9.43562843e-06, 0.00000000e+00, 0.00000000e+00, 0.00000000e+00,\n",
       "       0.00000000e+00, 0.00000000e+00, 0.00000000e+00, 0.00000000e+00])"
      ]
     },
     "execution_count": 51,
     "metadata": {},
     "output_type": "execute_result"
    }
   ],
   "source": [
    "# 绘制学习曲线\n",
    "rfc = rfc.fit(X, y)\n",
    "rfc.feature_importances_"
   ]
  },
  {
   "cell_type": "code",
   "execution_count": 52,
   "metadata": {},
   "outputs": [
    {
     "data": {
      "image/png": "[encoded data removed]",
      "text/plain": [
       "<Figure size 432x288 with 1 Axes>"
      ]
     },
     "metadata": {
      "needs_background": "light"
     },
     "output_type": "display_data"
    }
   ],
   "source": [
    "# 权值系数是一个非常重要的值，通过画学习曲线可以直观的观察超参数的取值对模型的变化\n",
    "score = []\n",
    "\n",
    "for i in np.linspace(0, rfc.feature_importances_.max(), 20):\n",
    "    x_embeded = SelectFromModel(rfc, threshold=i).fit_transform(X, y)\n",
    "    grade = cross_val_score(rfc, x_embeded, y, cv=10).mean()\n",
    "    score.append(grade)\n",
    "plt.plot(np.linspace(0, rfc.feature_importances_.max(), 20), score)\n",
    "plt.title(\"Accuracy of cross_val\")\n",
    "plt.show()"
   ]
  },
  {
   "cell_type": "code",
   "execution_count": 60,
   "metadata": {},
   "outputs": [],
   "source": [
    "X_embeded = SelectFromModel(rfc)\n",
    "X_embeded = X_embeded.fit_transform(X, y)\n",
    "rfc.n_estimators = 100"
   ]
  },
  {
   "cell_type": "code",
   "execution_count": 61,
   "metadata": {},
   "outputs": [
    {
     "data": {
      "text/plain": [
       "0.9613338171834913"
      ]
     },
     "execution_count": 61,
     "metadata": {},
     "output_type": "execute_result"
    }
   ],
   "source": [
    "cross_val_score(rfc, X_embeded, y, cv=5).mean()"
   ]
  },
  {
   "cell_type": "markdown",
   "metadata": {},
   "source": [
    "### Wrpper 包装法"
   ]
  },
  {
   "cell_type": "code",
   "execution_count": 62,
   "metadata": {},
   "outputs": [],
   "source": [
    "from sklearn.feature_selection import RFE"
   ]
  },
  {
   "cell_type": "code",
   "execution_count": 64,
   "metadata": {},
   "outputs": [],
   "source": [
    "selector = RFE(rfc, n_features_to_select=340, step=50).fit(X, y)"
   ]
  },
  {
   "cell_type": "code",
   "execution_count": 67,
   "metadata": {},
   "outputs": [
    {
     "data": {
      "text/plain": [
       "<bound method BaseEstimator.get_params of RFE(estimator=RandomForestClassifier(bootstrap=True, class_weight=None,\n",
       "                                     criterion='gini', max_depth=None,\n",
       "                                     max_features='auto', max_leaf_nodes=None,\n",
       "                                     min_impurity_decrease=0.0,\n",
       "                                     min_impurity_split=None,\n",
       "                                     min_samples_leaf=1, min_samples_split=2,\n",
       "                                     min_weight_fraction_leaf=0.0,\n",
       "                                     n_estimators=100, n_jobs=None,\n",
       "                                     oob_score=False, random_state=10,\n",
       "                                     verbose=0, warm_start=False),\n",
       "    n_features_to_select=340, step=50, verbose=0)>"
      ]
     },
     "execution_count": 67,
     "metadata": {},
     "output_type": "execute_result"
    }
   ],
   "source": [
    "selector.get_params"
   ]
  },
  {
   "cell_type": "code",
   "execution_count": 69,
   "metadata": {},
   "outputs": [
    {
     "data": {
      "text/plain": [
       "340"
      ]
     },
     "execution_count": 69,
     "metadata": {},
     "output_type": "execute_result"
    }
   ],
   "source": [
    "selector.support_.sum()"
   ]
  },
  {
   "cell_type": "code",
   "execution_count": 70,
   "metadata": {},
   "outputs": [
    {
     "data": {
      "text/plain": [
       "array([10,  9,  8,  8,  8,  8,  8,  8,  8,  8,  8,  8,  8,  8,  8,  8,  8,\n",
       "        8,  8,  8,  8,  8,  8,  8,  8,  8,  8,  8,  8,  8,  8,  8,  8,  8,\n",
       "        7,  7,  7,  7,  7,  8,  7,  6,  7,  6,  7,  7,  7,  7,  7,  8,  8,\n",
       "        7,  9,  9,  9,  9,  9,  9,  9,  9,  8,  8,  7,  7,  6,  5,  4,  4,\n",
       "        3,  3,  4,  3,  4,  4,  4,  5,  5,  6,  6,  7,  7,  9,  9,  9, 10,\n",
       "       10, 10,  9,  8,  6,  6,  5,  4,  4,  2,  2,  1,  1,  1,  1,  1,  1,\n",
       "        1,  2,  3,  3,  4,  6,  5,  7, 10, 10, 10, 10, 10,  7,  7,  5,  5,\n",
       "        4,  3,  2,  1,  1,  1,  1,  1,  1,  1,  1,  1,  2,  2,  3,  4,  4,\n",
       "        5,  6,  7, 10, 10, 10,  9,  7,  5,  5,  4,  3,  2,  1,  1,  1,  1,\n",
       "        1,  1,  1,  1,  1,  1,  1,  1,  1,  2,  3,  4,  6,  7, 10, 10, 10,\n",
       "       10,  7,  5,  4,  3,  2,  1,  1,  1,  1,  1,  1,  1,  1,  1,  1,  1,\n",
       "        1,  1,  1,  1,  1,  2,  5,  6, 10, 10, 10,  7,  5,  4,  3,  2,  2,\n",
       "        1,  1,  1,  1,  1,  1,  1,  1,  1,  1,  1,  1,  1,  1,  1,  1,  1,\n",
       "        4,  6,  7,  8,  9,  6,  5,  4,  3,  2,  1,  1,  1,  1,  1,  1,  1,\n",
       "        1,  1,  1,  1,  1,  1,  1,  1,  1,  1,  1,  3,  6,  8, 10,  8,  7,\n",
       "        5,  4,  3,  2,  1,  1,  1,  1,  1,  1,  1,  1,  1,  1,  1,  1,  1,\n",
       "        1,  1,  1,  2,  2,  4,  5,  8, 10,  7,  6,  5,  4,  2,  2,  1,  1,\n",
       "        1,  1,  1,  1,  1,  1,  1,  1,  1,  1,  1,  1,  1,  1,  2,  3,  4,\n",
       "        5,  7, 10, 10,  6,  5,  3,  3,  2,  1,  1,  1,  1,  1,  1,  1,  1,\n",
       "        1,  1,  1,  1,  1,  1,  1,  1,  2,  4,  5,  6,  7, 10, 10,  6,  5,\n",
       "        4,  3,  1,  1,  1,  1,  1,  1,  1,  1,  1,  1,  1,  1,  1,  1,  1,\n",
       "        1,  1,  2,  3,  5,  6, 10, 10,  8,  7,  6,  4,  2,  1,  1,  1,  1,\n",
       "        1,  1,  1,  1,  1,  1,  1,  1,  1,  1,  1,  1,  1,  1,  3,  5,  6,\n",
       "        8, 10, 10, 10,  5,  4,  1,  1,  1,  1,  1,  1,  1,  1,  1,  1,  1,\n",
       "        1,  1,  1,  1,  1,  1,  1,  1,  3,  5,  6, 10, 10, 10,  7,  5,  4,\n",
       "        3,  1,  1,  1,  1,  1,  1,  1,  1,  1,  1,  1,  1,  1,  1,  1,  1,\n",
       "        1,  1,  4,  5,  6,  7, 10, 10,  6,  5,  4,  2,  1,  1,  1,  1,  1,\n",
       "        1,  1,  1,  1,  1,  1,  1,  1,  1,  1,  1,  1,  2,  3,  5,  5,  6,\n",
       "       10, 10,  6,  5,  4,  2,  1,  1,  1,  1,  1,  1,  1,  1,  1,  1,  1,\n",
       "        1,  1,  1,  1,  1,  1,  2,  3,  4,  6,  6, 10, 10,  6,  4,  3,  2,\n",
       "        1,  1,  1,  1,  1,  1,  1,  1,  1,  1,  1,  1,  1,  1,  1,  1,  1,\n",
       "        2,  3,  5,  6,  7,  9,  9,  6,  4,  3,  1,  1,  1,  1,  1,  1,  1,\n",
       "        1,  1,  1,  1,  1,  1,  1,  1,  1,  1,  1,  2,  3,  5,  6,  8,  9,\n",
       "        9,  6,  4,  3,  1,  1,  1,  1,  1,  1,  1,  1,  1,  1,  1,  1,  1,\n",
       "        1,  1,  1,  1,  1,  3,  4,  5,  6,  9,  9,  9,  6,  5,  3,  2,  1,\n",
       "        1,  1,  1,  1,  1,  1,  1,  1,  1,  1,  1,  1,  1,  1,  2,  2,  3,\n",
       "        4,  6,  7,  9,  9,  9,  7,  5,  4,  3,  1,  1,  1,  1,  1,  1,  1,\n",
       "        1,  1,  1,  1,  1,  1,  1,  2,  3,  4,  4,  5,  7,  7,  9,  9,  9,\n",
       "        7,  5,  4,  3,  3,  1,  1,  1,  1,  1,  1,  1,  1,  1,  1,  1,  1,\n",
       "        2,  3,  3,  4,  5,  6,  7,  8,  9,  9,  9,  9,  6,  5,  4,  3,  2,\n",
       "        2,  1,  1,  1,  1,  1,  1,  1,  2,  2,  3,  3,  3,  4,  5,  5,  6,\n",
       "        6,  7,  9,  9,  9,  9,  7,  5,  5,  4,  3,  2,  1,  1,  1,  1,  1,\n",
       "        2,  2,  2,  2,  3,  3,  4,  5,  5,  6,  8,  8,  9,  9, 10, 10, 10,\n",
       "       10,  6,  6,  6,  5,  5,  4,  3,  3,  3,  4,  4,  3,  4,  3,  4,  5,\n",
       "        5,  6,  6,  7, 10, 10, 10, 10, 10,  9, 10,  9,  9,  9,  9,  8,  9,\n",
       "        9,  7,  6,  9,  7,  6,  7,  7,  6,  6,  7,  7,  9,  7,  9,  9,  9,\n",
       "       10,  8])"
      ]
     },
     "execution_count": 70,
     "metadata": {},
     "output_type": "execute_result"
    }
   ],
   "source": [
    "selector.ranking_"
   ]
  },
  {
   "cell_type": "code",
   "execution_count": 71,
   "metadata": {},
   "outputs": [],
   "source": [
    "warpper = selector.transform(X)"
   ]
  },
  {
   "cell_type": "code",
   "execution_count": 72,
   "metadata": {},
   "outputs": [
    {
     "data": {
      "text/plain": [
       "0.9632383639568669"
      ]
     },
     "execution_count": 72,
     "metadata": {},
     "output_type": "execute_result"
    }
   ],
   "source": [
    "cross_val_score(rfc, warpper, y, cv=5).mean()"
   ]
  },
  {
   "cell_type": "code",
   "execution_count": null,
   "metadata": {},
   "outputs": [],
   "source": []
  }
 ],
 "metadata": {
  "kernelspec": {
   "display_name": "Python 3",
   "language": "python",
   "name": "python3"
  },
  "language_info": {
   "codemirror_mode": {
    "name": "ipython",
    "version": 3
   },
   "file_extension": ".py",
   "mimetype": "text/x-python",
   "name": "python",
   "nbconvert_exporter": "python",
   "pygments_lexer": "ipython3",
   "version": "3.6.5"
  }
 },
 "nbformat": 4,
 "nbformat_minor": 4
}
