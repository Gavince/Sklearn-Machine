{
 "cells": [
  {
   "cell_type": "code",
   "execution_count": 1,
   "metadata": {},
   "outputs": [],
   "source": [
    "from sklearn.ensemble import RandomForestClassifier\n",
    "from sklearn.tree import DecisionTreeClassifier\n",
    "from sklearn.datasets import load_wine\n",
    "from sklearn.model_selection import cross_val_score\n",
    "from sklearn.model_selection import train_test_split\n",
    "import pandas as pd\n",
    "import matplotlib.pyplot as plt\n",
    "%matplotlib inline"
   ]
  },
  {
   "cell_type": "markdown",
   "metadata": {},
   "source": [
    "### 导入数据"
   ]
  },
  {
   "cell_type": "code",
   "execution_count": 2,
   "metadata": {},
   "outputs": [],
   "source": [
    "# 导入数据\n",
    "wine = load_wine()"
   ]
  },
  {
   "cell_type": "code",
   "execution_count": 3,
   "metadata": {},
   "outputs": [
    {
     "data": {
      "text/plain": [
       "array(['class_0', 'class_1', 'class_2'], dtype='<U7')"
      ]
     },
     "execution_count": 3,
     "metadata": {},
     "output_type": "execute_result"
    }
   ],
   "source": [
    "wine.target_names"
   ]
  },
  {
   "cell_type": "code",
   "execution_count": 4,
   "metadata": {},
   "outputs": [
    {
     "data": {
      "text/plain": [
       "array([0, 0, 0, 0, 0, 0, 0, 0, 0, 0, 0, 0, 0, 0, 0, 0, 0, 0, 0, 0, 0, 0,\n",
       "       0, 0, 0, 0, 0, 0, 0, 0, 0, 0, 0, 0, 0, 0, 0, 0, 0, 0, 0, 0, 0, 0,\n",
       "       0, 0, 0, 0, 0, 0, 0, 0, 0, 0, 0, 0, 0, 0, 0, 1, 1, 1, 1, 1, 1, 1,\n",
       "       1, 1, 1, 1, 1, 1, 1, 1, 1, 1, 1, 1, 1, 1, 1, 1, 1, 1, 1, 1, 1, 1,\n",
       "       1, 1, 1, 1, 1, 1, 1, 1, 1, 1, 1, 1, 1, 1, 1, 1, 1, 1, 1, 1, 1, 1,\n",
       "       1, 1, 1, 1, 1, 1, 1, 1, 1, 1, 1, 1, 1, 1, 1, 1, 1, 1, 1, 1, 2, 2,\n",
       "       2, 2, 2, 2, 2, 2, 2, 2, 2, 2, 2, 2, 2, 2, 2, 2, 2, 2, 2, 2, 2, 2,\n",
       "       2, 2, 2, 2, 2, 2, 2, 2, 2, 2, 2, 2, 2, 2, 2, 2, 2, 2, 2, 2, 2, 2,\n",
       "       2, 2])"
      ]
     },
     "execution_count": 4,
     "metadata": {},
     "output_type": "execute_result"
    }
   ],
   "source": [
    "wine.target"
   ]
  },
  {
   "cell_type": "code",
   "execution_count": 5,
   "metadata": {},
   "outputs": [
    {
     "data": {
      "text/plain": [
       "(178, 13)"
      ]
     },
     "execution_count": 5,
     "metadata": {},
     "output_type": "execute_result"
    }
   ],
   "source": [
    "wine.data.shape"
   ]
  },
  {
   "cell_type": "code",
   "execution_count": 6,
   "metadata": {},
   "outputs": [
    {
     "data": {
      "text/plain": [
       "['alcohol',\n",
       " 'malic_acid',\n",
       " 'ash',\n",
       " 'alcalinity_of_ash',\n",
       " 'magnesium',\n",
       " 'total_phenols',\n",
       " 'flavanoids',\n",
       " 'nonflavanoid_phenols',\n",
       " 'proanthocyanins',\n",
       " 'color_intensity',\n",
       " 'hue',\n",
       " 'od280/od315_of_diluted_wines',\n",
       " 'proline']"
      ]
     },
     "execution_count": 6,
     "metadata": {},
     "output_type": "execute_result"
    }
   ],
   "source": [
    "wine.feature_names"
   ]
  },
  {
   "cell_type": "markdown",
   "metadata": {},
   "source": [
    "### 模型评估"
   ]
  },
  {
   "cell_type": "code",
   "execution_count": 7,
   "metadata": {},
   "outputs": [],
   "source": [
    "# 构建学习\n",
    "rdf = RandomForestClassifier(random_state=10, n_estimators=10)\n",
    "clf = DecisionTreeClassifier(random_state=10)"
   ]
  },
  {
   "cell_type": "code",
   "execution_count": 8,
   "metadata": {},
   "outputs": [],
   "source": [
    "# 划分数据集\n",
    "Xtrain, Xtest, Ytrain, Ytest = train_test_split(wine.data, wine.target, test_size = 0.3)"
   ]
  },
  {
   "cell_type": "code",
   "execution_count": 9,
   "metadata": {},
   "outputs": [
    {
     "name": "stdout",
     "output_type": "stream",
     "text": [
      "clf socre: 0.8703703703703703\n",
      "Rfc score: 0.9444444444444444\n"
     ]
    }
   ],
   "source": [
    "# 训练并且评估\n",
    "rdf.fit(Xtrain, Ytrain)\n",
    "clf.fit(Xtrain, Ytrain)\n",
    "print(\"clf socre:\",clf.score(Xtest, Ytest))\n",
    "print(\"Rfc score:\",rdf.score(Xtest, Ytest))"
   ]
  },
  {
   "cell_type": "markdown",
   "metadata": {},
   "source": [
    "###  交叉验证 "
   ]
  },
  {
   "cell_type": "code",
   "execution_count": 17,
   "metadata": {},
   "outputs": [
    {
     "data": {
      "image/png": "[encoded data removed]",
      "text/plain": [
       "<Figure size 432x288 with 1 Axes>"
      ]
     },
     "metadata": {
      "needs_background": "light"
     },
     "output_type": "display_data"
    }
   ],
   "source": [
    "# 版本一\n",
    "# 交叉验证：是数据集划分为n分，依次取每一份做测试集，每n-1份做训练集\n",
    "# ，多次训练模型以观测模型稳定性的方法\n",
    "rfc = RandomForestClassifier(n_estimators=32, random_state=10)\n",
    "rfc_s = cross_val_score(rfc, wine.data, wine.target, cv=10)\n",
    "\n",
    "clf = DecisionTreeClassifier(random_state=10)\n",
    "clf_s = cross_val_score(clf, wine.data, wine.target, cv=10)\n",
    "\n",
    "plt.plot(range(1, 11), clf_s, label = \"clf\")\n",
    "plt.plot(range(1, 11), rfc_s, label = \"rfc\")\n",
    "plt.xlabel(\"iter\")\n",
    "plt.ylabel('score')\n",
    "plt.savefig(\"./imgs/Random and Deacision tree.png\")\n",
    "plt.legend()\n",
    "plt.show()"
   ]
  },
  {
   "cell_type": "code",
   "execution_count": null,
   "metadata": {},
   "outputs": [],
   "source": []
  },
  {
   "cell_type": "code",
   "execution_count": 15,
   "metadata": {
    "slideshow": {
     "slide_type": "slide"
    }
   },
   "outputs": [
    {
     "name": "stdout",
     "output_type": "stream",
     "text": [
      "Decision: 0.8773413312693499\n",
      "Randomforest: 0.9833333333333334\n"
     ]
    },
    {
     "data": {
      "image/png": "[encoded data removed]",
      "text/plain": [
       "<Figure size 432x288 with 1 Axes>"
      ]
     },
     "metadata": {
      "needs_background": "light"
     },
     "output_type": "display_data"
    }
   ],
   "source": [
    "# 版本二\n",
    "label = \"Decision\"\n",
    "for model in [DecisionTreeClassifier(random_state=10), RandomForestClassifier(n_estimators=32, random_state=10)]:\n",
    "    score = cross_val_score(model, wine.data, wine.target, cv = 10)\n",
    "    print(\"{}:\".format(label), score.mean())\n",
    "    plt.plot(range(1, 11), score, label = label)\n",
    "    label = \"Randomforest\"\n",
    "plt.xlabel(\"iter\")\n",
    "plt.ylabel('score')\n",
    "plt.legend()\n",
    "plt.show()"
   ]
  },
  {
   "cell_type": "markdown",
   "metadata": {},
   "source": [
    "####  十次交叉验证"
   ]
  },
  {
   "cell_type": "code",
   "execution_count": 21,
   "metadata": {
    "slideshow": {
     "slide_type": "slide"
    }
   },
   "outputs": [
    {
     "data": {
      "image/png": "[encoded data removed]",
      "text/plain": [
       "<Figure size 432x288 with 1 Axes>"
      ]
     },
     "metadata": {
      "needs_background": "light"
     },
     "output_type": "display_data"
    }
   ],
   "source": [
    "clf_m = []\n",
    "rfc_m = []\n",
    "\n",
    "for i in range(10):\n",
    "    clf = DecisionTreeClassifier()\n",
    "    clf_m.append(cross_val_score(clf, wine.data, wine.target, cv=10).mean())\n",
    "    \n",
    "    rfc = RandomForestClassifier(n_estimators=32)\n",
    "    rfc_m.append(cross_val_score(rfc, wine.data, wine.target, cv = 10).mean())\n",
    "    \n",
    "plt.plot(range(1, 11), clf_m, label = \"clf\")\n",
    "plt.plot(range(1, 11), rfc_m, label = \"rfc\")\n",
    "plt.xlabel(\"iter\")\n",
    "plt.ylabel('averge score')\n",
    "plt.savefig(\"./imgs/10cross valid.png\")\n",
    "plt.legend()\n",
    "plt.show()"
   ]
  },
  {
   "cell_type": "markdown",
   "metadata": {},
   "source": [
    "#### 随机森林的大小预测情况"
   ]
  },
  {
   "cell_type": "code",
   "execution_count": 128,
   "metadata": {
    "slideshow": {
     "slide_type": "slide"
    }
   },
   "outputs": [
    {
     "data": {
      "image/png": "[encoded data removed]",
      "text/plain": [
       "<Figure size 432x288 with 1 Axes>"
      ]
     },
     "metadata": {
      "needs_background": "light"
     },
     "output_type": "display_data"
    }
   ],
   "source": [
    "# 预定200个决策树\n",
    "n_score = []\n",
    "\n",
    "for i in range(200):\n",
    "    rcf = RandomForestClassifier(n_estimators=i+1)\n",
    "    score = cross_val_score(rcf, wine.data, wine.target, cv=10)\n",
    "    n_score.append(score.mean())\n",
    "plt.plot(range(1, 201), n_score)\n",
    "plt.xlabel(\"n_estimator\")\n",
    "plt.ylabel(\"score\")\n",
    "plt.show()"
   ]
  },
  {
   "cell_type": "code",
   "execution_count": 129,
   "metadata": {
    "slideshow": {
     "slide_type": "slide"
    }
   },
   "outputs": [
    {
     "name": "stdout",
     "output_type": "stream",
     "text": [
      "最佳分类评分:0.9888888888888889\n",
      "最好的分类器个数:34\n"
     ]
    }
   ],
   "source": [
    "print(\"最佳分类评分:{}\\n最好的分类器个数:{}\".format(max(n_score)\n",
    "                                      , n_score.index(max(n_score))+1))"
   ]
  },
  {
   "cell_type": "markdown",
   "metadata": {
    "slideshow": {
     "slide_type": "slide"
    }
   },
   "source": [
    "#### 随机森林的错误率\n"
   ]
  },
  {
   "cell_type": "code",
   "execution_count": 22,
   "metadata": {},
   "outputs": [
    {
     "data": {
      "text/plain": [
       "0.00036904803455582827"
      ]
     },
     "execution_count": 22,
     "metadata": {},
     "output_type": "execute_result"
    }
   ],
   "source": [
    "import numpy as np\n",
    "from scipy.special import comb\n",
    "\n",
    "# 只有一般以上的错误，随机森林的判别结果才会出现错误\n",
    "np.array([comb(25, i)*(0.2**i)*((1-0.2)**(25-i)) for i in range(13, 26)]).sum()"
   ]
  },
  {
   "cell_type": "code",
   "execution_count": 23,
   "metadata": {},
   "outputs": [
    {
     "data": {
      "text/plain": [
       "0.9814814814814815"
      ]
     },
     "execution_count": 23,
     "metadata": {},
     "output_type": "execute_result"
    }
   ],
   "source": [
    "# 随机森林中randon state的用法\n",
    "rfc = RandomForestClassifier(n_estimators=25\n",
    "                             ,random_state=2\n",
    "                            )\n",
    "rfc = rfc.fit(Xtrain, Ytrain)\n",
    "rfc.score(Xtest, Ytest)"
   ]
  },
  {
   "cell_type": "code",
   "execution_count": 24,
   "metadata": {},
   "outputs": [
    {
     "data": {
      "text/plain": [
       "1872583848"
      ]
     },
     "execution_count": 24,
     "metadata": {},
     "output_type": "execute_result"
    }
   ],
   "source": [
    "# 获得特定基分类器的具体参数, estimators_查看树的参数\n",
    "rfc.estimators_[0].random_state"
   ]
  },
  {
   "cell_type": "code",
   "execution_count": 25,
   "metadata": {},
   "outputs": [
    {
     "name": "stdout",
     "output_type": "stream",
     "text": [
      "1872583848\n",
      "794921487\n",
      "111352301\n",
      "1853453896\n",
      "213298710\n",
      "1922988331\n",
      "1869695442\n",
      "2081981515\n",
      "1805465960\n",
      "1376693511\n",
      "1418777250\n",
      "663257521\n",
      "878959199\n",
      "854108747\n",
      "512264917\n",
      "515183663\n",
      "1287007039\n",
      "2083814687\n",
      "1146014426\n",
      "570104212\n",
      "520265852\n",
      "1366773364\n",
      "125164325\n",
      "786090663\n",
      "578016451\n"
     ]
    }
   ],
   "source": [
    "for i in range(len(rfc.estimators_)):\n",
    "    print(rfc.estimators_[i].random_state)"
   ]
  },
  {
   "cell_type": "markdown",
   "metadata": {},
   "source": [
    "随机森林采用自助求取数据，这使得最终的会有一部分数据未被分到\n",
    "即落在包外的数据，称为out of bag(oob), 随意随机森林可以不用设置测试机和训练集\n",
    "直接在使用包外数据进行测试。但是此时的数据集必须较大才可以有效果\n",
    "，否则较小的选择数据会样本被完全选择"
   ]
  },
  {
   "cell_type": "code",
   "execution_count": 12,
   "metadata": {},
   "outputs": [
    {
     "data": {
      "text/plain": [
       "RandomForestClassifier(bootstrap=True, ccp_alpha=0.0, class_weight=None,\n",
       "                       criterion='gini', max_depth=None, max_features='auto',\n",
       "                       max_leaf_nodes=None, max_samples=None,\n",
       "                       min_impurity_decrease=0.0, min_impurity_split=None,\n",
       "                       min_samples_leaf=1, min_samples_split=2,\n",
       "                       min_weight_fraction_leaf=0.0, n_estimators=25,\n",
       "                       n_jobs=None, oob_score=True, random_state=10, verbose=0,\n",
       "                       warm_start=False)"
      ]
     },
     "execution_count": 12,
     "metadata": {},
     "output_type": "execute_result"
    }
   ],
   "source": [
    "# 使用oob进行测试\n",
    "rfc = RandomForestClassifier(n_estimators=25\n",
    "                             ,oob_score=True # 使用袋外数据（前提：当n很大的时候）\n",
    "                             ,random_state=10\n",
    "                            )\n",
    "rfc.fit(Xtrain, Ytrain)"
   ]
  },
  {
   "cell_type": "code",
   "execution_count": 16,
   "metadata": {},
   "outputs": [
    {
     "data": {
      "text/plain": [
       "0.9596774193548387"
      ]
     },
     "execution_count": 16,
     "metadata": {},
     "output_type": "execute_result"
    }
   ],
   "source": [
    "# 使用包外数据进行测试\n",
    "rfc.oob_score_"
   ]
  },
  {
   "cell_type": "code",
   "execution_count": 28,
   "metadata": {},
   "outputs": [
    {
     "data": {
      "text/plain": [
       "[('alcohol', 0.09802665274472994),\n",
       " ('malic_acid', 0.04200312833451871),\n",
       " ('ash', 0.014254672601322696),\n",
       " ('alcalinity_of_ash', 0.0495284900473679),\n",
       " ('magnesium', 0.05867899799846975),\n",
       " ('total_phenols', 0.05699679368370348),\n",
       " ('flavanoids', 0.14030836073645717),\n",
       " ('nonflavanoid_phenols', 0.01578239049730595),\n",
       " ('proanthocyanins', 0.02276593571357596),\n",
       " ('color_intensity', 0.15956704324809393),\n",
       " ('hue', 0.06022386280520429),\n",
       " ('od280/od315_of_diluted_wines', 0.12352195871177721),\n",
       " ('proline', 0.1583417128774731)]"
      ]
     },
     "execution_count": 28,
     "metadata": {},
     "output_type": "execute_result"
    }
   ],
   "source": [
    "list(zip(wine.feature_names, rfc.feature_importances_))"
   ]
  },
  {
   "cell_type": "code",
   "execution_count": 247,
   "metadata": {},
   "outputs": [
    {
     "data": {
      "text/plain": [
       "array([[0.88, 0.08, 0.04],\n",
       "       [0.12, 0.8 , 0.08],\n",
       "       [0.68, 0.28, 0.04],\n",
       "       [0.  , 1.  , 0.  ],\n",
       "       [0.04, 0.04, 0.92],\n",
       "       [0.04, 0.12, 0.84],\n",
       "       [0.  , 1.  , 0.  ],\n",
       "       [0.  , 0.24, 0.76],\n",
       "       [0.  , 0.  , 1.  ],\n",
       "       [0.2 , 0.64, 0.16],\n",
       "       [1.  , 0.  , 0.  ],\n",
       "       [0.12, 0.76, 0.12],\n",
       "       [0.16, 0.72, 0.12],\n",
       "       [0.  , 0.  , 1.  ],\n",
       "       [0.  , 1.  , 0.  ],\n",
       "       [0.08, 0.16, 0.76],\n",
       "       [0.08, 0.12, 0.8 ],\n",
       "       [1.  , 0.  , 0.  ],\n",
       "       [0.96, 0.  , 0.04],\n",
       "       [0.96, 0.  , 0.04],\n",
       "       [1.  , 0.  , 0.  ],\n",
       "       [0.12, 0.2 , 0.68],\n",
       "       [0.04, 0.88, 0.08],\n",
       "       [1.  , 0.  , 0.  ],\n",
       "       [0.08, 0.4 , 0.52],\n",
       "       [0.  , 0.12, 0.88],\n",
       "       [0.  , 0.72, 0.28],\n",
       "       [0.  , 0.04, 0.96],\n",
       "       [0.04, 0.96, 0.  ],\n",
       "       [0.76, 0.24, 0.  ],\n",
       "       [0.04, 0.  , 0.96],\n",
       "       [1.  , 0.  , 0.  ],\n",
       "       [0.68, 0.32, 0.  ],\n",
       "       [0.  , 0.96, 0.04],\n",
       "       [0.04, 0.04, 0.92],\n",
       "       [0.96, 0.04, 0.  ],\n",
       "       [0.  , 0.08, 0.92],\n",
       "       [0.8 , 0.16, 0.04],\n",
       "       [0.08, 0.92, 0.  ],\n",
       "       [0.  , 1.  , 0.  ],\n",
       "       [1.  , 0.  , 0.  ],\n",
       "       [1.  , 0.  , 0.  ],\n",
       "       [0.92, 0.04, 0.04],\n",
       "       [1.  , 0.  , 0.  ],\n",
       "       [0.  , 0.2 , 0.8 ],\n",
       "       [0.08, 0.08, 0.84],\n",
       "       [0.  , 0.  , 1.  ],\n",
       "       [0.  , 1.  , 0.  ],\n",
       "       [0.92, 0.04, 0.04],\n",
       "       [0.2 , 0.72, 0.08],\n",
       "       [0.96, 0.04, 0.  ],\n",
       "       [0.04, 0.16, 0.8 ],\n",
       "       [0.  , 0.  , 1.  ],\n",
       "       [0.16, 0.44, 0.4 ]])"
      ]
     },
     "execution_count": 247,
     "metadata": {},
     "output_type": "execute_result"
    }
   ],
   "source": [
    "# 每一个样本所属各个类别的概率\n",
    "rfc.predict_proba(Xtest)"
   ]
  },
  {
   "cell_type": "code",
   "execution_count": 244,
   "metadata": {},
   "outputs": [
    {
     "data": {
      "text/plain": [
       "(54, 25)"
      ]
     },
     "execution_count": 244,
     "metadata": {},
     "output_type": "execute_result"
    }
   ],
   "source": [
    "# 行：样本　列：基本分类器　每一棵子树预测的结果\n",
    "rfc.apply(Xtest).shape"
   ]
  },
  {
   "cell_type": "code",
   "execution_count": 245,
   "metadata": {},
   "outputs": [
    {
     "data": {
      "text/plain": [
       "(54, 13)"
      ]
     },
     "execution_count": 245,
     "metadata": {},
     "output_type": "execute_result"
    }
   ],
   "source": [
    "Xtest.shape"
   ]
  },
  {
   "cell_type": "code",
   "execution_count": 31,
   "metadata": {},
   "outputs": [
    {
     "data": {
      "text/plain": [
       "array([[20, 12, 14, ..., 16, 17, 16],\n",
       "       [20, 12, 14, ..., 16, 17, 22],\n",
       "       [ 7,  1,  2, ...,  4,  8,  7],\n",
       "       ...,\n",
       "       [ 3,  8,  7, ...,  9, 12, 19],\n",
       "       [ 3,  8,  7, ...,  3,  6, 19],\n",
       "       [14,  1,  2, ..., 16,  8, 16]])"
      ]
     },
     "execution_count": 31,
     "metadata": {},
     "output_type": "execute_result"
    }
   ],
   "source": [
    "# 显示每一个样本在每一课树上的最终叶子节点\n",
    "rfc.apply(Xtest)"
   ]
  },
  {
   "cell_type": "code",
   "execution_count": 32,
   "metadata": {},
   "outputs": [
    {
     "data": {
      "text/plain": [
       "array([0, 0, 1, 1, 0, 1, 1, 1, 0, 2, 0, 2, 1, 2, 1, 1, 0, 0, 0, 0, 2, 2,\n",
       "       1, 1, 2, 0, 1, 2, 1, 1, 2, 2, 1, 0, 1, 2, 1, 1, 1, 2, 2, 0, 1, 2,\n",
       "       1, 1, 1, 0, 0, 0, 1, 2, 2, 1])"
      ]
     },
     "execution_count": 32,
     "metadata": {},
     "output_type": "execute_result"
    }
   ],
   "source": [
    "# 预测每一个样本可能的分类\n",
    "rfc.predict(Xtest)"
   ]
  },
  {
   "cell_type": "markdown",
   "metadata": {},
   "source": [
    "### 弱分类器要比随机猜测好一点（百分之五十的概率）"
   ]
  },
  {
   "cell_type": "code",
   "execution_count": 33,
   "metadata": {},
   "outputs": [],
   "source": [
    "import numpy as pd"
   ]
  },
  {
   "cell_type": "code",
   "execution_count": 34,
   "metadata": {},
   "outputs": [
    {
     "data": {
      "text/plain": [
       "array([0.        , 0.05263158, 0.10526316, 0.15789474, 0.21052632,\n",
       "       0.26315789, 0.31578947, 0.36842105, 0.42105263, 0.47368421,\n",
       "       0.52631579, 0.57894737, 0.63157895, 0.68421053, 0.73684211,\n",
       "       0.78947368, 0.84210526, 0.89473684, 0.94736842, 1.        ])"
      ]
     },
     "execution_count": 34,
     "metadata": {},
     "output_type": "execute_result"
    }
   ],
   "source": [
    "# 查看误差\n",
    "x = np.linspace(0, 1, 20)\n",
    "x"
   ]
  },
  {
   "cell_type": "code",
   "execution_count": 35,
   "metadata": {},
   "outputs": [
    {
     "data": {
      "image/png": "[encoded data removed]",
      "text/plain": [
       "<Figure size 432x288 with 1 Axes>"
      ]
     },
     "metadata": {
      "needs_background": "light"
     },
     "output_type": "display_data"
    }
   ],
   "source": [
    "# 一棵树决策树的误差率）\n",
    "y = []\n",
    "for epsion in np.linspace(0, 1, 20):\n",
    "    E = np.array([comb(25, i)*(epsion**i)*((1-epsion)**(25-i))\n",
    "                  for i in range(13, 26)]).sum()\n",
    "    y.append(E)\n",
    "\n",
    "plt.plot(x, y, label=\"when estimators are different\")\n",
    "plt.plot(x, x, label=\"if all estimators are same\")\n",
    "\n",
    "plt.xlabel(\"individusl estimator's error\")\n",
    "plt.ylabel(\"RandomForest's error\")\n",
    "plt.savefig(\"./imgs/基分类器要好.png\")\n",
    "plt.legend()\n",
    "plt.show()"
   ]
  }
 ],
 "metadata": {
  "kernelspec": {
   "display_name": "Python 3",
   "language": "python",
   "name": "python3"
  },
  "language_info": {
   "codemirror_mode": {
    "name": "ipython",
    "version": 3
   },
   "file_extension": ".py",
   "mimetype": "text/x-python",
   "name": "python",
   "nbconvert_exporter": "python",
   "pygments_lexer": "ipython3",
   "version": "3.6.3"
  }
 },
 "nbformat": 4,
 "nbformat_minor": 4
}
