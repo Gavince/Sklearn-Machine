{
 "cells": [
  {
   "cell_type": "code",
   "execution_count": 42,
   "metadata": {},
   "outputs": [],
   "source": [
    "import pandas as pd\n",
    "import numpy as np\n",
    "import matplotlib.pylab as plt\n",
    "from sklearn.datasets import load_digits\n",
    "from sklearn.model_selection import train_test_split\n",
    "import math\n",
    "from sklearn.metrics import confusion_matrix\n",
    "import seaborn as sns"
   ]
  },
  {
   "cell_type": "markdown",
   "metadata": {},
   "source": [
    "### 加载数据"
   ]
  },
  {
   "cell_type": "code",
   "execution_count": 43,
   "metadata": {},
   "outputs": [],
   "source": [
    "digits = load_digits()"
   ]
  },
  {
   "cell_type": "code",
   "execution_count": 44,
   "metadata": {},
   "outputs": [],
   "source": [
    "X = digits.data\n",
    "Y = digits.target"
   ]
  },
  {
   "cell_type": "markdown",
   "metadata": {},
   "source": [
    "### ⼆值化（离散化"
   ]
  },
  {
   "cell_type": "code",
   "execution_count": 45,
   "metadata": {},
   "outputs": [],
   "source": [
    "df = pd.DataFrame(X)"
   ]
  },
  {
   "cell_type": "code",
   "execution_count": 46,
   "metadata": {},
   "outputs": [],
   "source": [
    "for i in range(len(df)):\n",
    "    ave = df.iloc[i, :].sum()/64\n",
    "    temp1 = df.iloc[i, :]>=ave\n",
    "    temp2 = df.iloc[i, :]<ave\n",
    "    df.loc[i, temp1] = 1\n",
    "    df.loc[i, temp2] = 0"
   ]
  },
  {
   "cell_type": "code",
   "execution_count": 47,
   "metadata": {},
   "outputs": [
    {
     "data": {
      "image/png": "[encoded data removed]",
      "text/plain": [
       "<matplotlib.figure.Figure at 0x7f8a44f9f780>"
      ]
     },
     "metadata": {},
     "output_type": "display_data"
    }
   ],
   "source": [
    "df.iloc[0, :].hist()\n",
    "plt.show()"
   ]
  },
  {
   "cell_type": "code",
   "execution_count": 48,
   "metadata": {},
   "outputs": [],
   "source": [
    "# 转为ndarry类型数据\n",
    "X = df.values\n",
    "Xtrain, Xtest, Ytrain, Ytest = train_test_split(X, Y\n",
    ", test_size = 0.3\n",
    ", random_state =0\n",
    ")"
   ]
  },
  {
   "cell_type": "markdown",
   "metadata": {},
   "source": [
    "### 可视化化数据"
   ]
  },
  {
   "cell_type": "code",
   "execution_count": 49,
   "metadata": {},
   "outputs": [
    {
     "data": {
      "image/png": "[encoded data removed]",
      "text/plain": [
       "<matplotlib.figure.Figure at 0x7f8a44b98358>"
      ]
     },
     "metadata": {},
     "output_type": "display_data"
    }
   ],
   "source": [
    "fig, ax = plt.subplots(4, 5\n",
    "                    , figsize= (10,8)\n",
    "                    , subplot_kw = {\"xticks\":[], \"yticks\":[]}\n",
    "                    )\n",
    "\n",
    "for i ,ax in enumerate(ax.flat):\n",
    "    ax.imshow(Xtrain[i, :].reshape(8, 8)\n",
    "            ,cmap=\"gray\"\n",
    "            )\n",
    "plt.show()"
   ]
  },
  {
   "cell_type": "markdown",
   "metadata": {},
   "source": [
    "### ⻉叶斯算法"
   ]
  },
  {
   "cell_type": "code",
   "execution_count": 50,
   "metadata": {},
   "outputs": [],
   "source": [
    "class NaivaBayes:\n",
    "    \"\"\"最⼩⻛险朴素⻉叶斯\"\"\"\n",
    "    def __init__(self, alpha=1, fit_prior=True, class_prior=None):\n",
    "        self.alpha = alpha\n",
    "        self.fit_prior = fit_prior\n",
    "        self.class_prior = class_prior # 先验\n",
    "        self.classes = None # 类别\n",
    "        self.conditional_prob = None # 类条件概率（特征独⽴性假设）\n",
    "        \n",
    "    def calculate_feature_prob(self, feature):\n",
    "        values = np.unique(feature) # 特征的可能取值\n",
    "        total_num = float(len(feature))\n",
    "        value_prob = {}\n",
    "        for v in values:\n",
    "            value_prob[v] = ((np.sum(np.equal(feature, v))\n",
    "                                + self.alpha)/(total_num + len(values)*self.alpha))\n",
    "        # 填充⾮零项\n",
    "        if 1.0 not in value_prob.keys():\n",
    "            value_prob[1.0] = 0.0\n",
    "        if 0 not in value_prob.keys():\n",
    "            value_prob[0.0] = 0.0\n",
    "        return value_prob\n",
    "    \n",
    "    def fit(self, X, y):\n",
    "        self.classes = np.unique(y)\n",
    "        # 计算先验概率\n",
    "        if self.class_prior == None:\n",
    "            class_num = len(self.classes)\n",
    "            if not self.fit_prior: # 如果不设置先验，则将先验概率等分\n",
    "                self.class_prior = [1.0/class_num for _ in range(class_num)]\n",
    "            # 统计先验概率\n",
    "            else:\n",
    "                self.class_prior = []\n",
    "                sample_num = float(len(y))\n",
    "                for c in self.classes:\n",
    "                    c_num = np.sum(np.equal(c, y))\n",
    "                    # 加⼊平滑\n",
    "                    self.class_prior.append((c_num + self.alpha) / (sample_num +\n",
    "                                            class_num*self.alpha))\n",
    "        \n",
    "        # 计算⻉叶斯条件概率\n",
    "        self.conditional_prob = {}\n",
    "        # 分别计算每⼀个类别\n",
    "        for c in self.classes:\n",
    "            self.conditional_prob[c] = {}\n",
    "            # 计算每⼀个特征\n",
    "            for i in range(len(X[0])):\n",
    "                feature = X[np.equal(y, c)][:, i]\n",
    "                # 保存c_j类的f_i类特征\n",
    "                self.conditional_prob[c][i] = self.calculate_feature_prob(feature)\n",
    "        return self\n",
    "    \n",
    "    def predict_sigle_sample(self, x):\n",
    "        \"\"\"最⼩错误的⻉叶斯决策\"\"\"\n",
    "        label = -1\n",
    "        max_poster_prob = 0\n",
    "        for c_index in range(len(self.classes)):\n",
    "            current_class_prior = self.class_prior[c_index] # 取出相应的后验概率\n",
    "            current_conditional_prob = 1.0 # 当前条件概率\n",
    "            feature_prob = self.conditional_prob[self.classes[c_index]] #当前类别下的特征概率\n",
    "            j = 0\n",
    "            for feature_i in range(len(feature_prob)):\n",
    "                # 当前类别下的所有的条件概率\n",
    "                current_conditional_prob *= feature_prob[feature_i][x[j]]\n",
    "                j += 1\n",
    "            if current_conditional_prob*current_class_prior>max_poster_prob:\n",
    "                max_poster_prob = current_class_prior*current_conditional_prob\n",
    "                label = self.classes[c_index]\n",
    "        return label\n",
    "    \n",
    "    def predict_sigle_expensive(self, x):\n",
    "        \"\"\"最⼩⻛险的⻉叶斯决策\"\"\"\n",
    "        label = -1\n",
    "        # max_poster_prob = 0\n",
    "        \n",
    "        current_loss = np.ones((1, len(self.classes)))\n",
    "        # 使⽤随机的决策⽅程（0， 1）\n",
    "        decsion_function = np.random.random((len(self.classes), len(self.classes)))\n",
    "        # decsion_function = np.random.random_integers(10, size=(len(self.classes),\n",
    "        # len(self.classes)))\n",
    "        \n",
    "        for c_index in range(len(self.classes)):\n",
    "            current_class_prior = self.class_prior[c_index] # 取出相应的后验概率\n",
    "            current_conditional_prob = 1.0 # 当前条件概率\n",
    "            feature_prob = self.conditional_prob[self.classes[c_index]] #当前类别下的特征概率\n",
    "            j = 0\n",
    "            for feature_i in range(len(feature_prob)):\n",
    "                # 当前类别下的所有的条件概率\n",
    "                current_conditional_prob *= feature_prob[feature_i][x[j]]\n",
    "                j += 1\n",
    "            current_loss[:, c_index] = current_class_prior*current_conditional_prob\n",
    "        label = np.argmin(np.matmul(decsion_function, current_loss.T))\n",
    "        return label\n",
    "    \n",
    "    def predict_accuacy(self, Xtest, Ytest, decsion=True):\n",
    "        if decsion:\n",
    "            if Xtest.ndim == 1:\n",
    "                return self.predict_sigle_sample(Xtest)\n",
    "            else:\n",
    "                count = 0\n",
    "                labels = []\n",
    "                for i in range(Xtest.shape[0]):\n",
    "                    label = self.predict_sigle_sample(Xtest[i])\n",
    "                    if label == Ytest[i]:\n",
    "                        count +=1\n",
    "                    labels.append(label)\n",
    "                return count/Xtest.shape[0], np.array(labels)\n",
    "        else:\n",
    "            if Xtest.ndim == 1:\n",
    "                return self.predict_sigle_expensive(Xtest)\n",
    "            else:\n",
    "                count = 0\n",
    "                labels = []\n",
    "                for i in range(Xtest.shape[0]):\n",
    "                ##最⼩错误的⻉叶斯\n",
    "                    label = self.predict_sigle_expensive(Xtest[i])\n",
    "                    if label == Ytest[i]:\n",
    "                        count +=1\n",
    "                    labels.append(label)\n",
    "                return count/Xtest.shape[0], np.array(labels)"
   ]
  },
  {
   "cell_type": "code",
   "execution_count": 51,
   "metadata": {},
   "outputs": [],
   "source": [
    "model = NaivaBayes()\n",
    "model = model.fit(Xtrain,Ytrain)"
   ]
  },
  {
   "cell_type": "markdown",
   "metadata": {},
   "source": [
    "### 最⼩错误的⻉叶斯"
   ]
  },
  {
   "cell_type": "code",
   "execution_count": 52,
   "metadata": {},
   "outputs": [
    {
     "data": {
      "text/plain": [
       "2"
      ]
     },
     "execution_count": 52,
     "metadata": {},
     "output_type": "execute_result"
    }
   ],
   "source": [
    "# 单个样本的测试\n",
    "model.predict_sigle_sample(Xtest[0])"
   ]
  },
  {
   "cell_type": "code",
   "execution_count": 53,
   "metadata": {},
   "outputs": [
    {
     "name": "stdout",
     "output_type": "stream",
     "text": [
      "Accuracy:0.863\n"
     ]
    }
   ],
   "source": [
    "accuracy, Ypred = model.predict_accuacy(Xtest, Ytest)\n",
    "print(\"Accuracy:%0.3f\" % (accuracy))"
   ]
  },
  {
   "cell_type": "code",
   "execution_count": 54,
   "metadata": {},
   "outputs": [
    {
     "data": {
      "image/png": "[encoded data removed]",
      "text/plain": [
       "<matplotlib.figure.Figure at 0x7f8a45343278>"
      ]
     },
     "metadata": {},
     "output_type": "display_data"
    }
   ],
   "source": [
    "cm = confusion_matrix(Ytest, Ypred)\n",
    "fig, axes = plt.subplots(1, 1, figsize=(8, 8))\n",
    "sns.heatmap(cm, annot=True, ax = axes)\n",
    "axes.set_xlabel(\"Predict\")\n",
    "axes.set_ylabel(\"True\")\n",
    "axes.set_xlim([-1,10])\n",
    "axes.set_ylim([10,-1])\n",
    "plt.show()"
   ]
  },
  {
   "cell_type": "code",
   "execution_count": 55,
   "metadata": {},
   "outputs": [
    {
     "data": {
      "image/png": "[encoded data removed]",
      "text/plain": [
       "<matplotlib.figure.Figure at 0x7f8a46f31a58>"
      ]
     },
     "metadata": {},
     "output_type": "display_data"
    }
   ],
   "source": [
    "fig, ax = plt.subplots(1, 10\n",
    "                        , figsize= (10,10)\n",
    "                        , subplot_kw = {\"xticks\":[], \"yticks\":[]}\n",
    "                        , squeeze = False\n",
    "                        )\n",
    "for i ,ax in enumerate(ax.flat):\n",
    "    ax.imshow(Xtest[i, :].reshape(8, 8)\n",
    "    ,cmap=\"gray\"\n",
    "    )\n",
    "    ax.set_title(\"Ture:{}\\nPred:{}\".format(Ytest[i], Ypred[i]))\n",
    "plt.show()"
   ]
  },
  {
   "cell_type": "markdown",
   "metadata": {},
   "source": [
    "### 最⼩⻛险的⻉叶斯"
   ]
  },
  {
   "cell_type": "code",
   "execution_count": 56,
   "metadata": {},
   "outputs": [
    {
     "data": {
      "text/plain": [
       "6"
      ]
     },
     "execution_count": 56,
     "metadata": {},
     "output_type": "execute_result"
    }
   ],
   "source": [
    "# 单个样本的决策\n",
    "model.predict_sigle_expensive(Xtest[0])"
   ]
  },
  {
   "cell_type": "code",
   "execution_count": 57,
   "metadata": {},
   "outputs": [
    {
     "name": "stdout",
     "output_type": "stream",
     "text": [
      "Accuracy:0.100\n"
     ]
    }
   ],
   "source": [
    "#测试集预测(基于最⼩⻛险的⻉叶斯，取决与不同的决策⾯⽅程，此次决策⾯⽅程随机抽取，所以准确率较低，可\n",
    "#以进⾏⼈为调节)\n",
    "accuracy, Ypred = model.predict_accuacy(Xtest, Ytest, decsion=False)\n",
    "print(\"Accuracy:%0.3f\" % (accuracy))"
   ]
  },
  {
   "cell_type": "code",
   "execution_count": 58,
   "metadata": {},
   "outputs": [
    {
     "data": {
      "image/png": "[encoded data removed]",
      "text/plain": [
       "<matplotlib.figure.Figure at 0x7f8a4500a4a8>"
      ]
     },
     "metadata": {},
     "output_type": "display_data"
    }
   ],
   "source": [
    "# 混淆矩阵\n",
    "cm = confusion_matrix(Ytest, Ypred)\n",
    "fig, axes = plt.subplots(1, 1, figsize=(8, 8))\n",
    "sns.heatmap(cm, annot=True, ax = axes)\n",
    "axes.set_xlabel(\"Predict\")\n",
    "axes.set_ylabel(\"True\")\n",
    "axes.set_xlim([-1,10])\n",
    "axes.set_ylim([10,-1])\n",
    "plt.show()"
   ]
  },
  {
   "cell_type": "code",
   "execution_count": 59,
   "metadata": {},
   "outputs": [
    {
     "data": {
      "image/png": "[encoded data removed]",
      "text/plain": [
       "<matplotlib.figure.Figure at 0x7f8a454bdf98>"
      ]
     },
     "metadata": {},
     "output_type": "display_data"
    }
   ],
   "source": [
    "fig, ax = plt.subplots(1, 10\n",
    "                        , figsize= (10,10)\n",
    "                        , subplot_kw = {\"xticks\":[], \"yticks\":[]}\n",
    "                        , squeeze = False\n",
    "                        )\n",
    "for i ,ax in enumerate(ax.flat):\n",
    "    ax.imshow(Xtest[i, :].reshape(8, 8)\n",
    "    ,cmap=\"gray\"\n",
    "    )\n",
    "    ax.set_title(\"Ture:{}\\nPred:{}\".format(Ytest[i], Ypred[i]))\n",
    "plt.show()"
   ]
  },
  {
   "cell_type": "code",
   "execution_count": null,
   "metadata": {},
   "outputs": [],
   "source": []
  },
  {
   "cell_type": "code",
   "execution_count": null,
   "metadata": {},
   "outputs": [],
   "source": []
  },
  {
   "cell_type": "code",
   "execution_count": null,
   "metadata": {},
   "outputs": [],
   "source": []
  },
  {
   "cell_type": "code",
   "execution_count": null,
   "metadata": {},
   "outputs": [],
   "source": []
  }
 ],
 "metadata": {
  "kernelspec": {
   "display_name": "Python 3",
   "language": "python",
   "name": "python3"
  },
  "language_info": {
   "codemirror_mode": {
    "name": "ipython",
    "version": 3
   },
   "file_extension": ".py",
   "mimetype": "text/x-python",
   "name": "python",
   "nbconvert_exporter": "python",
   "pygments_lexer": "ipython3",
   "version": "3.6.3"
  }
 },
 "nbformat": 4,
 "nbformat_minor": 4
}
