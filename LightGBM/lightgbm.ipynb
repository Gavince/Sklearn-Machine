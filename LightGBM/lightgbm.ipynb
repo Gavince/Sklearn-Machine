{
 "cells": [
  {
   "cell_type": "code",
   "execution_count": 1,
   "metadata": {},
   "outputs": [],
   "source": [
    "import pandas as pd\n",
    "import matplotlib.pyplot as plt\n",
    "import numpy as np\n",
    "import seaborn as sns\n",
    "from sklearn.metrics import mean_squared_error as MSE\n",
    "from sklearn.model_selection import train_test_split\n",
    "import lightgbm as lgb\n",
    "from sklearn.datasets import load_boston\n",
    "from sklearn.datasets import load_breast_cancer\n",
    "from sklearn.model_selection import GridSearchCV\n",
    "import joblib\n",
    "from sklearn.metrics import roc_curve\n",
    "from sklearn.metrics import roc_auc_score as AUC"
   ]
  },
  {
   "cell_type": "markdown",
   "metadata": {},
   "source": [
    "## 加载数据"
   ]
  },
  {
   "cell_type": "code",
   "execution_count": 2,
   "metadata": {},
   "outputs": [],
   "source": [
    "boston = load_boston()"
   ]
  },
  {
   "cell_type": "code",
   "execution_count": 3,
   "metadata": {},
   "outputs": [],
   "source": [
    "X = boston.data\n",
    "Y = boston.target"
   ]
  },
  {
   "cell_type": "code",
   "execution_count": 4,
   "metadata": {},
   "outputs": [],
   "source": [
    "df = pd.DataFrame(X, columns=boston.feature_names)"
   ]
  },
  {
   "cell_type": "code",
   "execution_count": 5,
   "metadata": {},
   "outputs": [
    {
     "data": {
      "text/html": [
       "<div>\n",
       "<style scoped>\n",
       "    .dataframe tbody tr th:only-of-type {\n",
       "        vertical-align: middle;\n",
       "    }\n",
       "\n",
       "    .dataframe tbody tr th {\n",
       "        vertical-align: top;\n",
       "    }\n",
       "\n",
       "    .dataframe thead th {\n",
       "        text-align: right;\n",
       "    }\n",
       "</style>\n",
       "<table border=\"1\" class=\"dataframe\">\n",
       "  <thead>\n",
       "    <tr style=\"text-align: right;\">\n",
       "      <th></th>\n",
       "      <th>CRIM</th>\n",
       "      <th>ZN</th>\n",
       "      <th>INDUS</th>\n",
       "      <th>CHAS</th>\n",
       "      <th>NOX</th>\n",
       "      <th>RM</th>\n",
       "      <th>AGE</th>\n",
       "      <th>DIS</th>\n",
       "      <th>RAD</th>\n",
       "      <th>TAX</th>\n",
       "      <th>PTRATIO</th>\n",
       "      <th>B</th>\n",
       "      <th>LSTAT</th>\n",
       "    </tr>\n",
       "  </thead>\n",
       "  <tbody>\n",
       "    <tr>\n",
       "      <th>0</th>\n",
       "      <td>0.00632</td>\n",
       "      <td>18.0</td>\n",
       "      <td>2.31</td>\n",
       "      <td>0.0</td>\n",
       "      <td>0.538</td>\n",
       "      <td>6.575</td>\n",
       "      <td>65.2</td>\n",
       "      <td>4.0900</td>\n",
       "      <td>1.0</td>\n",
       "      <td>296.0</td>\n",
       "      <td>15.3</td>\n",
       "      <td>396.90</td>\n",
       "      <td>4.98</td>\n",
       "    </tr>\n",
       "    <tr>\n",
       "      <th>1</th>\n",
       "      <td>0.02731</td>\n",
       "      <td>0.0</td>\n",
       "      <td>7.07</td>\n",
       "      <td>0.0</td>\n",
       "      <td>0.469</td>\n",
       "      <td>6.421</td>\n",
       "      <td>78.9</td>\n",
       "      <td>4.9671</td>\n",
       "      <td>2.0</td>\n",
       "      <td>242.0</td>\n",
       "      <td>17.8</td>\n",
       "      <td>396.90</td>\n",
       "      <td>9.14</td>\n",
       "    </tr>\n",
       "    <tr>\n",
       "      <th>2</th>\n",
       "      <td>0.02729</td>\n",
       "      <td>0.0</td>\n",
       "      <td>7.07</td>\n",
       "      <td>0.0</td>\n",
       "      <td>0.469</td>\n",
       "      <td>7.185</td>\n",
       "      <td>61.1</td>\n",
       "      <td>4.9671</td>\n",
       "      <td>2.0</td>\n",
       "      <td>242.0</td>\n",
       "      <td>17.8</td>\n",
       "      <td>392.83</td>\n",
       "      <td>4.03</td>\n",
       "    </tr>\n",
       "    <tr>\n",
       "      <th>3</th>\n",
       "      <td>0.03237</td>\n",
       "      <td>0.0</td>\n",
       "      <td>2.18</td>\n",
       "      <td>0.0</td>\n",
       "      <td>0.458</td>\n",
       "      <td>6.998</td>\n",
       "      <td>45.8</td>\n",
       "      <td>6.0622</td>\n",
       "      <td>3.0</td>\n",
       "      <td>222.0</td>\n",
       "      <td>18.7</td>\n",
       "      <td>394.63</td>\n",
       "      <td>2.94</td>\n",
       "    </tr>\n",
       "    <tr>\n",
       "      <th>4</th>\n",
       "      <td>0.06905</td>\n",
       "      <td>0.0</td>\n",
       "      <td>2.18</td>\n",
       "      <td>0.0</td>\n",
       "      <td>0.458</td>\n",
       "      <td>7.147</td>\n",
       "      <td>54.2</td>\n",
       "      <td>6.0622</td>\n",
       "      <td>3.0</td>\n",
       "      <td>222.0</td>\n",
       "      <td>18.7</td>\n",
       "      <td>396.90</td>\n",
       "      <td>5.33</td>\n",
       "    </tr>\n",
       "  </tbody>\n",
       "</table>\n",
       "</div>"
      ],
      "text/plain": [
       "      CRIM    ZN  INDUS  CHAS    NOX     RM   AGE     DIS  RAD    TAX  \\\n",
       "0  0.00632  18.0   2.31   0.0  0.538  6.575  65.2  4.0900  1.0  296.0   \n",
       "1  0.02731   0.0   7.07   0.0  0.469  6.421  78.9  4.9671  2.0  242.0   \n",
       "2  0.02729   0.0   7.07   0.0  0.469  7.185  61.1  4.9671  2.0  242.0   \n",
       "3  0.03237   0.0   2.18   0.0  0.458  6.998  45.8  6.0622  3.0  222.0   \n",
       "4  0.06905   0.0   2.18   0.0  0.458  7.147  54.2  6.0622  3.0  222.0   \n",
       "\n",
       "   PTRATIO       B  LSTAT  \n",
       "0     15.3  396.90   4.98  \n",
       "1     17.8  396.90   9.14  \n",
       "2     17.8  392.83   4.03  \n",
       "3     18.7  394.63   2.94  \n",
       "4     18.7  396.90   5.33  "
      ]
     },
     "execution_count": 5,
     "metadata": {},
     "output_type": "execute_result"
    }
   ],
   "source": [
    "df.head()"
   ]
  },
  {
   "cell_type": "code",
   "execution_count": 6,
   "metadata": {},
   "outputs": [
    {
     "name": "stdout",
     "output_type": "stream",
     "text": [
      "<class 'pandas.core.frame.DataFrame'>\n",
      "RangeIndex: 506 entries, 0 to 505\n",
      "Data columns (total 13 columns):\n",
      " #   Column   Non-Null Count  Dtype  \n",
      "---  ------   --------------  -----  \n",
      " 0   CRIM     506 non-null    float64\n",
      " 1   ZN       506 non-null    float64\n",
      " 2   INDUS    506 non-null    float64\n",
      " 3   CHAS     506 non-null    float64\n",
      " 4   NOX      506 non-null    float64\n",
      " 5   RM       506 non-null    float64\n",
      " 6   AGE      506 non-null    float64\n",
      " 7   DIS      506 non-null    float64\n",
      " 8   RAD      506 non-null    float64\n",
      " 9   TAX      506 non-null    float64\n",
      " 10  PTRATIO  506 non-null    float64\n",
      " 11  B        506 non-null    float64\n",
      " 12  LSTAT    506 non-null    float64\n",
      "dtypes: float64(13)\n",
      "memory usage: 51.5 KB\n"
     ]
    }
   ],
   "source": [
    "df.info()"
   ]
  },
  {
   "cell_type": "code",
   "execution_count": 7,
   "metadata": {},
   "outputs": [],
   "source": [
    "# 划分数据集\n",
    "X_train, X_test, Y_train, Y_test = train_test_split(X, Y\n",
    "                                                    , test_size = 0.2\n",
    "                                                    , random_state=20\n",
    "                                                   )"
   ]
  },
  {
   "cell_type": "markdown",
   "metadata": {},
   "source": [
    "## 建模"
   ]
  },
  {
   "cell_type": "markdown",
   "metadata": {},
   "source": [
    "### 原生接口"
   ]
  },
  {
   "cell_type": "code",
   "execution_count": 8,
   "metadata": {},
   "outputs": [],
   "source": [
    "# 转换指定数据类型\n",
    "lgb_train = lgb.Dataset(X_train, Y_train)\n",
    "lgb_eval = lgb.Dataset(X_test, Y_test)"
   ]
  },
  {
   "cell_type": "code",
   "execution_count": 9,
   "metadata": {},
   "outputs": [],
   "source": [
    "# 指定参数\n",
    "\n",
    "params = {\n",
    "    \"task\": \"train\",\n",
    "    \"boosting_type\": \"gbdt\",\n",
    "    \"objective\": \"regression\",  # 回归任务\n",
    "    \"metric\": {\"l2\", \"auc\", \"mse\"},\n",
    "    \"num_leaves\": 31,  # 由于lightGBM是leaves_wise生长，官方说法是要小于2^max_depth\n",
    "    \"learning_rate\": 0.2,\n",
    "    \"feature_fraction\": 0.9,  # 建树的特征选择比例\n",
    "    \"bagging_fraction\": 0.8,  # 建树的采样比例\n",
    "    \"bagging_freq\": 5,  # K意味着每k次迭代执行bagging\n",
    "    \"verbose\": 1,\n",
    "    \n",
    "}"
   ]
  },
  {
   "cell_type": "code",
   "execution_count": 10,
   "metadata": {},
   "outputs": [
    {
     "name": "stdout",
     "output_type": "stream",
     "text": [
      "[1]\tvalid_0's l2: 48.1141\tvalid_0's auc: 1\n",
      "Training until validation scores don't improve for 10 rounds\n",
      "[2]\tvalid_0's l2: 36.9433\tvalid_0's auc: 1\n",
      "[3]\tvalid_0's l2: 29.7797\tvalid_0's auc: 1\n",
      "[4]\tvalid_0's l2: 24.3468\tvalid_0's auc: 1\n",
      "[5]\tvalid_0's l2: 21.4545\tvalid_0's auc: 1\n",
      "[6]\tvalid_0's l2: 19.8794\tvalid_0's auc: 1\n",
      "[7]\tvalid_0's l2: 18.8305\tvalid_0's auc: 1\n",
      "[8]\tvalid_0's l2: 17.4252\tvalid_0's auc: 1\n",
      "[9]\tvalid_0's l2: 16.8314\tvalid_0's auc: 1\n",
      "[10]\tvalid_0's l2: 16.081\tvalid_0's auc: 1\n",
      "[11]\tvalid_0's l2: 15.9075\tvalid_0's auc: 1\n",
      "Early stopping, best iteration is:\n",
      "[1]\tvalid_0's l2: 48.1141\tvalid_0's auc: 1\n"
     ]
    }
   ],
   "source": [
    "# training model\n",
    "gbm =lgb.train(params=params, train_set=lgb_train\n",
    "          , num_boost_round=200\n",
    "          , valid_sets=lgb_eval\n",
    "          , early_stopping_rounds=10\n",
    "         )"
   ]
  },
  {
   "cell_type": "code",
   "execution_count": 11,
   "metadata": {},
   "outputs": [
    {
     "data": {
      "text/plain": [
       "['./data/lgb.pkl']"
      ]
     },
     "execution_count": 11,
     "metadata": {},
     "output_type": "execute_result"
    }
   ],
   "source": [
    "# 保存模型\n",
    "joblib.dump(gbm, \"./data/lgb.pkl\")"
   ]
  },
  {
   "cell_type": "code",
   "execution_count": 12,
   "metadata": {},
   "outputs": [
    {
     "data": {
      "text/plain": [
       "defaultdict(collections.OrderedDict,\n",
       "            {'valid_0': OrderedDict([('l2', 48.11408456374963),\n",
       "                          ('auc', 1.0)])})"
      ]
     },
     "execution_count": 12,
     "metadata": {},
     "output_type": "execute_result"
    }
   ],
   "source": [
    "gbm.best_score"
   ]
  },
  {
   "cell_type": "code",
   "execution_count": 13,
   "metadata": {},
   "outputs": [
    {
     "data": {
      "text/plain": [
       "48.11408377454491"
      ]
     },
     "execution_count": 13,
     "metadata": {},
     "output_type": "execute_result"
    }
   ],
   "source": [
    "# 评估指标\n",
    "MSE(Y_test, gbm.predict(data=X_test))"
   ]
  },
  {
   "cell_type": "markdown",
   "metadata": {},
   "source": [
    "### sklearn接口"
   ]
  },
  {
   "cell_type": "code",
   "execution_count": 14,
   "metadata": {},
   "outputs": [
    {
     "data": {
      "text/plain": [
       "LGBMRegressor(boosting_type='gbdt', class_weight=None, colsample_bytree=1.0,\n",
       "              importance_type='split', learning_rate=0.05, max_depth=-1,\n",
       "              min_child_samples=20, min_child_weight=0.001, min_split_gain=0.0,\n",
       "              n_estimators=100, n_jobs=-1, num_leaves=31, objective=None,\n",
       "              random_state=None, reg_alpha=0.0, reg_lambda=0.0, silent=True,\n",
       "              subsample=1.0, subsample_for_bin=200000, subsample_freq=0)"
      ]
     },
     "execution_count": 14,
     "metadata": {},
     "output_type": "execute_result"
    }
   ],
   "source": [
    "gbm = lgb.LGBMRegressor(num_leaves=31, learning_rate=0.05)\n",
    "gbm.fit(X_train, Y_train)"
   ]
  },
  {
   "cell_type": "code",
   "execution_count": 15,
   "metadata": {},
   "outputs": [
    {
     "data": {
      "text/plain": [
       "11.827460665407331"
      ]
     },
     "execution_count": 15,
     "metadata": {},
     "output_type": "execute_result"
    }
   ],
   "source": [
    "# 评估指标\n",
    "MSE(Y_test, gbm.predict(X_test))"
   ]
  },
  {
   "cell_type": "code",
   "execution_count": 16,
   "metadata": {},
   "outputs": [
    {
     "data": {
      "text/html": [
       "<div>\n",
       "<style scoped>\n",
       "    .dataframe tbody tr th:only-of-type {\n",
       "        vertical-align: middle;\n",
       "    }\n",
       "\n",
       "    .dataframe tbody tr th {\n",
       "        vertical-align: top;\n",
       "    }\n",
       "\n",
       "    .dataframe thead th {\n",
       "        text-align: right;\n",
       "    }\n",
       "</style>\n",
       "<table border=\"1\" class=\"dataframe\">\n",
       "  <thead>\n",
       "    <tr style=\"text-align: right;\">\n",
       "      <th></th>\n",
       "      <th>score</th>\n",
       "    </tr>\n",
       "  </thead>\n",
       "  <tbody>\n",
       "    <tr>\n",
       "      <th>RM</th>\n",
       "      <td>258</td>\n",
       "    </tr>\n",
       "    <tr>\n",
       "      <th>LSTAT</th>\n",
       "      <td>257</td>\n",
       "    </tr>\n",
       "    <tr>\n",
       "      <th>DIS</th>\n",
       "      <td>188</td>\n",
       "    </tr>\n",
       "    <tr>\n",
       "      <th>NOX</th>\n",
       "      <td>158</td>\n",
       "    </tr>\n",
       "    <tr>\n",
       "      <th>AGE</th>\n",
       "      <td>141</td>\n",
       "    </tr>\n",
       "    <tr>\n",
       "      <th>CRIM</th>\n",
       "      <td>124</td>\n",
       "    </tr>\n",
       "    <tr>\n",
       "      <th>B</th>\n",
       "      <td>101</td>\n",
       "    </tr>\n",
       "    <tr>\n",
       "      <th>PTRATIO</th>\n",
       "      <td>100</td>\n",
       "    </tr>\n",
       "    <tr>\n",
       "      <th>TAX</th>\n",
       "      <td>85</td>\n",
       "    </tr>\n",
       "    <tr>\n",
       "      <th>INDUS</th>\n",
       "      <td>49</td>\n",
       "    </tr>\n",
       "    <tr>\n",
       "      <th>RAD</th>\n",
       "      <td>43</td>\n",
       "    </tr>\n",
       "    <tr>\n",
       "      <th>ZN</th>\n",
       "      <td>3</td>\n",
       "    </tr>\n",
       "    <tr>\n",
       "      <th>CHAS</th>\n",
       "      <td>0</td>\n",
       "    </tr>\n",
       "  </tbody>\n",
       "</table>\n",
       "</div>"
      ],
      "text/plain": [
       "         score\n",
       "RM         258\n",
       "LSTAT      257\n",
       "DIS        188\n",
       "NOX        158\n",
       "AGE        141\n",
       "CRIM       124\n",
       "B          101\n",
       "PTRATIO    100\n",
       "TAX         85\n",
       "INDUS       49\n",
       "RAD         43\n",
       "ZN           3\n",
       "CHAS         0"
      ]
     },
     "execution_count": 16,
     "metadata": {},
     "output_type": "execute_result"
    }
   ],
   "source": [
    "# 特征重要性\n",
    "feature_import = pd.DataFrame(gbm.feature_importances_\n",
    "                              , index=df.columns\n",
    "                              , columns=[\"score\"]\n",
    "                             )\n",
    "feature_import.sort_values(by=\"score\", ascending=False)"
   ]
  },
  {
   "cell_type": "code",
   "execution_count": 17,
   "metadata": {},
   "outputs": [],
   "source": [
    "# 网格搜索\n",
    "estimator = lgb.LGBMRegressor(num_leaves=31)\n",
    "param_grid = {\n",
    "    \"learning\": [0.1, 0.001, 1],\n",
    "    \"n_estimators\": [20, 40]\n",
    "}"
   ]
  },
  {
   "cell_type": "code",
   "execution_count": 32,
   "metadata": {},
   "outputs": [],
   "source": [
    "gbm = GridSearchCV(estimator=estimator, param_grid=param_grid, cv=5)\n",
    "gbm = gbm.fit(X_train, Y_train)"
   ]
  },
  {
   "cell_type": "code",
   "execution_count": 30,
   "metadata": {},
   "outputs": [
    {
     "data": {
      "text/plain": [
       "{'learning': 0.1, 'n_estimators': 40}"
      ]
     },
     "execution_count": 30,
     "metadata": {},
     "output_type": "execute_result"
    }
   ],
   "source": [
    "gbm.best_params_"
   ]
  },
  {
   "cell_type": "code",
   "execution_count": 31,
   "metadata": {},
   "outputs": [
    {
     "data": {
      "text/plain": [
       "array([0.80872144, 0.84981015, 0.80872144, 0.84981015, 0.80872144,\n",
       "       0.84981015])"
      ]
     },
     "execution_count": 31,
     "metadata": {},
     "output_type": "execute_result"
    }
   ],
   "source": [
    "gbm.cv_results_[\"mean_test_score\"]"
   ]
  },
  {
   "cell_type": "code",
   "execution_count": 34,
   "metadata": {},
   "outputs": [
    {
     "data": {
      "text/plain": [
       "0.8407504431796051"
      ]
     },
     "execution_count": 34,
     "metadata": {},
     "output_type": "execute_result"
    }
   ],
   "source": [
    "gbm.best_score_"
   ]
  },
  {
   "cell_type": "markdown",
   "metadata": {},
   "source": [
    "### CV交差验证调参\n",
    "0. 确定任务类型(回归、分类、排序等)，以及基学习器的类型(dark, gbdt、RF)  \n",
    "1. 首先选择较高的学习率，大概0.1附近，这样是为了加快收敛的速度。这对于调参是很有必要的。\n",
    "2. 对决策树基本参数调参\n",
    "3. 正则化参数调参\n",
    "4. 最后降低学习率，这里是为了最后提高准确率\n"
   ]
  },
  {
   "cell_type": "markdown",
   "metadata": {},
   "source": [
    "#### 加载数据"
   ]
  },
  {
   "cell_type": "code",
   "execution_count": 40,
   "metadata": {},
   "outputs": [],
   "source": [
    "cancer = load_breast_cancer()\n",
    "X = cancer.data\n",
    "Y = cancer.target\n",
    "\n",
    "# 划分数据集\n",
    "X_train, X_val, Y_train, Y_val = train_test_split(X, Y\n",
    "                                                    , test_size = 0.2\n",
    "                                                    , random_state=20\n",
    "                                                   )"
   ]
  },
  {
   "cell_type": "code",
   "execution_count": 42,
   "metadata": {},
   "outputs": [],
   "source": [
    "# 数据类型转换\n",
    "data_train = lgb.Dataset(X_train, Y_train)\n",
    "data_val = lgb.Dataset(X_val, Y_val)"
   ]
  },
  {
   "cell_type": "markdown",
   "metadata": {},
   "source": [
    "#### 初始化状态(未调参)"
   ]
  },
  {
   "cell_type": "code",
   "execution_count": 29,
   "metadata": {},
   "outputs": [],
   "source": [
    "# 参数设定为默认状态\n",
    "\n",
    "params1 = {\n",
    "      \"boosting_type\": \"gbdt\"\n",
    "    , \"objective\": \"binary\" # 二分类任务\n",
    "    , \"metric\": {\"binary_logloss\",\"auc\"}\n",
    "    , \"device\": \"gpu\"\n",
    "    \n",
    "    , \"nthread\": 4\n",
    "    , \"verbose\": 1\n",
    "\n",
    "    , \"learning_rate\": 0.1\n",
    "    \n",
    "    , \"max_depth\": 5\n",
    "    , \"num_leaves\": 31  # 由于lightGBM是leaves_wise生长，官方说法是要小于2^max_depth\n",
    "    , \"subsample\": 1.0  # 数据采样\n",
    "    , \"colsample_bytree\": 1.0  # 特征采样\n",
    "    \n",
    "    , 'reg_alpha': 0.0  # L1\n",
    "    , 'reg_lambda': 0.0  # L2\n",
    "}"
   ]
  },
  {
   "cell_type": "code",
   "execution_count": 30,
   "metadata": {},
   "outputs": [],
   "source": [
    "cv_result1 = lgb.cv(params=params1, train_set=data_train\n",
    "       , nfold=5\n",
    "       , stratified=True\n",
    "       , shuffle=True\n",
    "#        , metrics=\"auc\"\n",
    "       , seed=0\n",
    "      )"
   ]
  },
  {
   "cell_type": "markdown",
   "metadata": {},
   "source": [
    "#### 此时可参数的状态"
   ]
  },
  {
   "cell_type": "code",
   "execution_count": 31,
   "metadata": {},
   "outputs": [],
   "source": [
    "num_boost_round = 1000\n",
    "params2 = {\n",
    "      \"boosting_type\": \"gbdt\"\n",
    "    , \"objective\": \"binary\" # 二分类任务\n",
    "    , \"metric\": {\"binary_logloss\",\"auc\"}\n",
    "    \n",
    "    , \"nthread\": 4\n",
    "    , \"verbose\": 1\n",
    "\n",
    "    , \"learning_rate\": 0.1\n",
    "    \n",
    "    , \"max_depth\": 5\n",
    "    , \"num_leaves\": 31  # 由于lightGBM是leaves_wise生长，官方说法是要小于2^max_depth\n",
    "    , \"subsample\": 1.0  # 数据采样\n",
    "    , \"colsample_bytree\": 1.0  # 特征采样\n",
    "    \n",
    "    , 'reg_alpha': 0.0  # L1\n",
    "    , 'reg_lambda': 0.0  # L2\n",
    "}"
   ]
  },
  {
   "cell_type": "code",
   "execution_count": 32,
   "metadata": {},
   "outputs": [],
   "source": [
    "cv_result2 = lgb.cv(params=params2, train_set=data_train\n",
    "#        , num_boost_round=num_boost_round\n",
    "       , nfold=5\n",
    "       , stratified=True\n",
    "       , shuffle=True\n",
    "#        , metrics=\"auc\"\n",
    "#        , early_stopping_rounds=50\n",
    "       , seed=0\n",
    "      )"
   ]
  },
  {
   "cell_type": "code",
   "execution_count": 33,
   "metadata": {},
   "outputs": [
    {
     "name": "stdout",
     "output_type": "stream",
     "text": [
      "Best_n_estimators: 100\n",
      "Best_cv_score: 58.36\n"
     ]
    }
   ],
   "source": [
    "#  选择最佳的estimators\n",
    "print(\"Best_n_estimators: %d\\nBest_cv_score: %.2f\" \n",
    "      % (np.array(list(cv_result2.values())).shape[1],\n",
    "         max(np.array(list(cv_result2.values()))[0])*100)\n",
    "     )  "
   ]
  },
  {
   "cell_type": "markdown",
   "metadata": {},
   "source": [
    "#### 调整好的参数状态"
   ]
  },
  {
   "cell_type": "code",
   "execution_count": 34,
   "metadata": {},
   "outputs": [],
   "source": [
    "params3 = {\n",
    "      \"boosting_type\": \"gbdt\"\n",
    "    , \"objective\": \"binary\" # 二分类任务\n",
    "    , \"metric\": {\"binary_logloss\",\"auc\"}\n",
    "    \n",
    "    , \"nthread\": 4\n",
    "    , \"verbose\": 1\n",
    "\n",
    "    , \"learning_rate\": 0.1\n",
    "    \n",
    "    , \"max_depth\": 5\n",
    "    , \"num_leaves\": 31  # 由于lightGBM是leaves_wise生长，官方说法是要小于2^max_depth\n",
    "    , \"subsample\": 1  # 数据采样\n",
    "    , \"colsample_bytree\": 1  # 特征采样\n",
    "    \n",
    "    , 'reg_alpha': 0.0  # L1\n",
    "    , 'reg_lambda': 0.0  # L2\n",
    "}"
   ]
  },
  {
   "cell_type": "code",
   "execution_count": 35,
   "metadata": {},
   "outputs": [],
   "source": [
    "cv_result3 = lgb.cv(params=params3, train_set=data_train\n",
    "#        , num_boost_round=1000\n",
    "       , nfold=5\n",
    "       , stratified=True\n",
    "       , shuffle=True\n",
    "#        , metrics=\"auc\"\n",
    "#        , early_stopping_rounds=50\n",
    "       , seed=0\n",
    "      )"
   ]
  },
  {
   "cell_type": "code",
   "execution_count": 36,
   "metadata": {},
   "outputs": [
    {
     "data": {
      "text/plain": [
       "dict_keys(['binary_logloss-mean', 'binary_logloss-stdv', 'auc-mean', 'auc-stdv'])"
      ]
     },
     "execution_count": 36,
     "metadata": {},
     "output_type": "execute_result"
    }
   ],
   "source": [
    "cv_result3.keys()"
   ]
  },
  {
   "cell_type": "markdown",
   "metadata": {},
   "source": [
    "#### 可视化调参数过程"
   ]
  },
  {
   "cell_type": "markdown",
   "metadata": {},
   "source": [
    "#### AUC评估"
   ]
  },
  {
   "cell_type": "code",
   "execution_count": 37,
   "metadata": {},
   "outputs": [
    {
     "data": {
      "image/png": "[encoded data removed]",
      "text/plain": [
       "<Figure size 1008x360 with 2 Axes>"
      ]
     },
     "metadata": {},
     "output_type": "display_data"
    }
   ],
   "source": [
    "fig, ax = plt.subplots(1, 2, figsize = (14,5))\n",
    "\n",
    "length1 = np.array(list(cv_result1.values())).shape[1]\n",
    "length2 = np.array(list(cv_result2.values())).shape[1]\n",
    "length3 = np.array(list(cv_result3.values())).shape[1]\n",
    "\n",
    "ax[0].plot(range(length1), cv_result1[list(cv_result1.keys())[0]], label=\"param1\", c=\"red\")\n",
    "ax[1].plot(range(length1), cv_result1[list(cv_result1.keys())[1]], label=\"param1\", c=\"green\")\n",
    "\n",
    "ax[0].plot(range(length2), cv_result2[list(cv_result2.keys())[0]], label=\"param2\", c=\"magenta\")\n",
    "ax[1].plot(range(length2), cv_result2[list(cv_result2.keys())[1]], label=\"param2\", c=\"blue\")\n",
    "\n",
    "ax[0].plot(range(length3), cv_result3[list(cv_result3.keys())[0]], label=\"param3\", c=\"yellow\")\n",
    "ax[1].plot(range(length3), cv_result3[list(cv_result3.keys())[1]], label=\"param3\", c=\"c\")\n",
    "\n",
    "ax[0].set_xlabel(\"num_round\", fontsize=12)\n",
    "ax[1].set_xlabel(\"num_round\", fontsize=12)\n",
    "ax[0].set_ylabel(list(cv_result1.keys())[0], fontsize=12)\n",
    "ax[1].set_ylabel(list(cv_result1.keys())[1], fontsize=12)\n",
    "ax[0].legend()\n",
    "ax[1].legend()\n",
    "plt.show()"
   ]
  },
  {
   "cell_type": "markdown",
   "metadata": {},
   "source": [
    "#### logloss评估"
   ]
  },
  {
   "cell_type": "code",
   "execution_count": 38,
   "metadata": {},
   "outputs": [
    {
     "data": {
      "image/png": "[encoded data removed]",
      "text/plain": [
       "<Figure size 1008x360 with 2 Axes>"
      ]
     },
     "metadata": {},
     "output_type": "display_data"
    }
   ],
   "source": [
    "fig, ax = plt.subplots(1, 2, figsize = (14,5))\n",
    "\n",
    "length1 = np.array(list(cv_result1.values())).shape[1]\n",
    "length2 = np.array(list(cv_result2.values())).shape[1]\n",
    "length3 = np.array(list(cv_result3.values())).shape[1]\n",
    "\n",
    "ax[0].plot(range(length1), cv_result1[list(cv_result1.keys())[2]], label=\"param1\", c=\"red\")\n",
    "ax[1].plot(range(length1), cv_result1[list(cv_result1.keys())[3]], label=\"param1\", c=\"green\")\n",
    "\n",
    "ax[0].plot(range(length2), cv_result2[list(cv_result2.keys())[2]], label=\"param2\", c=\"magenta\")\n",
    "ax[1].plot(range(length2), cv_result2[list(cv_result2.keys())[3]], label=\"param2\", c=\"blue\")\n",
    "\n",
    "ax[0].plot(range(length3), cv_result3[list(cv_result3.keys())[2]], label=\"param3\", c=\"yellow\")\n",
    "ax[1].plot(range(length3), cv_result3[list(cv_result3.keys())[3]], label=\"param3\", c=\"c\")\n",
    "\n",
    "ax[0].set_xlabel(\"num_round\", fontsize=12)\n",
    "ax[1].set_xlabel(\"num_round\", fontsize=12)\n",
    "ax[0].set_ylabel(list(cv_result1.keys())[2], fontsize=12)\n",
    "ax[1].set_ylabel(list(cv_result1.keys())[3], fontsize=12)\n",
    "ax[0].legend()\n",
    "ax[1].legend()\n",
    "plt.show()"
   ]
  },
  {
   "cell_type": "code",
   "execution_count": 79,
   "metadata": {},
   "outputs": [
    {
     "name": "stdout",
     "output_type": "stream",
     "text": [
      "[1]\tvalid's binary_logloss: 0.609003\tvalid's auc: 0.983586\n",
      "Training until validation scores don't improve for 10 rounds\n",
      "[2]\tvalid's binary_logloss: 0.539881\tvalid's auc: 0.997633\n",
      "[3]\tvalid's binary_logloss: 0.487594\tvalid's auc: 0.999842\n",
      "[4]\tvalid's binary_logloss: 0.442517\tvalid's auc: 0.998422\n",
      "[5]\tvalid's binary_logloss: 0.405518\tvalid's auc: 0.998422\n",
      "[6]\tvalid's binary_logloss: 0.369729\tvalid's auc: 0.998737\n",
      "[7]\tvalid's binary_logloss: 0.339327\tvalid's auc: 0.998737\n",
      "[8]\tvalid's binary_logloss: 0.31426\tvalid's auc: 0.998422\n",
      "[9]\tvalid's binary_logloss: 0.292678\tvalid's auc: 0.998737\n",
      "[10]\tvalid's binary_logloss: 0.266928\tvalid's auc: 0.999369\n",
      "[11]\tvalid's binary_logloss: 0.246412\tvalid's auc: 0.999684\n",
      "[12]\tvalid's binary_logloss: 0.227861\tvalid's auc: 1\n",
      "[13]\tvalid's binary_logloss: 0.214833\tvalid's auc: 1\n",
      "[14]\tvalid's binary_logloss: 0.198117\tvalid's auc: 1\n",
      "[15]\tvalid's binary_logloss: 0.184535\tvalid's auc: 1\n",
      "[16]\tvalid's binary_logloss: 0.171254\tvalid's auc: 1\n",
      "[17]\tvalid's binary_logloss: 0.162531\tvalid's auc: 1\n",
      "[18]\tvalid's binary_logloss: 0.154275\tvalid's auc: 1\n",
      "[19]\tvalid's binary_logloss: 0.146812\tvalid's auc: 1\n",
      "[20]\tvalid's binary_logloss: 0.141086\tvalid's auc: 1\n",
      "[21]\tvalid's binary_logloss: 0.134881\tvalid's auc: 1\n",
      "[22]\tvalid's binary_logloss: 0.128023\tvalid's auc: 1\n",
      "Early stopping, best iteration is:\n",
      "[12]\tvalid's binary_logloss: 0.227861\tvalid's auc: 1\n"
     ]
    }
   ],
   "source": [
    "\"\"\"\n",
    "当使用验证集，并加入早停机制时，可以设置在多少步之内，若评估指标不在下降\n",
    "，则提前终止训练模型，多个评估指标使用时，每一个评估指标都可作为终止的条件\n",
    "\"\"\"\n",
    "lgb = lgb.train(params=params1, train_set=data_train, valid_sets=data_val\n",
    "          , early_stopping_rounds=10\n",
    "          , valid_names=\"valid\"\n",
    "         )"
   ]
  },
  {
   "cell_type": "code",
   "execution_count": 80,
   "metadata": {},
   "outputs": [
    {
     "data": {
      "text/plain": [
       "['./data/lgb_module.pkl']"
      ]
     },
     "execution_count": 80,
     "metadata": {},
     "output_type": "execute_result"
    }
   ],
   "source": [
    "#  模型保存\n",
    "joblib.dump(lgb, filename=\"./data/lgb_module.pkl\")"
   ]
  },
  {
   "cell_type": "code",
   "execution_count": 81,
   "metadata": {},
   "outputs": [],
   "source": [
    "#  模型加载\n",
    "lgb = joblib.load(\"data/lgb_module.pkl\")"
   ]
  },
  {
   "cell_type": "code",
   "execution_count": 82,
   "metadata": {},
   "outputs": [
    {
     "data": {
      "text/plain": [
       "array([0.89065439, 0.48977331, 0.183114  , 0.84665738, 0.18537753,\n",
       "       0.183114  , 0.183114  , 0.82763568, 0.86867132, 0.22566688,\n",
       "       0.18031577, 0.89389602, 0.81309763, 0.22566688, 0.8644268 ,\n",
       "       0.68565499, 0.89389602, 0.47531337, 0.18156463, 0.81381438,\n",
       "       0.86892885, 0.8843173 , 0.32188897, 0.1805256 , 0.18268158,\n",
       "       0.33144292, 0.4444452 , 0.81528989, 0.75240454, 0.8944043 ,\n",
       "       0.61689706, 0.84665738, 0.1774436 , 0.89389603, 0.2460287 ,\n",
       "       0.18280764, 0.18125176, 0.82574631, 0.18059285, 0.8947028 ,\n",
       "       0.19221329, 0.82057661, 0.89389602, 0.88890545, 0.18262628,\n",
       "       0.7336193 , 0.77718499, 0.89375414, 0.81587021, 0.17414949,\n",
       "       0.87766732, 0.87191963, 0.22440103, 0.89529127, 0.76318087,\n",
       "       0.8947977 , 0.89389603, 0.89061232, 0.81361631, 0.87190176,\n",
       "       0.89389602, 0.88072194, 0.89389602, 0.89389603, 0.45189957,\n",
       "       0.89389602, 0.1935657 , 0.89226648, 0.87825251, 0.16114411,\n",
       "       0.33006188, 0.25558619, 0.18884694, 0.84140786, 0.88810469,\n",
       "       0.18900855, 0.20644028, 0.18441889, 0.21442759, 0.6470633 ,\n",
       "       0.88949298, 0.40709669, 0.87153345, 0.8776673 , 0.89389602,\n",
       "       0.26041952, 0.86892885, 0.77616535, 0.89520767, 0.89646207,\n",
       "       0.89389602, 0.18315851, 0.89389602, 0.87318105, 0.18258671,\n",
       "       0.5932321 , 0.47531337, 0.73237451, 0.69506794, 0.71993945,\n",
       "       0.87023293, 0.22331842, 0.25475923, 0.18735062, 0.88631277,\n",
       "       0.88631277, 0.18484624, 0.19237333, 0.83064908, 0.183114  ,\n",
       "       0.81604599, 0.89389602, 0.36941975, 0.89631848])"
      ]
     },
     "execution_count": 82,
     "metadata": {},
     "output_type": "execute_result"
    }
   ],
   "source": [
    "#  预测结果为概率\n",
    "lgb.predict(X_val, num_iteration=lgb.best_iteration)"
   ]
  },
  {
   "cell_type": "code",
   "execution_count": 83,
   "metadata": {},
   "outputs": [],
   "source": [
    "probs = lgb.predict(X_val, num_iteration=lgb.best_iteration) \n",
    "FPR, recall, thresholds = roc_curve(Y_val, probs, pos_label=1)\n",
    "area = AUC(Y_val, probs)"
   ]
  },
  {
   "cell_type": "code",
   "execution_count": 84,
   "metadata": {},
   "outputs": [
    {
     "data": {
      "image/png": "[encoded data removed]",
      "text/plain": [
       "<Figure size 504x288 with 1 Axes>"
      ]
     },
     "metadata": {},
     "output_type": "display_data"
    }
   ],
   "source": [
    "plt.figure(figsize=(7, 4))\n",
    "plt.plot(FPR, recall, color=\"red\",\n",
    "         label = \"ROC curve(area = %0.2f)\" % area)\n",
    "plt.plot([0, 1], [0, 1], c=\"black\", linestyle = \"--\")\n",
    "plt.xlim([-0.05, 1.05])\n",
    "plt.ylim([-0.05, 1.05])\n",
    "plt.xlabel('False Positive Rate')\n",
    "plt.ylabel('Recall')\n",
    "plt.title('ROC')\n",
    "plt.legend(loc=\"lower right\")\n",
    "plt.show()"
   ]
  },
  {
   "cell_type": "markdown",
   "metadata": {},
   "source": [
    "## 参考\n",
    "[LightGBM参数调优代码详解](https://blog.csdn.net/dzysunshine/article/details/92124011)  \n",
    "[LightGBM调参笔记](https://blog.csdn.net/u012735708/article/details/83749703)  \n",
    "[最简便的lightGBM GPU支持的安装、验证方法](https://blog.csdn.net/lccever/article/details/80535058#commentBox)"
   ]
  },
  {
   "cell_type": "markdown",
   "metadata": {},
   "source": [
    "# "
   ]
  }
 ],
 "metadata": {
  "kernelspec": {
   "display_name": "Python 3",
   "language": "python",
   "name": "python3"
  },
  "language_info": {
   "codemirror_mode": {
    "name": "ipython",
    "version": 3
   },
   "file_extension": ".py",
   "mimetype": "text/x-python",
   "name": "python",
   "nbconvert_exporter": "python",
   "pygments_lexer": "ipython3",
   "version": "3.6.3"
  }
 },
 "nbformat": 4,
 "nbformat_minor": 4
}
