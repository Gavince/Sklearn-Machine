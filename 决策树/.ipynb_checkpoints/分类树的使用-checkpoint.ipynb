{
 "cells": [
  {
   "cell_type": "markdown",
   "metadata": {},
   "source": [
    "# 分类树"
   ]
  },
  {
   "cell_type": "code",
   "execution_count": 90,
   "metadata": {},
   "outputs": [],
   "source": [
    "import pandas as pd\n",
    "from sklearn import tree\n",
    "from sklearn.datasets import load_wine\n",
    "from sklearn.model_selection import train_test_split\n",
    "import matplotlib.pyplot as plt"
   ]
  },
  {
   "cell_type": "markdown",
   "metadata": {},
   "source": [
    "### 1.数据分析处理"
   ]
  },
  {
   "cell_type": "code",
   "execution_count": 2,
   "metadata": {},
   "outputs": [
    {
     "data": {
      "text/plain": [
       "['alcohol',\n",
       " 'malic_acid',\n",
       " 'ash',\n",
       " 'alcalinity_of_ash',\n",
       " 'magnesium',\n",
       " 'total_phenols',\n",
       " 'flavanoids',\n",
       " 'nonflavanoid_phenols',\n",
       " 'proanthocyanins',\n",
       " 'color_intensity',\n",
       " 'hue',\n",
       " 'od280/od315_of_diluted_wines',\n",
       " 'proline']"
      ]
     },
     "execution_count": 2,
     "metadata": {},
     "output_type": "execute_result"
    }
   ],
   "source": [
    "wine = load_wine()\n",
    "# 数据属性\n",
    "wine.feature_names"
   ]
  },
  {
   "cell_type": "code",
   "execution_count": 3,
   "metadata": {},
   "outputs": [
    {
     "data": {
      "text/plain": [
       "(178, 13)"
      ]
     },
     "execution_count": 3,
     "metadata": {},
     "output_type": "execute_result"
    }
   ],
   "source": [
    "#数据维度\n",
    "wine.data.shape"
   ]
  },
  {
   "cell_type": "code",
   "execution_count": 4,
   "metadata": {},
   "outputs": [
    {
     "data": {
      "text/plain": [
       "array([0, 0, 0, 0, 0, 0, 0, 0, 0, 0, 0, 0, 0, 0, 0, 0, 0, 0, 0, 0, 0, 0,\n",
       "       0, 0, 0, 0, 0, 0, 0, 0, 0, 0, 0, 0, 0, 0, 0, 0, 0, 0, 0, 0, 0, 0,\n",
       "       0, 0, 0, 0, 0, 0, 0, 0, 0, 0, 0, 0, 0, 0, 0, 1, 1, 1, 1, 1, 1, 1,\n",
       "       1, 1, 1, 1, 1, 1, 1, 1, 1, 1, 1, 1, 1, 1, 1, 1, 1, 1, 1, 1, 1, 1,\n",
       "       1, 1, 1, 1, 1, 1, 1, 1, 1, 1, 1, 1, 1, 1, 1, 1, 1, 1, 1, 1, 1, 1,\n",
       "       1, 1, 1, 1, 1, 1, 1, 1, 1, 1, 1, 1, 1, 1, 1, 1, 1, 1, 1, 1, 2, 2,\n",
       "       2, 2, 2, 2, 2, 2, 2, 2, 2, 2, 2, 2, 2, 2, 2, 2, 2, 2, 2, 2, 2, 2,\n",
       "       2, 2, 2, 2, 2, 2, 2, 2, 2, 2, 2, 2, 2, 2, 2, 2, 2, 2, 2, 2, 2, 2,\n",
       "       2, 2])"
      ]
     },
     "execution_count": 4,
     "metadata": {},
     "output_type": "execute_result"
    }
   ],
   "source": [
    "#label\n",
    "wine.target"
   ]
  },
  {
   "cell_type": "code",
   "execution_count": 5,
   "metadata": {},
   "outputs": [
    {
     "data": {
      "text/plain": [
       "array(['class_0', 'class_1', 'class_2'], dtype='<U7')"
      ]
     },
     "execution_count": 5,
     "metadata": {},
     "output_type": "execute_result"
    }
   ],
   "source": [
    "# label 类别\n",
    "wine.target_names"
   ]
  },
  {
   "cell_type": "code",
   "execution_count": 6,
   "metadata": {},
   "outputs": [],
   "source": [
    "df = pd.concat([pd.DataFrame(wine.data), pd.DataFrame(wine.target)], axis=1)"
   ]
  },
  {
   "cell_type": "code",
   "execution_count": 10,
   "metadata": {},
   "outputs": [
    {
     "data": {
      "text/html": [
       "<div>\n",
       "<style scoped>\n",
       "    .dataframe tbody tr th:only-of-type {\n",
       "        vertical-align: middle;\n",
       "    }\n",
       "\n",
       "    .dataframe tbody tr th {\n",
       "        vertical-align: top;\n",
       "    }\n",
       "\n",
       "    .dataframe thead th {\n",
       "        text-align: right;\n",
       "    }\n",
       "</style>\n",
       "<table border=\"1\" class=\"dataframe\">\n",
       "  <thead>\n",
       "    <tr style=\"text-align: right;\">\n",
       "      <th></th>\n",
       "      <th>酒精</th>\n",
       "      <th>苹果酸</th>\n",
       "      <th>灰</th>\n",
       "      <th>灰的碱性</th>\n",
       "      <th>镁</th>\n",
       "      <th>总酚</th>\n",
       "      <th>类黄酮</th>\n",
       "      <th>非黄烷类酚类</th>\n",
       "      <th>花青素</th>\n",
       "      <th>颜色强度</th>\n",
       "      <th>色调</th>\n",
       "      <th>od280/od315稀释葡萄酒</th>\n",
       "      <th>脯氨酸</th>\n",
       "      <th>标签</th>\n",
       "    </tr>\n",
       "  </thead>\n",
       "  <tbody>\n",
       "    <tr>\n",
       "      <th>0</th>\n",
       "      <td>14.23</td>\n",
       "      <td>1.71</td>\n",
       "      <td>2.43</td>\n",
       "      <td>15.6</td>\n",
       "      <td>127.0</td>\n",
       "      <td>2.80</td>\n",
       "      <td>3.06</td>\n",
       "      <td>0.28</td>\n",
       "      <td>2.29</td>\n",
       "      <td>5.64</td>\n",
       "      <td>1.04</td>\n",
       "      <td>3.92</td>\n",
       "      <td>1065.0</td>\n",
       "      <td>0</td>\n",
       "    </tr>\n",
       "    <tr>\n",
       "      <th>1</th>\n",
       "      <td>13.20</td>\n",
       "      <td>1.78</td>\n",
       "      <td>2.14</td>\n",
       "      <td>11.2</td>\n",
       "      <td>100.0</td>\n",
       "      <td>2.65</td>\n",
       "      <td>2.76</td>\n",
       "      <td>0.26</td>\n",
       "      <td>1.28</td>\n",
       "      <td>4.38</td>\n",
       "      <td>1.05</td>\n",
       "      <td>3.40</td>\n",
       "      <td>1050.0</td>\n",
       "      <td>0</td>\n",
       "    </tr>\n",
       "    <tr>\n",
       "      <th>2</th>\n",
       "      <td>13.16</td>\n",
       "      <td>2.36</td>\n",
       "      <td>2.67</td>\n",
       "      <td>18.6</td>\n",
       "      <td>101.0</td>\n",
       "      <td>2.80</td>\n",
       "      <td>3.24</td>\n",
       "      <td>0.30</td>\n",
       "      <td>2.81</td>\n",
       "      <td>5.68</td>\n",
       "      <td>1.03</td>\n",
       "      <td>3.17</td>\n",
       "      <td>1185.0</td>\n",
       "      <td>0</td>\n",
       "    </tr>\n",
       "    <tr>\n",
       "      <th>3</th>\n",
       "      <td>14.37</td>\n",
       "      <td>1.95</td>\n",
       "      <td>2.50</td>\n",
       "      <td>16.8</td>\n",
       "      <td>113.0</td>\n",
       "      <td>3.85</td>\n",
       "      <td>3.49</td>\n",
       "      <td>0.24</td>\n",
       "      <td>2.18</td>\n",
       "      <td>7.80</td>\n",
       "      <td>0.86</td>\n",
       "      <td>3.45</td>\n",
       "      <td>1480.0</td>\n",
       "      <td>0</td>\n",
       "    </tr>\n",
       "    <tr>\n",
       "      <th>4</th>\n",
       "      <td>13.24</td>\n",
       "      <td>2.59</td>\n",
       "      <td>2.87</td>\n",
       "      <td>21.0</td>\n",
       "      <td>118.0</td>\n",
       "      <td>2.80</td>\n",
       "      <td>2.69</td>\n",
       "      <td>0.39</td>\n",
       "      <td>1.82</td>\n",
       "      <td>4.32</td>\n",
       "      <td>1.04</td>\n",
       "      <td>2.93</td>\n",
       "      <td>735.0</td>\n",
       "      <td>0</td>\n",
       "    </tr>\n",
       "  </tbody>\n",
       "</table>\n",
       "</div>"
      ],
      "text/plain": [
       "      酒精   苹果酸     灰  灰的碱性      镁    总酚   类黄酮  非黄烷类酚类   花青素  颜色强度    色调  \\\n",
       "0  14.23  1.71  2.43  15.6  127.0  2.80  3.06    0.28  2.29  5.64  1.04   \n",
       "1  13.20  1.78  2.14  11.2  100.0  2.65  2.76    0.26  1.28  4.38  1.05   \n",
       "2  13.16  2.36  2.67  18.6  101.0  2.80  3.24    0.30  2.81  5.68  1.03   \n",
       "3  14.37  1.95  2.50  16.8  113.0  3.85  3.49    0.24  2.18  7.80  0.86   \n",
       "4  13.24  2.59  2.87  21.0  118.0  2.80  2.69    0.39  1.82  4.32  1.04   \n",
       "\n",
       "   od280/od315稀释葡萄酒     脯氨酸  标签  \n",
       "0              3.92  1065.0   0  \n",
       "1              3.40  1050.0   0  \n",
       "2              3.17  1185.0   0  \n",
       "3              3.45  1480.0   0  \n",
       "4              2.93   735.0   0  "
      ]
     },
     "execution_count": 10,
     "metadata": {},
     "output_type": "execute_result"
    }
   ],
   "source": [
    "df.columns = feature_name = ['酒精','苹果酸','灰','灰的碱性','镁','总酚','类黄酮','非黄烷类酚类'\n",
    "                ,'花青素','颜色强度','色调','od280/od315稀释葡萄酒','脯氨酸', \"标签\"]\n",
    "df.head()"
   ]
  },
  {
   "cell_type": "code",
   "execution_count": 11,
   "metadata": {},
   "outputs": [
    {
     "name": "stdout",
     "output_type": "stream",
     "text": [
      "<class 'pandas.core.frame.DataFrame'>\n",
      "RangeIndex: 178 entries, 0 to 177\n",
      "Data columns (total 14 columns):\n",
      "酒精                  178 non-null float64\n",
      "苹果酸                 178 non-null float64\n",
      "灰                   178 non-null float64\n",
      "灰的碱性                178 non-null float64\n",
      "镁                   178 non-null float64\n",
      "总酚                  178 non-null float64\n",
      "类黄酮                 178 non-null float64\n",
      "非黄烷类酚类              178 non-null float64\n",
      "花青素                 178 non-null float64\n",
      "颜色强度                178 non-null float64\n",
      "色调                  178 non-null float64\n",
      "od280/od315稀释葡萄酒    178 non-null float64\n",
      "脯氨酸                 178 non-null float64\n",
      "标签                  178 non-null int64\n",
      "dtypes: float64(13), int64(1)\n",
      "memory usage: 19.5 KB\n"
     ]
    }
   ],
   "source": [
    "df.info()"
   ]
  },
  {
   "cell_type": "markdown",
   "metadata": {},
   "source": [
    "### 2.数据划分"
   ]
  },
  {
   "cell_type": "code",
   "execution_count": 12,
   "metadata": {},
   "outputs": [],
   "source": [
    "X_train, X_test, Y_train, Y_test = train_test_split(wine.data, wine.target, test_size = 0.3)"
   ]
  },
  {
   "cell_type": "code",
   "execution_count": 13,
   "metadata": {},
   "outputs": [
    {
     "data": {
      "text/plain": [
       "(124, 13)"
      ]
     },
     "execution_count": 13,
     "metadata": {},
     "output_type": "execute_result"
    }
   ],
   "source": [
    "#训练集样本个数\n",
    "X_train.shape"
   ]
  },
  {
   "cell_type": "code",
   "execution_count": 14,
   "metadata": {},
   "outputs": [
    {
     "data": {
      "text/plain": [
       "(54, 13)"
      ]
     },
     "execution_count": 14,
     "metadata": {},
     "output_type": "execute_result"
    }
   ],
   "source": [
    "#测试样本个数\n",
    "X_test.shape"
   ]
  },
  {
   "cell_type": "markdown",
   "metadata": {},
   "source": [
    "### 3.构建模型\n",
    "　　决策树在建树时，是靠优化节点来追求一棵优化的树，但最优\n",
    "的节点能够保证最优的树吗？集成算法被用来解决这个问题：sklearn表示，既然一棵树不能保证最优，那就建更\n",
    "多的不同的树，然后从中取最好的。怎样从一组数据集中建不同的树？在每次分枝时，不从使用全部特征，而是随\n",
    "机选取一部分特征，从中选取不纯度相关指标最优的作为分枝用的节点。这样，每次生成的树也就不同了"
   ]
  },
  {
   "cell_type": "code",
   "execution_count": 32,
   "metadata": {},
   "outputs": [
    {
     "data": {
      "text/plain": [
       "DecisionTreeClassifier(class_weight=None, criterion='entropy', max_depth=None,\n",
       "                       max_features=None, max_leaf_nodes=None,\n",
       "                       min_impurity_decrease=0.0, min_impurity_split=None,\n",
       "                       min_samples_leaf=1, min_samples_split=2,\n",
       "                       min_weight_fraction_leaf=0.0, presort=False,\n",
       "                       random_state=20, splitter='best')"
      ]
     },
     "execution_count": 32,
     "metadata": {},
     "output_type": "execute_result"
    }
   ],
   "source": [
    "# 基于信息增益\n",
    "clf = tree.DecisionTreeClassifier(criterion=\"entropy\"\n",
    "                                   , random_state=20\n",
    "#                                    , splitter = \"random\"\n",
    "                                  )\n",
    "clf.fit(X_train, Y_train)"
   ]
  },
  {
   "cell_type": "code",
   "execution_count": 33,
   "metadata": {},
   "outputs": [
    {
     "data": {
      "text/plain": [
       "1.0"
      ]
     },
     "execution_count": 33,
     "metadata": {},
     "output_type": "execute_result"
    }
   ],
   "source": [
    "# 训练集上的误差率\n",
    "clf.score(X_train, Y_train)"
   ]
  },
  {
   "cell_type": "code",
   "execution_count": 34,
   "metadata": {},
   "outputs": [
    {
     "data": {
      "text/plain": [
       "0.9629629629629629"
      ]
     },
     "execution_count": 34,
     "metadata": {},
     "output_type": "execute_result"
    }
   ],
   "source": [
    "# 测试集上的准确率(过拟合)\n",
    "clf.score(X_test, Y_test)"
   ]
  },
  {
   "cell_type": "markdown",
   "metadata": {},
   "source": [
    "### 4.可视化"
   ]
  },
  {
   "cell_type": "code",
   "execution_count": 35,
   "metadata": {},
   "outputs": [],
   "source": [
    "feature_name = ['酒精','苹果酸','灰','灰的碱性','镁','总酚','类黄酮','非黄烷类酚类'\n",
    "                ,'花青素','颜色强度','色调','od280/od315稀释葡萄酒','脯氨酸']"
   ]
  },
  {
   "cell_type": "code",
   "execution_count": 36,
   "metadata": {},
   "outputs": [],
   "source": [
    "import graphviz\n",
    "\n",
    "dot_data = tree.export_graphviz(clf\n",
    "                                ,out_file = None\n",
    "                                ,feature_names = feature_name\n",
    "                                ,class_names = [\"清酒\",\"雪梨\", \"汉斯\"]\n",
    "                                ,filled = True\n",
    "                                ,rounded = True\n",
    "                               )"
   ]
  },
  {
   "cell_type": "code",
   "execution_count": 37,
   "metadata": {},
   "outputs": [
    {
     "data": {
      "image/svg+xml": [
       "<?xml version=\"1.0\" encoding=\"UTF-8\" standalone=\"no\"?>\n",
       "<!DOCTYPE svg PUBLIC \"-//W3C//DTD SVG 1.1//EN\"\n",
       " \"http://www.w3.org/Graphics/SVG/1.1/DTD/svg11.dtd\">\n",
       "<!-- Generated by graphviz version 2.40.1 (20161225.0304)\n",
       " -->\n",
       "<!-- Title: Tree Pages: 1 -->\n",
       "<svg width=\"782pt\" height=\"552pt\"\n",
       " viewBox=\"0.00 0.00 781.50 552.00\" xmlns=\"http://www.w3.org/2000/svg\" xmlns:xlink=\"http://www.w3.org/1999/xlink\">\n",
       "<g id=\"graph0\" class=\"graph\" transform=\"scale(1 1) rotate(0) translate(4 548)\">\n",
       "<title>Tree</title>\n",
       "<polygon fill=\"#ffffff\" stroke=\"transparent\" points=\"-4,4 -4,-548 777.5,-548 777.5,4 -4,4\"/>\n",
       "<!-- 0 -->\n",
       "<g id=\"node1\" class=\"node\">\n",
       "<title>0</title>\n",
       "<path fill=\"#eefdf4\" stroke=\"#000000\" d=\"M310,-544C310,-544 202,-544 202,-544 196,-544 190,-538 190,-532 190,-532 190,-473 190,-473 190,-467 196,-461 202,-461 202,-461 310,-461 310,-461 316,-461 322,-467 322,-473 322,-473 322,-532 322,-532 322,-538 316,-544 310,-544\"/>\n",
       "<text text-anchor=\"middle\" x=\"256\" y=\"-528.8\" font-family=\"Helvetica,sans-Serif\" font-size=\"14.00\" fill=\"#000000\">类黄酮 &lt;= 1.575</text>\n",
       "<text text-anchor=\"middle\" x=\"256\" y=\"-513.8\" font-family=\"Helvetica,sans-Serif\" font-size=\"14.00\" fill=\"#000000\">entropy = 1.573</text>\n",
       "<text text-anchor=\"middle\" x=\"256\" y=\"-498.8\" font-family=\"Helvetica,sans-Serif\" font-size=\"14.00\" fill=\"#000000\">samples = 124</text>\n",
       "<text text-anchor=\"middle\" x=\"256\" y=\"-483.8\" font-family=\"Helvetica,sans-Serif\" font-size=\"14.00\" fill=\"#000000\">value = [41, 48, 35]</text>\n",
       "<text text-anchor=\"middle\" x=\"256\" y=\"-468.8\" font-family=\"Helvetica,sans-Serif\" font-size=\"14.00\" fill=\"#000000\">class = 雪梨</text>\n",
       "</g>\n",
       "<!-- 1 -->\n",
       "<g id=\"node2\" class=\"node\">\n",
       "<title>1</title>\n",
       "<path fill=\"#a16cec\" stroke=\"#000000\" d=\"M233.5,-425C233.5,-425 140.5,-425 140.5,-425 134.5,-425 128.5,-419 128.5,-413 128.5,-413 128.5,-354 128.5,-354 128.5,-348 134.5,-342 140.5,-342 140.5,-342 233.5,-342 233.5,-342 239.5,-342 245.5,-348 245.5,-354 245.5,-354 245.5,-413 245.5,-413 245.5,-419 239.5,-425 233.5,-425\"/>\n",
       "<text text-anchor=\"middle\" x=\"187\" y=\"-409.8\" font-family=\"Helvetica,sans-Serif\" font-size=\"14.00\" fill=\"#000000\">颜色强度 &lt;= 3.9</text>\n",
       "<text text-anchor=\"middle\" x=\"187\" y=\"-394.8\" font-family=\"Helvetica,sans-Serif\" font-size=\"14.00\" fill=\"#000000\">entropy = 0.731</text>\n",
       "<text text-anchor=\"middle\" x=\"187\" y=\"-379.8\" font-family=\"Helvetica,sans-Serif\" font-size=\"14.00\" fill=\"#000000\">samples = 44</text>\n",
       "<text text-anchor=\"middle\" x=\"187\" y=\"-364.8\" font-family=\"Helvetica,sans-Serif\" font-size=\"14.00\" fill=\"#000000\">value = [0, 9, 35]</text>\n",
       "<text text-anchor=\"middle\" x=\"187\" y=\"-349.8\" font-family=\"Helvetica,sans-Serif\" font-size=\"14.00\" fill=\"#000000\">class = 汉斯</text>\n",
       "</g>\n",
       "<!-- 0&#45;&gt;1 -->\n",
       "<g id=\"edge1\" class=\"edge\">\n",
       "<title>0&#45;&gt;1</title>\n",
       "<path fill=\"none\" stroke=\"#000000\" d=\"M231.8671,-460.8796C226.8539,-452.2335 221.5187,-443.0322 216.3419,-434.1042\"/>\n",
       "<polygon fill=\"#000000\" stroke=\"#000000\" points=\"219.2798,-432.1934 211.2359,-425.2981 213.2242,-435.7047 219.2798,-432.1934\"/>\n",
       "<text text-anchor=\"middle\" x=\"204.8103\" y=\"-445.7582\" font-family=\"Helvetica,sans-Serif\" font-size=\"14.00\" fill=\"#000000\">True</text>\n",
       "</g>\n",
       "<!-- 6 -->\n",
       "<g id=\"node7\" class=\"node\">\n",
       "<title>6</title>\n",
       "<path fill=\"#fef9f5\" stroke=\"#000000\" d=\"M433.5,-425C433.5,-425 332.5,-425 332.5,-425 326.5,-425 320.5,-419 320.5,-413 320.5,-413 320.5,-354 320.5,-354 320.5,-348 326.5,-342 332.5,-342 332.5,-342 433.5,-342 433.5,-342 439.5,-342 445.5,-348 445.5,-354 445.5,-354 445.5,-413 445.5,-413 445.5,-419 439.5,-425 433.5,-425\"/>\n",
       "<text text-anchor=\"middle\" x=\"383\" y=\"-409.8\" font-family=\"Helvetica,sans-Serif\" font-size=\"14.00\" fill=\"#000000\">脯氨酸 &lt;= 722.5</text>\n",
       "<text text-anchor=\"middle\" x=\"383\" y=\"-394.8\" font-family=\"Helvetica,sans-Serif\" font-size=\"14.00\" fill=\"#000000\">entropy = 1.0</text>\n",
       "<text text-anchor=\"middle\" x=\"383\" y=\"-379.8\" font-family=\"Helvetica,sans-Serif\" font-size=\"14.00\" fill=\"#000000\">samples = 80</text>\n",
       "<text text-anchor=\"middle\" x=\"383\" y=\"-364.8\" font-family=\"Helvetica,sans-Serif\" font-size=\"14.00\" fill=\"#000000\">value = [41, 39, 0]</text>\n",
       "<text text-anchor=\"middle\" x=\"383\" y=\"-349.8\" font-family=\"Helvetica,sans-Serif\" font-size=\"14.00\" fill=\"#000000\">class = 清酒</text>\n",
       "</g>\n",
       "<!-- 0&#45;&gt;6 -->\n",
       "<g id=\"edge6\" class=\"edge\">\n",
       "<title>0&#45;&gt;6</title>\n",
       "<path fill=\"none\" stroke=\"#000000\" d=\"M300.4184,-460.8796C310.3186,-451.6031 320.9009,-441.6874 331.0731,-432.1559\"/>\n",
       "<polygon fill=\"#000000\" stroke=\"#000000\" points=\"333.4879,-434.6896 338.392,-425.2981 328.7016,-429.5816 333.4879,-434.6896\"/>\n",
       "<text text-anchor=\"middle\" x=\"337.5794\" y=\"-446.5849\" font-family=\"Helvetica,sans-Serif\" font-size=\"14.00\" fill=\"#000000\">False</text>\n",
       "</g>\n",
       "<!-- 2 -->\n",
       "<g id=\"node3\" class=\"node\">\n",
       "<title>2</title>\n",
       "<path fill=\"#39e581\" stroke=\"#000000\" d=\"M98,-298.5C98,-298.5 12,-298.5 12,-298.5 6,-298.5 0,-292.5 0,-286.5 0,-286.5 0,-242.5 0,-242.5 0,-236.5 6,-230.5 12,-230.5 12,-230.5 98,-230.5 98,-230.5 104,-230.5 110,-236.5 110,-242.5 110,-242.5 110,-286.5 110,-286.5 110,-292.5 104,-298.5 98,-298.5\"/>\n",
       "<text text-anchor=\"middle\" x=\"55\" y=\"-283.3\" font-family=\"Helvetica,sans-Serif\" font-size=\"14.00\" fill=\"#000000\">entropy = 0.0</text>\n",
       "<text text-anchor=\"middle\" x=\"55\" y=\"-268.3\" font-family=\"Helvetica,sans-Serif\" font-size=\"14.00\" fill=\"#000000\">samples = 8</text>\n",
       "<text text-anchor=\"middle\" x=\"55\" y=\"-253.3\" font-family=\"Helvetica,sans-Serif\" font-size=\"14.00\" fill=\"#000000\">value = [0, 8, 0]</text>\n",
       "<text text-anchor=\"middle\" x=\"55\" y=\"-238.3\" font-family=\"Helvetica,sans-Serif\" font-size=\"14.00\" fill=\"#000000\">class = 雪梨</text>\n",
       "</g>\n",
       "<!-- 1&#45;&gt;2 -->\n",
       "<g id=\"edge2\" class=\"edge\">\n",
       "<title>1&#45;&gt;2</title>\n",
       "<path fill=\"none\" stroke=\"#000000\" d=\"M140.8328,-341.8796C127.7817,-330.1138 113.5899,-317.3197 100.5739,-305.5855\"/>\n",
       "<polygon fill=\"#000000\" stroke=\"#000000\" points=\"102.8346,-302.9113 93.0636,-298.8149 98.1474,-308.1104 102.8346,-302.9113\"/>\n",
       "</g>\n",
       "<!-- 3 -->\n",
       "<g id=\"node4\" class=\"node\">\n",
       "<title>3</title>\n",
       "<path fill=\"#853fe6\" stroke=\"#000000\" d=\"M233.5,-306C233.5,-306 140.5,-306 140.5,-306 134.5,-306 128.5,-300 128.5,-294 128.5,-294 128.5,-235 128.5,-235 128.5,-229 134.5,-223 140.5,-223 140.5,-223 233.5,-223 233.5,-223 239.5,-223 245.5,-229 245.5,-235 245.5,-235 245.5,-294 245.5,-294 245.5,-300 239.5,-306 233.5,-306\"/>\n",
       "<text text-anchor=\"middle\" x=\"187\" y=\"-290.8\" font-family=\"Helvetica,sans-Serif\" font-size=\"14.00\" fill=\"#000000\">灰 &lt;= 2.06</text>\n",
       "<text text-anchor=\"middle\" x=\"187\" y=\"-275.8\" font-family=\"Helvetica,sans-Serif\" font-size=\"14.00\" fill=\"#000000\">entropy = 0.183</text>\n",
       "<text text-anchor=\"middle\" x=\"187\" y=\"-260.8\" font-family=\"Helvetica,sans-Serif\" font-size=\"14.00\" fill=\"#000000\">samples = 36</text>\n",
       "<text text-anchor=\"middle\" x=\"187\" y=\"-245.8\" font-family=\"Helvetica,sans-Serif\" font-size=\"14.00\" fill=\"#000000\">value = [0, 1, 35]</text>\n",
       "<text text-anchor=\"middle\" x=\"187\" y=\"-230.8\" font-family=\"Helvetica,sans-Serif\" font-size=\"14.00\" fill=\"#000000\">class = 汉斯</text>\n",
       "</g>\n",
       "<!-- 1&#45;&gt;3 -->\n",
       "<g id=\"edge3\" class=\"edge\">\n",
       "<title>1&#45;&gt;3</title>\n",
       "<path fill=\"none\" stroke=\"#000000\" d=\"M187,-341.8796C187,-333.6838 187,-324.9891 187,-316.5013\"/>\n",
       "<polygon fill=\"#000000\" stroke=\"#000000\" points=\"190.5001,-316.298 187,-306.2981 183.5001,-316.2981 190.5001,-316.298\"/>\n",
       "</g>\n",
       "<!-- 4 -->\n",
       "<g id=\"node5\" class=\"node\">\n",
       "<title>4</title>\n",
       "<path fill=\"#39e581\" stroke=\"#000000\" d=\"M98,-179.5C98,-179.5 12,-179.5 12,-179.5 6,-179.5 0,-173.5 0,-167.5 0,-167.5 0,-123.5 0,-123.5 0,-117.5 6,-111.5 12,-111.5 12,-111.5 98,-111.5 98,-111.5 104,-111.5 110,-117.5 110,-123.5 110,-123.5 110,-167.5 110,-167.5 110,-173.5 104,-179.5 98,-179.5\"/>\n",
       "<text text-anchor=\"middle\" x=\"55\" y=\"-164.3\" font-family=\"Helvetica,sans-Serif\" font-size=\"14.00\" fill=\"#000000\">entropy = 0.0</text>\n",
       "<text text-anchor=\"middle\" x=\"55\" y=\"-149.3\" font-family=\"Helvetica,sans-Serif\" font-size=\"14.00\" fill=\"#000000\">samples = 1</text>\n",
       "<text text-anchor=\"middle\" x=\"55\" y=\"-134.3\" font-family=\"Helvetica,sans-Serif\" font-size=\"14.00\" fill=\"#000000\">value = [0, 1, 0]</text>\n",
       "<text text-anchor=\"middle\" x=\"55\" y=\"-119.3\" font-family=\"Helvetica,sans-Serif\" font-size=\"14.00\" fill=\"#000000\">class = 雪梨</text>\n",
       "</g>\n",
       "<!-- 3&#45;&gt;4 -->\n",
       "<g id=\"edge4\" class=\"edge\">\n",
       "<title>3&#45;&gt;4</title>\n",
       "<path fill=\"none\" stroke=\"#000000\" d=\"M140.8328,-222.8796C127.7817,-211.1138 113.5899,-198.3197 100.5739,-186.5855\"/>\n",
       "<polygon fill=\"#000000\" stroke=\"#000000\" points=\"102.8346,-183.9113 93.0636,-179.8149 98.1474,-189.1104 102.8346,-183.9113\"/>\n",
       "</g>\n",
       "<!-- 5 -->\n",
       "<g id=\"node6\" class=\"node\">\n",
       "<title>5</title>\n",
       "<path fill=\"#8139e5\" stroke=\"#000000\" d=\"M233.5,-179.5C233.5,-179.5 140.5,-179.5 140.5,-179.5 134.5,-179.5 128.5,-173.5 128.5,-167.5 128.5,-167.5 128.5,-123.5 128.5,-123.5 128.5,-117.5 134.5,-111.5 140.5,-111.5 140.5,-111.5 233.5,-111.5 233.5,-111.5 239.5,-111.5 245.5,-117.5 245.5,-123.5 245.5,-123.5 245.5,-167.5 245.5,-167.5 245.5,-173.5 239.5,-179.5 233.5,-179.5\"/>\n",
       "<text text-anchor=\"middle\" x=\"187\" y=\"-164.3\" font-family=\"Helvetica,sans-Serif\" font-size=\"14.00\" fill=\"#000000\">entropy = 0.0</text>\n",
       "<text text-anchor=\"middle\" x=\"187\" y=\"-149.3\" font-family=\"Helvetica,sans-Serif\" font-size=\"14.00\" fill=\"#000000\">samples = 35</text>\n",
       "<text text-anchor=\"middle\" x=\"187\" y=\"-134.3\" font-family=\"Helvetica,sans-Serif\" font-size=\"14.00\" fill=\"#000000\">value = [0, 0, 35]</text>\n",
       "<text text-anchor=\"middle\" x=\"187\" y=\"-119.3\" font-family=\"Helvetica,sans-Serif\" font-size=\"14.00\" fill=\"#000000\">class = 汉斯</text>\n",
       "</g>\n",
       "<!-- 3&#45;&gt;5 -->\n",
       "<g id=\"edge5\" class=\"edge\">\n",
       "<title>3&#45;&gt;5</title>\n",
       "<path fill=\"none\" stroke=\"#000000\" d=\"M187,-222.8796C187,-212.2134 187,-200.7021 187,-189.9015\"/>\n",
       "<polygon fill=\"#000000\" stroke=\"#000000\" points=\"190.5001,-189.8149 187,-179.8149 183.5001,-189.815 190.5001,-189.8149\"/>\n",
       "</g>\n",
       "<!-- 7 -->\n",
       "<g id=\"node8\" class=\"node\">\n",
       "<title>7</title>\n",
       "<path fill=\"#3ee684\" stroke=\"#000000\" d=\"M429.5,-306C429.5,-306 336.5,-306 336.5,-306 330.5,-306 324.5,-300 324.5,-294 324.5,-294 324.5,-235 324.5,-235 324.5,-229 330.5,-223 336.5,-223 336.5,-223 429.5,-223 429.5,-223 435.5,-223 441.5,-229 441.5,-235 441.5,-235 441.5,-294 441.5,-294 441.5,-300 435.5,-306 429.5,-306\"/>\n",
       "<text text-anchor=\"middle\" x=\"383\" y=\"-290.8\" font-family=\"Helvetica,sans-Serif\" font-size=\"14.00\" fill=\"#000000\">脯氨酸 &lt;= 676.0</text>\n",
       "<text text-anchor=\"middle\" x=\"383\" y=\"-275.8\" font-family=\"Helvetica,sans-Serif\" font-size=\"14.00\" fill=\"#000000\">entropy = 0.179</text>\n",
       "<text text-anchor=\"middle\" x=\"383\" y=\"-260.8\" font-family=\"Helvetica,sans-Serif\" font-size=\"14.00\" fill=\"#000000\">samples = 37</text>\n",
       "<text text-anchor=\"middle\" x=\"383\" y=\"-245.8\" font-family=\"Helvetica,sans-Serif\" font-size=\"14.00\" fill=\"#000000\">value = [1, 36, 0]</text>\n",
       "<text text-anchor=\"middle\" x=\"383\" y=\"-230.8\" font-family=\"Helvetica,sans-Serif\" font-size=\"14.00\" fill=\"#000000\">class = 雪梨</text>\n",
       "</g>\n",
       "<!-- 6&#45;&gt;7 -->\n",
       "<g id=\"edge7\" class=\"edge\">\n",
       "<title>6&#45;&gt;7</title>\n",
       "<path fill=\"none\" stroke=\"#000000\" d=\"M383,-341.8796C383,-333.6838 383,-324.9891 383,-316.5013\"/>\n",
       "<polygon fill=\"#000000\" stroke=\"#000000\" points=\"386.5001,-316.298 383,-306.2981 379.5001,-316.2981 386.5001,-316.298\"/>\n",
       "</g>\n",
       "<!-- 12 -->\n",
       "<g id=\"node13\" class=\"node\">\n",
       "<title>12</title>\n",
       "<path fill=\"#e78a48\" stroke=\"#000000\" d=\"M636.5,-306C636.5,-306 529.5,-306 529.5,-306 523.5,-306 517.5,-300 517.5,-294 517.5,-294 517.5,-235 517.5,-235 517.5,-229 523.5,-223 529.5,-223 529.5,-223 636.5,-223 636.5,-223 642.5,-223 648.5,-229 648.5,-235 648.5,-235 648.5,-294 648.5,-294 648.5,-300 642.5,-306 636.5,-306\"/>\n",
       "<text text-anchor=\"middle\" x=\"583\" y=\"-290.8\" font-family=\"Helvetica,sans-Serif\" font-size=\"14.00\" fill=\"#000000\">颜色强度 &lt;= 3.465</text>\n",
       "<text text-anchor=\"middle\" x=\"583\" y=\"-275.8\" font-family=\"Helvetica,sans-Serif\" font-size=\"14.00\" fill=\"#000000\">entropy = 0.365</text>\n",
       "<text text-anchor=\"middle\" x=\"583\" y=\"-260.8\" font-family=\"Helvetica,sans-Serif\" font-size=\"14.00\" fill=\"#000000\">samples = 43</text>\n",
       "<text text-anchor=\"middle\" x=\"583\" y=\"-245.8\" font-family=\"Helvetica,sans-Serif\" font-size=\"14.00\" fill=\"#000000\">value = [40, 3, 0]</text>\n",
       "<text text-anchor=\"middle\" x=\"583\" y=\"-230.8\" font-family=\"Helvetica,sans-Serif\" font-size=\"14.00\" fill=\"#000000\">class = 清酒</text>\n",
       "</g>\n",
       "<!-- 6&#45;&gt;12 -->\n",
       "<g id=\"edge12\" class=\"edge\">\n",
       "<title>6&#45;&gt;12</title>\n",
       "<path fill=\"none\" stroke=\"#000000\" d=\"M445.7325,-346.1742C465.6798,-334.3055 487.9358,-321.0632 508.623,-308.7543\"/>\n",
       "<polygon fill=\"#000000\" stroke=\"#000000\" points=\"510.5775,-311.6642 517.3816,-303.5429 506.9981,-305.6485 510.5775,-311.6642\"/>\n",
       "</g>\n",
       "<!-- 8 -->\n",
       "<g id=\"node9\" class=\"node\">\n",
       "<title>8</title>\n",
       "<path fill=\"#39e581\" stroke=\"#000000\" d=\"M368.5,-179.5C368.5,-179.5 275.5,-179.5 275.5,-179.5 269.5,-179.5 263.5,-173.5 263.5,-167.5 263.5,-167.5 263.5,-123.5 263.5,-123.5 263.5,-117.5 269.5,-111.5 275.5,-111.5 275.5,-111.5 368.5,-111.5 368.5,-111.5 374.5,-111.5 380.5,-117.5 380.5,-123.5 380.5,-123.5 380.5,-167.5 380.5,-167.5 380.5,-173.5 374.5,-179.5 368.5,-179.5\"/>\n",
       "<text text-anchor=\"middle\" x=\"322\" y=\"-164.3\" font-family=\"Helvetica,sans-Serif\" font-size=\"14.00\" fill=\"#000000\">entropy = 0.0</text>\n",
       "<text text-anchor=\"middle\" x=\"322\" y=\"-149.3\" font-family=\"Helvetica,sans-Serif\" font-size=\"14.00\" fill=\"#000000\">samples = 34</text>\n",
       "<text text-anchor=\"middle\" x=\"322\" y=\"-134.3\" font-family=\"Helvetica,sans-Serif\" font-size=\"14.00\" fill=\"#000000\">value = [0, 34, 0]</text>\n",
       "<text text-anchor=\"middle\" x=\"322\" y=\"-119.3\" font-family=\"Helvetica,sans-Serif\" font-size=\"14.00\" fill=\"#000000\">class = 雪梨</text>\n",
       "</g>\n",
       "<!-- 7&#45;&gt;8 -->\n",
       "<g id=\"edge8\" class=\"edge\">\n",
       "<title>7&#45;&gt;8</title>\n",
       "<path fill=\"none\" stroke=\"#000000\" d=\"M361.6652,-222.8796C356.0285,-211.8835 349.9315,-199.9893 344.2478,-188.9015\"/>\n",
       "<polygon fill=\"#000000\" stroke=\"#000000\" points=\"347.2663,-187.1173 339.59,-179.8149 341.0371,-190.3105 347.2663,-187.1173\"/>\n",
       "</g>\n",
       "<!-- 9 -->\n",
       "<g id=\"node10\" class=\"node\">\n",
       "<title>9</title>\n",
       "<path fill=\"#9cf2c0\" stroke=\"#000000\" d=\"M497.5,-187C497.5,-187 410.5,-187 410.5,-187 404.5,-187 398.5,-181 398.5,-175 398.5,-175 398.5,-116 398.5,-116 398.5,-110 404.5,-104 410.5,-104 410.5,-104 497.5,-104 497.5,-104 503.5,-104 509.5,-110 509.5,-116 509.5,-116 509.5,-175 509.5,-175 509.5,-181 503.5,-187 497.5,-187\"/>\n",
       "<text text-anchor=\"middle\" x=\"454\" y=\"-171.8\" font-family=\"Helvetica,sans-Serif\" font-size=\"14.00\" fill=\"#000000\">酒精 &lt;= 12.66</text>\n",
       "<text text-anchor=\"middle\" x=\"454\" y=\"-156.8\" font-family=\"Helvetica,sans-Serif\" font-size=\"14.00\" fill=\"#000000\">entropy = 0.918</text>\n",
       "<text text-anchor=\"middle\" x=\"454\" y=\"-141.8\" font-family=\"Helvetica,sans-Serif\" font-size=\"14.00\" fill=\"#000000\">samples = 3</text>\n",
       "<text text-anchor=\"middle\" x=\"454\" y=\"-126.8\" font-family=\"Helvetica,sans-Serif\" font-size=\"14.00\" fill=\"#000000\">value = [1, 2, 0]</text>\n",
       "<text text-anchor=\"middle\" x=\"454\" y=\"-111.8\" font-family=\"Helvetica,sans-Serif\" font-size=\"14.00\" fill=\"#000000\">class = 雪梨</text>\n",
       "</g>\n",
       "<!-- 7&#45;&gt;9 -->\n",
       "<g id=\"edge9\" class=\"edge\">\n",
       "<title>7&#45;&gt;9</title>\n",
       "<path fill=\"none\" stroke=\"#000000\" d=\"M407.8324,-222.8796C412.9909,-214.2335 418.4808,-205.0322 423.8076,-196.1042\"/>\n",
       "<polygon fill=\"#000000\" stroke=\"#000000\" points=\"426.9436,-197.679 429.0617,-187.2981 420.9322,-194.0924 426.9436,-197.679\"/>\n",
       "</g>\n",
       "<!-- 10 -->\n",
       "<g id=\"node11\" class=\"node\">\n",
       "<title>10</title>\n",
       "<path fill=\"#39e581\" stroke=\"#000000\" d=\"M433,-68C433,-68 347,-68 347,-68 341,-68 335,-62 335,-56 335,-56 335,-12 335,-12 335,-6 341,0 347,0 347,0 433,0 433,0 439,0 445,-6 445,-12 445,-12 445,-56 445,-56 445,-62 439,-68 433,-68\"/>\n",
       "<text text-anchor=\"middle\" x=\"390\" y=\"-52.8\" font-family=\"Helvetica,sans-Serif\" font-size=\"14.00\" fill=\"#000000\">entropy = 0.0</text>\n",
       "<text text-anchor=\"middle\" x=\"390\" y=\"-37.8\" font-family=\"Helvetica,sans-Serif\" font-size=\"14.00\" fill=\"#000000\">samples = 2</text>\n",
       "<text text-anchor=\"middle\" x=\"390\" y=\"-22.8\" font-family=\"Helvetica,sans-Serif\" font-size=\"14.00\" fill=\"#000000\">value = [0, 2, 0]</text>\n",
       "<text text-anchor=\"middle\" x=\"390\" y=\"-7.8\" font-family=\"Helvetica,sans-Serif\" font-size=\"14.00\" fill=\"#000000\">class = 雪梨</text>\n",
       "</g>\n",
       "<!-- 9&#45;&gt;10 -->\n",
       "<g id=\"edge10\" class=\"edge\">\n",
       "<title>9&#45;&gt;10</title>\n",
       "<path fill=\"none\" stroke=\"#000000\" d=\"M430.1688,-103.9815C425.1044,-95.1585 419.7475,-85.8258 414.6532,-76.9506\"/>\n",
       "<polygon fill=\"#000000\" stroke=\"#000000\" points=\"417.6807,-75.1942 409.667,-68.2637 411.6097,-78.6789 417.6807,-75.1942\"/>\n",
       "</g>\n",
       "<!-- 11 -->\n",
       "<g id=\"node12\" class=\"node\">\n",
       "<title>11</title>\n",
       "<path fill=\"#e58139\" stroke=\"#000000\" d=\"M561,-68C561,-68 475,-68 475,-68 469,-68 463,-62 463,-56 463,-56 463,-12 463,-12 463,-6 469,0 475,0 475,0 561,0 561,0 567,0 573,-6 573,-12 573,-12 573,-56 573,-56 573,-62 567,-68 561,-68\"/>\n",
       "<text text-anchor=\"middle\" x=\"518\" y=\"-52.8\" font-family=\"Helvetica,sans-Serif\" font-size=\"14.00\" fill=\"#000000\">entropy = 0.0</text>\n",
       "<text text-anchor=\"middle\" x=\"518\" y=\"-37.8\" font-family=\"Helvetica,sans-Serif\" font-size=\"14.00\" fill=\"#000000\">samples = 1</text>\n",
       "<text text-anchor=\"middle\" x=\"518\" y=\"-22.8\" font-family=\"Helvetica,sans-Serif\" font-size=\"14.00\" fill=\"#000000\">value = [1, 0, 0]</text>\n",
       "<text text-anchor=\"middle\" x=\"518\" y=\"-7.8\" font-family=\"Helvetica,sans-Serif\" font-size=\"14.00\" fill=\"#000000\">class = 清酒</text>\n",
       "</g>\n",
       "<!-- 9&#45;&gt;11 -->\n",
       "<g id=\"edge11\" class=\"edge\">\n",
       "<title>9&#45;&gt;11</title>\n",
       "<path fill=\"none\" stroke=\"#000000\" d=\"M477.8312,-103.9815C482.8956,-95.1585 488.2525,-85.8258 493.3468,-76.9506\"/>\n",
       "<polygon fill=\"#000000\" stroke=\"#000000\" points=\"496.3903,-78.6789 498.333,-68.2637 490.3193,-75.1942 496.3903,-78.6789\"/>\n",
       "</g>\n",
       "<!-- 13 -->\n",
       "<g id=\"node14\" class=\"node\">\n",
       "<title>13</title>\n",
       "<path fill=\"#39e581\" stroke=\"#000000\" d=\"M626,-179.5C626,-179.5 540,-179.5 540,-179.5 534,-179.5 528,-173.5 528,-167.5 528,-167.5 528,-123.5 528,-123.5 528,-117.5 534,-111.5 540,-111.5 540,-111.5 626,-111.5 626,-111.5 632,-111.5 638,-117.5 638,-123.5 638,-123.5 638,-167.5 638,-167.5 638,-173.5 632,-179.5 626,-179.5\"/>\n",
       "<text text-anchor=\"middle\" x=\"583\" y=\"-164.3\" font-family=\"Helvetica,sans-Serif\" font-size=\"14.00\" fill=\"#000000\">entropy = 0.0</text>\n",
       "<text text-anchor=\"middle\" x=\"583\" y=\"-149.3\" font-family=\"Helvetica,sans-Serif\" font-size=\"14.00\" fill=\"#000000\">samples = 3</text>\n",
       "<text text-anchor=\"middle\" x=\"583\" y=\"-134.3\" font-family=\"Helvetica,sans-Serif\" font-size=\"14.00\" fill=\"#000000\">value = [0, 3, 0]</text>\n",
       "<text text-anchor=\"middle\" x=\"583\" y=\"-119.3\" font-family=\"Helvetica,sans-Serif\" font-size=\"14.00\" fill=\"#000000\">class = 雪梨</text>\n",
       "</g>\n",
       "<!-- 12&#45;&gt;13 -->\n",
       "<g id=\"edge13\" class=\"edge\">\n",
       "<title>12&#45;&gt;13</title>\n",
       "<path fill=\"none\" stroke=\"#000000\" d=\"M583,-222.8796C583,-212.2134 583,-200.7021 583,-189.9015\"/>\n",
       "<polygon fill=\"#000000\" stroke=\"#000000\" points=\"586.5001,-189.8149 583,-179.8149 579.5001,-189.815 586.5001,-189.8149\"/>\n",
       "</g>\n",
       "<!-- 14 -->\n",
       "<g id=\"node15\" class=\"node\">\n",
       "<title>14</title>\n",
       "<path fill=\"#e58139\" stroke=\"#000000\" d=\"M761.5,-179.5C761.5,-179.5 668.5,-179.5 668.5,-179.5 662.5,-179.5 656.5,-173.5 656.5,-167.5 656.5,-167.5 656.5,-123.5 656.5,-123.5 656.5,-117.5 662.5,-111.5 668.5,-111.5 668.5,-111.5 761.5,-111.5 761.5,-111.5 767.5,-111.5 773.5,-117.5 773.5,-123.5 773.5,-123.5 773.5,-167.5 773.5,-167.5 773.5,-173.5 767.5,-179.5 761.5,-179.5\"/>\n",
       "<text text-anchor=\"middle\" x=\"715\" y=\"-164.3\" font-family=\"Helvetica,sans-Serif\" font-size=\"14.00\" fill=\"#000000\">entropy = 0.0</text>\n",
       "<text text-anchor=\"middle\" x=\"715\" y=\"-149.3\" font-family=\"Helvetica,sans-Serif\" font-size=\"14.00\" fill=\"#000000\">samples = 40</text>\n",
       "<text text-anchor=\"middle\" x=\"715\" y=\"-134.3\" font-family=\"Helvetica,sans-Serif\" font-size=\"14.00\" fill=\"#000000\">value = [40, 0, 0]</text>\n",
       "<text text-anchor=\"middle\" x=\"715\" y=\"-119.3\" font-family=\"Helvetica,sans-Serif\" font-size=\"14.00\" fill=\"#000000\">class = 清酒</text>\n",
       "</g>\n",
       "<!-- 12&#45;&gt;14 -->\n",
       "<g id=\"edge14\" class=\"edge\">\n",
       "<title>12&#45;&gt;14</title>\n",
       "<path fill=\"none\" stroke=\"#000000\" d=\"M629.1672,-222.8796C642.2183,-211.1138 656.4101,-198.3197 669.4261,-186.5855\"/>\n",
       "<polygon fill=\"#000000\" stroke=\"#000000\" points=\"671.8526,-189.1104 676.9364,-179.8149 667.1654,-183.9113 671.8526,-189.1104\"/>\n",
       "</g>\n",
       "</g>\n",
       "</svg>\n"
      ],
      "text/plain": [
       "<graphviz.files.Source at 0x7f4169492ba8>"
      ]
     },
     "execution_count": 37,
     "metadata": {},
     "output_type": "execute_result"
    }
   ],
   "source": [
    "graph = graphviz.Source(dot_data)\n",
    "graph"
   ]
  },
  {
   "cell_type": "code",
   "execution_count": 38,
   "metadata": {},
   "outputs": [
    {
     "data": {
      "text/plain": [
       "array([0.01412346, 0.        , 0.03379717, 0.        , 0.        ,\n",
       "       0.        , 0.4251714 , 0.        , 0.        , 0.21155668,\n",
       "       0.        , 0.        , 0.31535129])"
      ]
     },
     "execution_count": 38,
     "metadata": {},
     "output_type": "execute_result"
    }
   ],
   "source": [
    "# 输出特征选择是选取的重要特征\n",
    "clf.feature_importances_"
   ]
  },
  {
   "cell_type": "code",
   "execution_count": 39,
   "metadata": {},
   "outputs": [
    {
     "data": {
      "text/plain": [
       "[('酒精', 0.014123456026289814),\n",
       " ('苹果酸', 0.0),\n",
       " ('灰', 0.033797167098256205),\n",
       " ('灰的碱性', 0.0),\n",
       " ('镁', 0.0),\n",
       " ('总酚', 0.0),\n",
       " ('类黄酮', 0.425171401703828),\n",
       " ('非黄烷类酚类', 0.0),\n",
       " ('花青素', 0.0),\n",
       " ('颜色强度', 0.21155668029084915),\n",
       " ('色调', 0.0),\n",
       " ('od280/od315稀释葡萄酒', 0.0),\n",
       " ('脯氨酸', 0.31535129488077684)]"
      ]
     },
     "execution_count": 39,
     "metadata": {},
     "output_type": "execute_result"
    }
   ],
   "source": [
    "# 数据对应特征的特征标签\n",
    "list(zip(feature_name, clf.feature_importances_)) #[*zip()]"
   ]
  },
  {
   "cell_type": "code",
   "execution_count": 40,
   "metadata": {},
   "outputs": [
    {
     "data": {
      "text/plain": [
       "DecisionTreeClassifier(class_weight=None, criterion='entropy', max_depth=None,\n",
       "                       max_features=None, max_leaf_nodes=None,\n",
       "                       min_impurity_decrease=0.0, min_impurity_split=None,\n",
       "                       min_samples_leaf=1, min_samples_split=2,\n",
       "                       min_weight_fraction_leaf=0.0, presort=False,\n",
       "                       random_state=20, splitter='best')"
      ]
     },
     "execution_count": 40,
     "metadata": {},
     "output_type": "execute_result"
    }
   ],
   "source": [
    "clf"
   ]
  },
  {
   "cell_type": "markdown",
   "metadata": {},
   "source": [
    "### 5.决策树剪枝"
   ]
  },
  {
   "cell_type": "code",
   "execution_count": 51,
   "metadata": {},
   "outputs": [
    {
     "name": "stdout",
     "output_type": "stream",
     "text": [
      "train_accuracy: 1.0\n",
      "test_accuracy: 0.9629629629629629\n"
     ]
    }
   ],
   "source": [
    "#　判断模型是否过拟合\n",
    "train_accuracy = clf.score(X_train, Y_train)\n",
    "test_accuracy = clf.score(X_test, Y_test)\n",
    "print(\"train_accuracy: {}\\ntest_accuracy: {}\".format(train_accuracy, test_accuracy))"
   ]
  },
  {
   "cell_type": "markdown",
   "metadata": {},
   "source": [
    "#### 提升决策树的泛化能力　决策树剪枝"
   ]
  },
  {
   "cell_type": "code",
   "execution_count": 99,
   "metadata": {},
   "outputs": [
    {
     "data": {
      "text/plain": [
       "DecisionTreeClassifier(class_weight=None, criterion='entropy', max_depth=3,\n",
       "                       max_features=None, max_leaf_nodes=None,\n",
       "                       min_impurity_decrease=0.0, min_impurity_split=None,\n",
       "                       min_samples_leaf=1, min_samples_split=40,\n",
       "                       min_weight_fraction_leaf=0.0, presort=False,\n",
       "                       random_state=20, splitter='best')"
      ]
     },
     "execution_count": 99,
     "metadata": {},
     "output_type": "execute_result"
    }
   ],
   "source": [
    "# 为了提升决策树的泛化能力　开始对数据进行剪枝\n",
    "# 基于信息增益\n",
    "clf = tree.DecisionTreeClassifier(criterion=\"entropy\"\n",
    "                                  , random_state=20\n",
    "#                                    , splitter = \"random\"\n",
    "                                  , max_depth = 3\n",
    "#                                   , min_samples_leaf = 10\n",
    "                                  , min_samples_split = 40\n",
    "                                  )\n",
    "clf.fit(X_train, Y_train)"
   ]
  },
  {
   "cell_type": "code",
   "execution_count": 100,
   "metadata": {},
   "outputs": [],
   "source": [
    "dot_data = tree.export_graphviz(clf\n",
    "                                ,out_file = None\n",
    "                                ,feature_names = feature_name\n",
    "                                ,class_names = [\"清酒\",\"雪梨\", \"汉斯\"]\n",
    "                                ,filled = True\n",
    "                                ,rounded = True\n",
    "                               )"
   ]
  },
  {
   "cell_type": "code",
   "execution_count": 101,
   "metadata": {},
   "outputs": [
    {
     "data": {
      "image/svg+xml": [
       "<?xml version=\"1.0\" encoding=\"UTF-8\" standalone=\"no\"?>\n",
       "<!DOCTYPE svg PUBLIC \"-//W3C//DTD SVG 1.1//EN\"\n",
       " \"http://www.w3.org/Graphics/SVG/1.1/DTD/svg11.dtd\">\n",
       "<!-- Generated by graphviz version 2.40.1 (20161225.0304)\n",
       " -->\n",
       "<!-- Title: Tree Pages: 1 -->\n",
       "<svg width=\"599pt\" height=\"433pt\"\n",
       " viewBox=\"0.00 0.00 598.50 433.00\" xmlns=\"http://www.w3.org/2000/svg\" xmlns:xlink=\"http://www.w3.org/1999/xlink\">\n",
       "<g id=\"graph0\" class=\"graph\" transform=\"scale(1 1) rotate(0) translate(4 429)\">\n",
       "<title>Tree</title>\n",
       "<polygon fill=\"#ffffff\" stroke=\"transparent\" points=\"-4,4 -4,-429 594.5,-429 594.5,4 -4,4\"/>\n",
       "<!-- 0 -->\n",
       "<g id=\"node1\" class=\"node\">\n",
       "<title>0</title>\n",
       "<path fill=\"#eefdf4\" stroke=\"#000000\" d=\"M309,-425C309,-425 201,-425 201,-425 195,-425 189,-419 189,-413 189,-413 189,-354 189,-354 189,-348 195,-342 201,-342 201,-342 309,-342 309,-342 315,-342 321,-348 321,-354 321,-354 321,-413 321,-413 321,-419 315,-425 309,-425\"/>\n",
       "<text text-anchor=\"middle\" x=\"255\" y=\"-409.8\" font-family=\"Helvetica,sans-Serif\" font-size=\"14.00\" fill=\"#000000\">类黄酮 &lt;= 1.575</text>\n",
       "<text text-anchor=\"middle\" x=\"255\" y=\"-394.8\" font-family=\"Helvetica,sans-Serif\" font-size=\"14.00\" fill=\"#000000\">entropy = 1.573</text>\n",
       "<text text-anchor=\"middle\" x=\"255\" y=\"-379.8\" font-family=\"Helvetica,sans-Serif\" font-size=\"14.00\" fill=\"#000000\">samples = 124</text>\n",
       "<text text-anchor=\"middle\" x=\"255\" y=\"-364.8\" font-family=\"Helvetica,sans-Serif\" font-size=\"14.00\" fill=\"#000000\">value = [41, 48, 35]</text>\n",
       "<text text-anchor=\"middle\" x=\"255\" y=\"-349.8\" font-family=\"Helvetica,sans-Serif\" font-size=\"14.00\" fill=\"#000000\">class = 雪梨</text>\n",
       "</g>\n",
       "<!-- 1 -->\n",
       "<g id=\"node2\" class=\"node\">\n",
       "<title>1</title>\n",
       "<path fill=\"#a16cec\" stroke=\"#000000\" d=\"M232.5,-306C232.5,-306 139.5,-306 139.5,-306 133.5,-306 127.5,-300 127.5,-294 127.5,-294 127.5,-235 127.5,-235 127.5,-229 133.5,-223 139.5,-223 139.5,-223 232.5,-223 232.5,-223 238.5,-223 244.5,-229 244.5,-235 244.5,-235 244.5,-294 244.5,-294 244.5,-300 238.5,-306 232.5,-306\"/>\n",
       "<text text-anchor=\"middle\" x=\"186\" y=\"-290.8\" font-family=\"Helvetica,sans-Serif\" font-size=\"14.00\" fill=\"#000000\">颜色强度 &lt;= 3.9</text>\n",
       "<text text-anchor=\"middle\" x=\"186\" y=\"-275.8\" font-family=\"Helvetica,sans-Serif\" font-size=\"14.00\" fill=\"#000000\">entropy = 0.731</text>\n",
       "<text text-anchor=\"middle\" x=\"186\" y=\"-260.8\" font-family=\"Helvetica,sans-Serif\" font-size=\"14.00\" fill=\"#000000\">samples = 44</text>\n",
       "<text text-anchor=\"middle\" x=\"186\" y=\"-245.8\" font-family=\"Helvetica,sans-Serif\" font-size=\"14.00\" fill=\"#000000\">value = [0, 9, 35]</text>\n",
       "<text text-anchor=\"middle\" x=\"186\" y=\"-230.8\" font-family=\"Helvetica,sans-Serif\" font-size=\"14.00\" fill=\"#000000\">class = 汉斯</text>\n",
       "</g>\n",
       "<!-- 0&#45;&gt;1 -->\n",
       "<g id=\"edge1\" class=\"edge\">\n",
       "<title>0&#45;&gt;1</title>\n",
       "<path fill=\"none\" stroke=\"#000000\" d=\"M230.8671,-341.8796C225.8539,-333.2335 220.5187,-324.0322 215.3419,-315.1042\"/>\n",
       "<polygon fill=\"#000000\" stroke=\"#000000\" points=\"218.2798,-313.1934 210.2359,-306.2981 212.2242,-316.7047 218.2798,-313.1934\"/>\n",
       "<text text-anchor=\"middle\" x=\"203.8103\" y=\"-326.7582\" font-family=\"Helvetica,sans-Serif\" font-size=\"14.00\" fill=\"#000000\">True</text>\n",
       "</g>\n",
       "<!-- 4 -->\n",
       "<g id=\"node5\" class=\"node\">\n",
       "<title>4</title>\n",
       "<path fill=\"#fef9f5\" stroke=\"#000000\" d=\"M375.5,-306C375.5,-306 274.5,-306 274.5,-306 268.5,-306 262.5,-300 262.5,-294 262.5,-294 262.5,-235 262.5,-235 262.5,-229 268.5,-223 274.5,-223 274.5,-223 375.5,-223 375.5,-223 381.5,-223 387.5,-229 387.5,-235 387.5,-235 387.5,-294 387.5,-294 387.5,-300 381.5,-306 375.5,-306\"/>\n",
       "<text text-anchor=\"middle\" x=\"325\" y=\"-290.8\" font-family=\"Helvetica,sans-Serif\" font-size=\"14.00\" fill=\"#000000\">脯氨酸 &lt;= 722.5</text>\n",
       "<text text-anchor=\"middle\" x=\"325\" y=\"-275.8\" font-family=\"Helvetica,sans-Serif\" font-size=\"14.00\" fill=\"#000000\">entropy = 1.0</text>\n",
       "<text text-anchor=\"middle\" x=\"325\" y=\"-260.8\" font-family=\"Helvetica,sans-Serif\" font-size=\"14.00\" fill=\"#000000\">samples = 80</text>\n",
       "<text text-anchor=\"middle\" x=\"325\" y=\"-245.8\" font-family=\"Helvetica,sans-Serif\" font-size=\"14.00\" fill=\"#000000\">value = [41, 39, 0]</text>\n",
       "<text text-anchor=\"middle\" x=\"325\" y=\"-230.8\" font-family=\"Helvetica,sans-Serif\" font-size=\"14.00\" fill=\"#000000\">class = 清酒</text>\n",
       "</g>\n",
       "<!-- 0&#45;&gt;4 -->\n",
       "<g id=\"edge4\" class=\"edge\">\n",
       "<title>0&#45;&gt;4</title>\n",
       "<path fill=\"none\" stroke=\"#000000\" d=\"M279.4826,-341.8796C284.5685,-333.2335 289.9811,-324.0322 295.2328,-315.1042\"/>\n",
       "<polygon fill=\"#000000\" stroke=\"#000000\" points=\"298.3594,-316.692 300.4129,-306.2981 292.3259,-313.1428 298.3594,-316.692\"/>\n",
       "<text text-anchor=\"middle\" x=\"306.687\" y=\"-326.798\" font-family=\"Helvetica,sans-Serif\" font-size=\"14.00\" fill=\"#000000\">False</text>\n",
       "</g>\n",
       "<!-- 2 -->\n",
       "<g id=\"node3\" class=\"node\">\n",
       "<title>2</title>\n",
       "<path fill=\"#39e581\" stroke=\"#000000\" d=\"M98,-179.5C98,-179.5 12,-179.5 12,-179.5 6,-179.5 0,-173.5 0,-167.5 0,-167.5 0,-123.5 0,-123.5 0,-117.5 6,-111.5 12,-111.5 12,-111.5 98,-111.5 98,-111.5 104,-111.5 110,-117.5 110,-123.5 110,-123.5 110,-167.5 110,-167.5 110,-173.5 104,-179.5 98,-179.5\"/>\n",
       "<text text-anchor=\"middle\" x=\"55\" y=\"-164.3\" font-family=\"Helvetica,sans-Serif\" font-size=\"14.00\" fill=\"#000000\">entropy = 0.0</text>\n",
       "<text text-anchor=\"middle\" x=\"55\" y=\"-149.3\" font-family=\"Helvetica,sans-Serif\" font-size=\"14.00\" fill=\"#000000\">samples = 8</text>\n",
       "<text text-anchor=\"middle\" x=\"55\" y=\"-134.3\" font-family=\"Helvetica,sans-Serif\" font-size=\"14.00\" fill=\"#000000\">value = [0, 8, 0]</text>\n",
       "<text text-anchor=\"middle\" x=\"55\" y=\"-119.3\" font-family=\"Helvetica,sans-Serif\" font-size=\"14.00\" fill=\"#000000\">class = 雪梨</text>\n",
       "</g>\n",
       "<!-- 1&#45;&gt;2 -->\n",
       "<g id=\"edge2\" class=\"edge\">\n",
       "<title>1&#45;&gt;2</title>\n",
       "<path fill=\"none\" stroke=\"#000000\" d=\"M140.1826,-222.8796C127.2303,-211.1138 113.146,-198.3197 100.2286,-186.5855\"/>\n",
       "<polygon fill=\"#000000\" stroke=\"#000000\" points=\"102.5306,-183.9482 92.7753,-179.8149 97.8239,-189.1296 102.5306,-183.9482\"/>\n",
       "</g>\n",
       "<!-- 3 -->\n",
       "<g id=\"node4\" class=\"node\">\n",
       "<title>3</title>\n",
       "<path fill=\"#853fe6\" stroke=\"#000000\" d=\"M233.5,-179.5C233.5,-179.5 140.5,-179.5 140.5,-179.5 134.5,-179.5 128.5,-173.5 128.5,-167.5 128.5,-167.5 128.5,-123.5 128.5,-123.5 128.5,-117.5 134.5,-111.5 140.5,-111.5 140.5,-111.5 233.5,-111.5 233.5,-111.5 239.5,-111.5 245.5,-117.5 245.5,-123.5 245.5,-123.5 245.5,-167.5 245.5,-167.5 245.5,-173.5 239.5,-179.5 233.5,-179.5\"/>\n",
       "<text text-anchor=\"middle\" x=\"187\" y=\"-164.3\" font-family=\"Helvetica,sans-Serif\" font-size=\"14.00\" fill=\"#000000\">entropy = 0.183</text>\n",
       "<text text-anchor=\"middle\" x=\"187\" y=\"-149.3\" font-family=\"Helvetica,sans-Serif\" font-size=\"14.00\" fill=\"#000000\">samples = 36</text>\n",
       "<text text-anchor=\"middle\" x=\"187\" y=\"-134.3\" font-family=\"Helvetica,sans-Serif\" font-size=\"14.00\" fill=\"#000000\">value = [0, 1, 35]</text>\n",
       "<text text-anchor=\"middle\" x=\"187\" y=\"-119.3\" font-family=\"Helvetica,sans-Serif\" font-size=\"14.00\" fill=\"#000000\">class = 汉斯</text>\n",
       "</g>\n",
       "<!-- 1&#45;&gt;3 -->\n",
       "<g id=\"edge3\" class=\"edge\">\n",
       "<title>1&#45;&gt;3</title>\n",
       "<path fill=\"none\" stroke=\"#000000\" d=\"M186.3498,-222.8796C186.4394,-212.2134 186.5361,-200.7021 186.6269,-189.9015\"/>\n",
       "<polygon fill=\"#000000\" stroke=\"#000000\" points=\"190.1274,-189.844 186.7116,-179.8149 183.1276,-189.7851 190.1274,-189.844\"/>\n",
       "</g>\n",
       "<!-- 5 -->\n",
       "<g id=\"node6\" class=\"node\">\n",
       "<title>5</title>\n",
       "<path fill=\"#3ee684\" stroke=\"#000000\" d=\"M370.5,-179.5C370.5,-179.5 277.5,-179.5 277.5,-179.5 271.5,-179.5 265.5,-173.5 265.5,-167.5 265.5,-167.5 265.5,-123.5 265.5,-123.5 265.5,-117.5 271.5,-111.5 277.5,-111.5 277.5,-111.5 370.5,-111.5 370.5,-111.5 376.5,-111.5 382.5,-117.5 382.5,-123.5 382.5,-123.5 382.5,-167.5 382.5,-167.5 382.5,-173.5 376.5,-179.5 370.5,-179.5\"/>\n",
       "<text text-anchor=\"middle\" x=\"324\" y=\"-164.3\" font-family=\"Helvetica,sans-Serif\" font-size=\"14.00\" fill=\"#000000\">entropy = 0.179</text>\n",
       "<text text-anchor=\"middle\" x=\"324\" y=\"-149.3\" font-family=\"Helvetica,sans-Serif\" font-size=\"14.00\" fill=\"#000000\">samples = 37</text>\n",
       "<text text-anchor=\"middle\" x=\"324\" y=\"-134.3\" font-family=\"Helvetica,sans-Serif\" font-size=\"14.00\" fill=\"#000000\">value = [1, 36, 0]</text>\n",
       "<text text-anchor=\"middle\" x=\"324\" y=\"-119.3\" font-family=\"Helvetica,sans-Serif\" font-size=\"14.00\" fill=\"#000000\">class = 雪梨</text>\n",
       "</g>\n",
       "<!-- 4&#45;&gt;5 -->\n",
       "<g id=\"edge5\" class=\"edge\">\n",
       "<title>4&#45;&gt;5</title>\n",
       "<path fill=\"none\" stroke=\"#000000\" d=\"M324.6502,-222.8796C324.5606,-212.2134 324.4639,-200.7021 324.3731,-189.9015\"/>\n",
       "<polygon fill=\"#000000\" stroke=\"#000000\" points=\"327.8724,-189.7851 324.2884,-179.8149 320.8726,-189.844 327.8724,-189.7851\"/>\n",
       "</g>\n",
       "<!-- 6 -->\n",
       "<g id=\"node7\" class=\"node\">\n",
       "<title>6</title>\n",
       "<path fill=\"#e78a48\" stroke=\"#000000\" d=\"M519.5,-187C519.5,-187 412.5,-187 412.5,-187 406.5,-187 400.5,-181 400.5,-175 400.5,-175 400.5,-116 400.5,-116 400.5,-110 406.5,-104 412.5,-104 412.5,-104 519.5,-104 519.5,-104 525.5,-104 531.5,-110 531.5,-116 531.5,-116 531.5,-175 531.5,-175 531.5,-181 525.5,-187 519.5,-187\"/>\n",
       "<text text-anchor=\"middle\" x=\"466\" y=\"-171.8\" font-family=\"Helvetica,sans-Serif\" font-size=\"14.00\" fill=\"#000000\">颜色强度 &lt;= 3.465</text>\n",
       "<text text-anchor=\"middle\" x=\"466\" y=\"-156.8\" font-family=\"Helvetica,sans-Serif\" font-size=\"14.00\" fill=\"#000000\">entropy = 0.365</text>\n",
       "<text text-anchor=\"middle\" x=\"466\" y=\"-141.8\" font-family=\"Helvetica,sans-Serif\" font-size=\"14.00\" fill=\"#000000\">samples = 43</text>\n",
       "<text text-anchor=\"middle\" x=\"466\" y=\"-126.8\" font-family=\"Helvetica,sans-Serif\" font-size=\"14.00\" fill=\"#000000\">value = [40, 3, 0]</text>\n",
       "<text text-anchor=\"middle\" x=\"466\" y=\"-111.8\" font-family=\"Helvetica,sans-Serif\" font-size=\"14.00\" fill=\"#000000\">class = 清酒</text>\n",
       "</g>\n",
       "<!-- 4&#45;&gt;6 -->\n",
       "<g id=\"edge6\" class=\"edge\">\n",
       "<title>4&#45;&gt;6</title>\n",
       "<path fill=\"none\" stroke=\"#000000\" d=\"M374.315,-222.8796C385.4132,-213.513 397.2835,-203.4948 408.6777,-193.8784\"/>\n",
       "<polygon fill=\"#000000\" stroke=\"#000000\" points=\"411.0899,-196.4225 416.4746,-187.2981 406.575,-191.0731 411.0899,-196.4225\"/>\n",
       "</g>\n",
       "<!-- 7 -->\n",
       "<g id=\"node8\" class=\"node\">\n",
       "<title>7</title>\n",
       "<path fill=\"#39e581\" stroke=\"#000000\" d=\"M443,-68C443,-68 357,-68 357,-68 351,-68 345,-62 345,-56 345,-56 345,-12 345,-12 345,-6 351,0 357,0 357,0 443,0 443,0 449,0 455,-6 455,-12 455,-12 455,-56 455,-56 455,-62 449,-68 443,-68\"/>\n",
       "<text text-anchor=\"middle\" x=\"400\" y=\"-52.8\" font-family=\"Helvetica,sans-Serif\" font-size=\"14.00\" fill=\"#000000\">entropy = 0.0</text>\n",
       "<text text-anchor=\"middle\" x=\"400\" y=\"-37.8\" font-family=\"Helvetica,sans-Serif\" font-size=\"14.00\" fill=\"#000000\">samples = 3</text>\n",
       "<text text-anchor=\"middle\" x=\"400\" y=\"-22.8\" font-family=\"Helvetica,sans-Serif\" font-size=\"14.00\" fill=\"#000000\">value = [0, 3, 0]</text>\n",
       "<text text-anchor=\"middle\" x=\"400\" y=\"-7.8\" font-family=\"Helvetica,sans-Serif\" font-size=\"14.00\" fill=\"#000000\">class = 雪梨</text>\n",
       "</g>\n",
       "<!-- 6&#45;&gt;7 -->\n",
       "<g id=\"edge7\" class=\"edge\">\n",
       "<title>6&#45;&gt;7</title>\n",
       "<path fill=\"none\" stroke=\"#000000\" d=\"M441.424,-103.9815C436.2014,-95.1585 430.6771,-85.8258 425.4237,-76.9506\"/>\n",
       "<polygon fill=\"#000000\" stroke=\"#000000\" points=\"428.3874,-75.0863 420.2816,-68.2637 422.3636,-78.652 428.3874,-75.0863\"/>\n",
       "</g>\n",
       "<!-- 8 -->\n",
       "<g id=\"node9\" class=\"node\">\n",
       "<title>8</title>\n",
       "<path fill=\"#e58139\" stroke=\"#000000\" d=\"M578.5,-68C578.5,-68 485.5,-68 485.5,-68 479.5,-68 473.5,-62 473.5,-56 473.5,-56 473.5,-12 473.5,-12 473.5,-6 479.5,0 485.5,0 485.5,0 578.5,0 578.5,0 584.5,0 590.5,-6 590.5,-12 590.5,-12 590.5,-56 590.5,-56 590.5,-62 584.5,-68 578.5,-68\"/>\n",
       "<text text-anchor=\"middle\" x=\"532\" y=\"-52.8\" font-family=\"Helvetica,sans-Serif\" font-size=\"14.00\" fill=\"#000000\">entropy = 0.0</text>\n",
       "<text text-anchor=\"middle\" x=\"532\" y=\"-37.8\" font-family=\"Helvetica,sans-Serif\" font-size=\"14.00\" fill=\"#000000\">samples = 40</text>\n",
       "<text text-anchor=\"middle\" x=\"532\" y=\"-22.8\" font-family=\"Helvetica,sans-Serif\" font-size=\"14.00\" fill=\"#000000\">value = [40, 0, 0]</text>\n",
       "<text text-anchor=\"middle\" x=\"532\" y=\"-7.8\" font-family=\"Helvetica,sans-Serif\" font-size=\"14.00\" fill=\"#000000\">class = 清酒</text>\n",
       "</g>\n",
       "<!-- 6&#45;&gt;8 -->\n",
       "<g id=\"edge8\" class=\"edge\">\n",
       "<title>6&#45;&gt;8</title>\n",
       "<path fill=\"none\" stroke=\"#000000\" d=\"M490.576,-103.9815C495.7986,-95.1585 501.3229,-85.8258 506.5763,-76.9506\"/>\n",
       "<polygon fill=\"#000000\" stroke=\"#000000\" points=\"509.6364,-78.652 511.7184,-68.2637 503.6126,-75.0863 509.6364,-78.652\"/>\n",
       "</g>\n",
       "</g>\n",
       "</svg>\n"
      ],
      "text/plain": [
       "<graphviz.files.Source at 0x7f4168b2db38>"
      ]
     },
     "execution_count": 101,
     "metadata": {},
     "output_type": "execute_result"
    }
   ],
   "source": [
    "graph = graphviz.Source(dot_data)\n",
    "graph"
   ]
  },
  {
   "cell_type": "code",
   "execution_count": 102,
   "metadata": {},
   "outputs": [
    {
     "name": "stdout",
     "output_type": "stream",
     "text": [
      "train_accuracy: 0.9838709677419355\n",
      "test_accuracy: 0.9814814814814815\n"
     ]
    }
   ],
   "source": [
    "train_accuracy = clf.score(X_train, Y_train)\n",
    "test_accuracy = clf.score(X_test, Y_test)\n",
    "print(\"train_accuracy: {}\\ntest_accuracy: {}\".format(train_accuracy, test_accuracy))"
   ]
  },
  {
   "cell_type": "code",
   "execution_count": 103,
   "metadata": {},
   "outputs": [
    {
     "data": {
      "text/plain": [
       "DecisionTreeClassifier(class_weight=None, criterion='entropy', max_depth=3,\n",
       "                       max_features=None, max_leaf_nodes=None,\n",
       "                       min_impurity_decrease=0.0, min_impurity_split=None,\n",
       "                       min_samples_leaf=1, min_samples_split=40,\n",
       "                       min_weight_fraction_leaf=0.0, presort=False,\n",
       "                       random_state=20, splitter='best')"
      ]
     },
     "execution_count": 103,
     "metadata": {},
     "output_type": "execute_result"
    }
   ],
   "source": [
    "clf"
   ]
  },
  {
   "cell_type": "markdown",
   "metadata": {},
   "source": [
    "#### 选择最优的的模型参数"
   ]
  },
  {
   "cell_type": "code",
   "execution_count": 104,
   "metadata": {},
   "outputs": [
    {
     "data": {
      "image/png": "[encoded data removed]",
      "text/plain": [
       "<Figure size 432x288 with 1 Axes>"
      ]
     },
     "metadata": {
      "needs_background": "light"
     },
     "output_type": "display_data"
    }
   ],
   "source": [
    "test = [] # 记录测试集的准确率\n",
    "\n",
    "# 测是最大深度的可能取值\n",
    "for i in range(1, 12):\n",
    "    clf = tree.DecisionTreeClassifier(criterion=\"entropy\"\n",
    "                                  , random_state=20\n",
    "    #                                    , splitter = \"random\"\n",
    "                                  , max_depth = i\n",
    "    #                                   , min_samples_leaf = 10\n",
    "                                  , min_samples_split = 40\n",
    "                                  )\n",
    "    clf.fit(X_train, Y_train)\n",
    "    test.append(clf.score(X_test, Y_test))\n",
    "\n",
    "    \n",
    "plt.plot(range(1, 12), test, \"r\")\n",
    "plt.xlabel(\"max_depth\")\n",
    "plt.ylabel(\"accuracy\")\n",
    "plt.show()"
   ]
  },
  {
   "cell_type": "code",
   "execution_count": null,
   "metadata": {},
   "outputs": [],
   "source": []
  },
  {
   "cell_type": "code",
   "execution_count": null,
   "metadata": {},
   "outputs": [],
   "source": []
  },
  {
   "cell_type": "markdown",
   "metadata": {},
   "source": [
    "### 参考\n",
    "[zip()和*zip()](https://www.cnblogs.com/kenny-feng/p/11368477.html)  \n",
    "[决策树](https://sklearn.apachecn.org/docs/0.21.3/11.html?h=tree)"
   ]
  }
 ],
 "metadata": {
  "kernelspec": {
   "display_name": "Python 3",
   "language": "python",
   "name": "python3"
  },
  "language_info": {
   "codemirror_mode": {
    "name": "ipython",
    "version": 3
   },
   "file_extension": ".py",
   "mimetype": "text/x-python",
   "name": "python",
   "nbconvert_exporter": "python",
   "pygments_lexer": "ipython3",
   "version": "3.6.5"
  }
 },
 "nbformat": 4,
 "nbformat_minor": 4
}
