{
 "cells": [
  {
   "cell_type": "code",
   "execution_count": 1,
   "metadata": {},
   "outputs": [],
   "source": [
    "# EM算法\n",
    "def EM(dataMat, maxIter):\n",
    "    m, n = np.shape(dataMat)\n",
    "    # 1.初始化各高斯混合成分参数\n",
    "    alpha = [1 / 3, 1 / 3, 1 / 3]  # 1.1初始化 alpha1=alpha2=alpha3=1/3\n",
    "    mu = [dataMat[5, :], dataMat[21, :], dataMat[26, :]]  # 1.2初始化 mu1=x6,mu2=x22,mu3=x27\n",
    "    sigma = [np.mat([[0.1, 0], [0, 0.1]]) for x in range(3)]  # 1.3初始化协方差矩阵\n",
    "    gamma = np.mat(np.zeros((m, 3)))\n",
    "    for i in range(maxIter):\n",
    "        for j in range(m):\n",
    "            sumAlphaMulP = 0\n",
    "            for k in range(3):\n",
    "                gamma[j, k] = alpha[k] * prob(dataMat[j, :], mu[k], sigma[k])  # 4.计算混合成分生成的后验概率，即gamma\n",
    "                sumAlphaMulP += gamma[j, k]\n",
    "            for k in range(3):\n",
    "                gamma[j, k] /= sumAlphaMulP\n",
    "        sumGamma = np.sum(gamma, axis=0)\n",
    "\n",
    "        for k in range(3):\n",
    "            mu[k] = np.mat(np.zeros((1, n)))\n",
    "            sigma[k] = np.mat(np.zeros((n, n)))\n",
    "            for j in range(m):\n",
    "                mu[k] += gamma[j, k] * dataMat[j, :]\n",
    "            mu[k] /= sumGamma[0, k]  # 7.计算新均值向量\n",
    "            for j in range(m):\n",
    "                sigma[k] += gamma[j, k] * (dataMat[j, :] - mu[k]).T * (dataMat[j, :] - mu[k])\n",
    "            sigma[k] /= sumGamma[0, k]  # 8. 计算新的协方差矩阵\n",
    "            alpha[k] = sumGamma[0, k] / m  # 9. 计算新混合系数\n",
    "            # print(mu)\n",
    "    return gamma"
   ]
  },
  {
   "cell_type": "code",
   "execution_count": 1,
   "metadata": {},
   "outputs": [],
   "source": [
    "# init centroids with random samples\n",
    "def initCentroids(dataMat, k):\n",
    "    numSamples, dim = dataMat.shape\n",
    "    centroids = np.zeros((k, dim))\n",
    "    for i in range(k):\n",
    "        index = int(np.random.uniform(0, numSamples))\n",
    "        centroids[i, :] = dataMat[index, :]\n",
    "    return centroids"
   ]
  },
  {
   "cell_type": "code",
   "execution_count": 1,
   "metadata": {},
   "outputs": [],
   "source": [
    "#gmm算法模型实现\n",
    "def gaussianCluster(dataMat,maxIter):\n",
    "    Iter=maxIter\n",
    "    m, n = np.shape(dataMat)\n",
    "    centroids = initCentroids(dataMat, m)  ## step 1: init centroids\n",
    "    clusterAssign = np.mat(np.zeros((m, 2)))\n",
    "    gamma = EM(dataMat,Iter)\n",
    "    for i in range(m):\n",
    "        # amx返回矩阵最大值，argmax返回矩阵最大值所在下标\n",
    "        clusterAssign[i, :] = np.argmax(gamma[i, :]), np.amax(gamma[i, :])  # 15.确定x的簇标记lambda\n",
    "        ## step 4: update centroids\n",
    "    for j in range(m):\n",
    "        pointsInCluster = dataMat[np.nonzero(clusterAssign[:, 0].A == j)[0]]\n",
    "        centroids[j, :] = np.mean(pointsInCluster, axis=0)  # 计算出均值向量\n",
    "    return centroids, clusterAssign "
   ]
  },
  {
   "cell_type": "code",
   "execution_count": 2,
   "metadata": {},
   "outputs": [],
   "source": [
    "from sklearn import mixture\n",
    "def test_GMM(dataMat, components=3,iter = 100,cov_type=\"full\"):\n",
    "    clst = mixture.GaussianMixture(n_components=n_components,max_iter=iter,covariance_type=cov_type)\n",
    "    clst.fit(dataMat)\n",
    "    predicted_labels =clst.predict(dataMat)\n",
    "    return clst.means_,predicted_labels     # clst.means_返回均值"
   ]
  }
 ],
 "metadata": {
  "kernelspec": {
   "display_name": "Python 3",
   "language": "python",
   "name": "python3"
  },
  "language_info": {
   "codemirror_mode": {
    "name": "ipython",
    "version": 3
   },
   "file_extension": ".py",
   "mimetype": "text/x-python",
   "name": "python",
   "nbconvert_exporter": "python",
   "pygments_lexer": "ipython3",
   "version": "3.6.3"
  }
 },
 "nbformat": 4,
 "nbformat_minor": 4
}
