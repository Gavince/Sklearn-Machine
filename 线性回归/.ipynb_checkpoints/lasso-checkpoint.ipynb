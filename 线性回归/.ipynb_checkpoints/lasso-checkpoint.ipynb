{
 "cells": [
  {
   "cell_type": "code",
   "execution_count": 1,
   "metadata": {},
   "outputs": [],
   "source": [
    "import pandas as pd\n",
    "import numpy as np\n",
    "import matplotlib.pyplot as plt\n",
    "import sklearn\n",
    "from sklearn.model_selection import cross_val_score\n",
    "from sklearn.model_selection import train_test_split\n",
    "from sklearn.datasets import fetch_california_housing as fch\n",
    "from sklearn.linear_model import Lasso\n",
    "from sklearn.linear_model import LinearRegression, Ridge\n",
    "import seaborn as sns"
   ]
  },
  {
   "cell_type": "markdown",
   "metadata": {},
   "source": [
    "## Lasso"
   ]
  },
  {
   "cell_type": "code",
   "execution_count": 2,
   "metadata": {},
   "outputs": [],
   "source": [
    "house = fch()"
   ]
  },
  {
   "cell_type": "code",
   "execution_count": 3,
   "metadata": {},
   "outputs": [],
   "source": [
    "X = pd.DataFrame(house.data, columns=house.feature_names)\n",
    "Y = house.target"
   ]
  },
  {
   "cell_type": "code",
   "execution_count": 4,
   "metadata": {},
   "outputs": [],
   "source": [
    "Xtrian, Xtest, Ytrain, Ytest = train_test_split(X, Y\n",
    "                                                , test_size=0.3\n",
    "                                                , random_state=1\n",
    "                                               )"
   ]
  },
  {
   "cell_type": "code",
   "execution_count": 5,
   "metadata": {},
   "outputs": [],
   "source": [
    "# 恢复索引\n",
    "for i in [Xtrian, Xtest]:\n",
    "    i.index = range(len(i))"
   ]
  },
  {
   "cell_type": "code",
   "execution_count": 6,
   "metadata": {},
   "outputs": [
    {
     "data": {
      "text/plain": [
       "0.5971429737359628"
      ]
     },
     "execution_count": 6,
     "metadata": {},
     "output_type": "execute_result"
    }
   ],
   "source": [
    "# 使用标准的线性回归\n",
    "LR = LinearRegression().fit(Xtrian, Ytrain)\n",
    "LR.score(Xtest, Ytest)"
   ]
  },
  {
   "cell_type": "code",
   "execution_count": 7,
   "metadata": {},
   "outputs": [
    {
     "data": {
      "text/plain": [
       "[44.10379951588491,\n",
       " 0.9688018161134878,\n",
       " -10.478130894505872,\n",
       " 62.20527059136539,\n",
       " -0.0005614526807036995,\n",
       " -0.32879238418971146,\n",
       " -42.31823180595313,\n",
       " -43.78988563236825]"
      ]
     },
     "execution_count": 7,
     "metadata": {},
     "output_type": "execute_result"
    }
   ],
   "source": [
    "# 查看各个特征的系数\n",
    "(LR.coef_*100).tolist()"
   ]
  },
  {
   "cell_type": "code",
   "execution_count": 8,
   "metadata": {},
   "outputs": [
    {
     "data": {
      "text/plain": [
       "0.5900460818005668"
      ]
     },
     "execution_count": 8,
     "metadata": {},
     "output_type": "execute_result"
    }
   ],
   "source": [
    "#使用岭回归\n",
    "ri = Ridge(alpha=1000).fit(Xtrian, Ytrain)\n",
    "ri.score(Xtest,Ytest)"
   ]
  },
  {
   "cell_type": "code",
   "execution_count": 9,
   "metadata": {},
   "outputs": [
    {
     "data": {
      "text/plain": [
       "[40.14031515604707,\n",
       " 1.139584029145939,\n",
       " -2.7305000846435257,\n",
       " 20.105384363169748,\n",
       " 9.43407189786775e-05,\n",
       " -0.3300732374867689,\n",
       " -36.02852125427102,\n",
       " -36.54646913000396]"
      ]
     },
     "execution_count": 9,
     "metadata": {},
     "output_type": "execute_result"
    }
   ],
   "source": [
    "# 查看各个特征的系数\n",
    "(ri.coef_*100).tolist()"
   ]
  },
  {
   "cell_type": "code",
   "execution_count": 10,
   "metadata": {},
   "outputs": [
    {
     "data": {
      "text/plain": [
       "0.5396465553371066"
      ]
     },
     "execution_count": 10,
     "metadata": {},
     "output_type": "execute_result"
    }
   ],
   "source": [
    "# 使用lasso\n",
    "ls = Lasso(alpha=.10).fit(Xtrian, Ytrain)\n",
    "ls.score(Xtest, Ytest)"
   ]
  },
  {
   "cell_type": "code",
   "execution_count": 11,
   "metadata": {},
   "outputs": [
    {
     "data": {
      "text/plain": [
       "[39.58822590019733,\n",
       " 1.541176635441248,\n",
       " -0.0,\n",
       " 0.0,\n",
       " 0.0015754692676093244,\n",
       " -0.3068889714949297,\n",
       " -11.374405776780993,\n",
       " -10.074662389981798]"
      ]
     },
     "execution_count": 11,
     "metadata": {},
     "output_type": "execute_result"
    }
   ],
   "source": [
    "# 查看各个特征的系数(特征表现稀疏性)\n",
    "(ls.coef_*100).tolist()"
   ]
  },
  {
   "cell_type": "code",
   "execution_count": 12,
   "metadata": {},
   "outputs": [
    {
     "data": {
      "image/png": "[encoded data removed]",
      "text/plain": [
       "<matplotlib.figure.Figure at 0x7fec104f87b8>"
      ]
     },
     "metadata": {},
     "output_type": "display_data"
    }
   ],
   "source": [
    "# 画出特征系数\n",
    "plt.plot(range(1,9),(LR.coef_*100).tolist(),color=\"b\",label=\"LR\")\n",
    "plt.plot(range(1,9),(ri.coef_*100).tolist(),color=\"r\",label=\"Ridge\")\n",
    "plt.plot(range(1,9),(ls.coef_*100).tolist(),color=\"g\",label=\"Lasso\")\n",
    "plt.plot(range(1,9),[0]*8,color=\"grey\",linestyle=\"--\")\n",
    "plt.xlabel('w') #横坐标是每一个特征所对应的系数\n",
    "plt.ylabel(\"score\")\n",
    "plt.legend()\n",
    "plt.show()"
   ]
  },
  {
   "cell_type": "markdown",
   "metadata": {},
   "source": [
    "结论：从图上可以观察到岭回归能够对模型的参数有压缩的作用，处于红色线下面，而lasso对于参数的压缩更加强烈，能够使得的一些特征的系数为零，有一定的稀疏性。"
   ]
  },
  {
   "cell_type": "markdown",
   "metadata": {},
   "source": [
    "## LassoCV"
   ]
  },
  {
   "cell_type": "code",
   "execution_count": 13,
   "metadata": {},
   "outputs": [],
   "source": [
    "from sklearn.linear_model import LassoCV"
   ]
  },
  {
   "cell_type": "code",
   "execution_count": 14,
   "metadata": {},
   "outputs": [],
   "source": [
    "# 候选的alpha参数值\n",
    "alpharange = np.logspace(-10, -2, 200,base=10)"
   ]
  },
  {
   "cell_type": "code",
   "execution_count": 15,
   "metadata": {},
   "outputs": [
    {
     "data": {
      "text/plain": [
       "(200,)"
      ]
     },
     "execution_count": 15,
     "metadata": {},
     "output_type": "execute_result"
    }
   ],
   "source": [
    "alpharange.shape"
   ]
  },
  {
   "cell_type": "code",
   "execution_count": 16,
   "metadata": {},
   "outputs": [],
   "source": [
    "# 实例化\n",
    "lasso_ = LassoCV(alphas=alpharange).fit(Xtrian, Ytrain)"
   ]
  },
  {
   "cell_type": "code",
   "execution_count": 17,
   "metadata": {},
   "outputs": [
    {
     "data": {
      "text/plain": [
       "0.0036123426997094303"
      ]
     },
     "execution_count": 17,
     "metadata": {},
     "output_type": "execute_result"
    }
   ],
   "source": [
    "# 最佳的正则化参数\n",
    "lasso_.alpha_"
   ]
  },
  {
   "cell_type": "code",
   "execution_count": 18,
   "metadata": {},
   "outputs": [
    {
     "data": {
      "text/plain": [
       "(200, 5)"
      ]
     },
     "execution_count": 18,
     "metadata": {},
     "output_type": "execute_result"
    }
   ],
   "source": [
    "# 交差验证的值(每1个候选的正则化参数，做５次交叉验证)\n",
    "lasso_.mse_path_.shape"
   ]
  },
  {
   "cell_type": "code",
   "execution_count": 19,
   "metadata": {},
   "outputs": [
    {
     "data": {
      "text/plain": [
       "array([0.53056478, 0.52999723, 0.52955095, 0.52920763, 0.52894714,\n",
       "       0.52875359, 0.52861319, 0.52851567, 0.52845189, 0.52841446,\n",
       "       0.52839783, 0.52839698, 0.52840801, 0.52842846, 0.52845518,\n",
       "       0.52848622, 0.5285206 , 0.52855654, 0.52859325, 0.52862983,\n",
       "       0.52866612, 0.5287015 , 0.52873557, 0.52876819, 0.52879923,\n",
       "       0.52882866, 0.52885622, 0.5288822 , 0.52890651, 0.52892923,\n",
       "       0.52895033, 0.52896993, 0.52898808, 0.52900488, 0.5290204 ,\n",
       "       0.52903472, 0.52904791, 0.52906005, 0.52907124, 0.52908148,\n",
       "       0.52909092, 0.52909956, 0.52910745, 0.52911475, 0.52912138,\n",
       "       0.52912747, 0.52913305, 0.52913815, 0.52914282, 0.52914708,\n",
       "       0.52915099, 0.52915455, 0.52915781, 0.52916078, 0.5291635 ,\n",
       "       0.52916598, 0.52916825, 0.52917031, 0.5291722 , 0.52917392,\n",
       "       0.5291755 , 0.52917693, 0.52917824, 0.52917943, 0.52918052,\n",
       "       0.52918152, 0.52918242, 0.52918325, 0.529184  , 0.52918469,\n",
       "       0.52918532, 0.52918589, 0.52918641, 0.52918689, 0.52918732,\n",
       "       0.52918772, 0.52918808, 0.52918841, 0.52918871, 0.52918898,\n",
       "       0.52918923, 0.52918945, 0.52918966, 0.52918985, 0.52919002,\n",
       "       0.52919018, 0.52919032, 0.52919045, 0.52919057, 0.52919068,\n",
       "       0.52919078, 0.52919087, 0.52919095, 0.52919103, 0.52919109,\n",
       "       0.52919116, 0.52919121, 0.52919127, 0.52919131, 0.52919136,\n",
       "       0.52919139, 0.52919143, 0.52919146, 0.52919149, 0.52919152,\n",
       "       0.52919154, 0.52919157, 0.52919159, 0.52919161, 0.52919162,\n",
       "       0.52919164, 0.52919165, 0.52919167, 0.52919168, 0.52919169,\n",
       "       0.5291917 , 0.52919171, 0.52919171, 0.52919172, 0.52919173,\n",
       "       0.52919174, 0.52919174, 0.52919175, 0.52919175, 0.52919175,\n",
       "       0.52919176, 0.52919176, 0.52919177, 0.52919177, 0.52919177,\n",
       "       0.52919177, 0.52919178, 0.52919178, 0.52919178, 0.52919178,\n",
       "       0.52919178, 0.52919178, 0.52919179, 0.52919179, 0.52919179,\n",
       "       0.52919179, 0.52919179, 0.52919179, 0.52919179, 0.52919179,\n",
       "       0.52919179, 0.52919179, 0.52919179, 0.52919179, 0.52919179,\n",
       "       0.52919179, 0.52919179, 0.5291918 , 0.5291918 , 0.5291918 ,\n",
       "       0.5291918 , 0.5291918 , 0.5291918 , 0.5291918 , 0.5291918 ,\n",
       "       0.5291918 , 0.5291918 , 0.5291918 , 0.5291918 , 0.5291918 ,\n",
       "       0.5291918 , 0.5291918 , 0.5291918 , 0.5291918 , 0.5291918 ,\n",
       "       0.5291918 , 0.5291918 , 0.5291918 , 0.5291918 , 0.5291918 ,\n",
       "       0.5291918 , 0.5291918 , 0.5291918 , 0.5291918 , 0.5291918 ,\n",
       "       0.5291918 , 0.5291918 , 0.5291918 , 0.5291918 , 0.5291918 ,\n",
       "       0.5291918 , 0.5291918 , 0.5291918 , 0.5291918 , 0.5291918 ,\n",
       "       0.5291918 , 0.5291918 , 0.5291918 , 0.5291918 , 0.5291918 ,\n",
       "       0.5291918 , 0.5291918 , 0.5291918 , 0.5291918 , 0.5291918 ])"
      ]
     },
     "execution_count": 19,
     "metadata": {},
     "output_type": "execute_result"
    }
   ],
   "source": [
    "lasso_.mse_path_.mean(1)"
   ]
  },
  {
   "cell_type": "code",
   "execution_count": 20,
   "metadata": {},
   "outputs": [
    {
     "data": {
      "text/plain": [
       "array([ 4.28201774e-01,  9.94261069e-03, -8.03037965e-02,  4.96678579e-01,\n",
       "       -4.51234013e-06, -3.23924735e-03, -4.18630724e-01, -4.31353152e-01])"
      ]
     },
     "execution_count": 20,
     "metadata": {},
     "output_type": "execute_result"
    }
   ],
   "source": [
    "# 自动获取最佳alpha下的系数值\n",
    "lasso_.coef_"
   ]
  },
  {
   "cell_type": "code",
   "execution_count": 21,
   "metadata": {},
   "outputs": [
    {
     "data": {
      "text/plain": [
       "0.5965250593950855"
      ]
     },
     "execution_count": 21,
     "metadata": {},
     "output_type": "execute_result"
    }
   ],
   "source": [
    "lasso_.score(Xtest, Ytest)"
   ]
  },
  {
   "cell_type": "code",
   "execution_count": 22,
   "metadata": {},
   "outputs": [],
   "source": [
    "lasso_ = LassoCV(eps=0.000001, n_alphas=300).fit(Xtrian, Ytrain)"
   ]
  },
  {
   "cell_type": "code",
   "execution_count": 23,
   "metadata": {},
   "outputs": [
    {
     "data": {
      "text/plain": [
       "(300, 5)"
      ]
     },
     "execution_count": 23,
     "metadata": {},
     "output_type": "execute_result"
    }
   ],
   "source": [
    "lasso_.mse_path_.shape"
   ]
  },
  {
   "cell_type": "code",
   "execution_count": 24,
   "metadata": {},
   "outputs": [
    {
     "data": {
      "text/plain": [
       "0.5964592959839172"
      ]
     },
     "execution_count": 24,
     "metadata": {},
     "output_type": "execute_result"
    }
   ],
   "source": [
    "lasso_.score(Xtest, Ytest)"
   ]
  },
  {
   "cell_type": "code",
   "execution_count": 25,
   "metadata": {},
   "outputs": [
    {
     "data": {
      "text/plain": [
       "0.003841126498016326"
      ]
     },
     "execution_count": 25,
     "metadata": {},
     "output_type": "execute_result"
    }
   ],
   "source": [
    "lasso_.alpha_"
   ]
  },
  {
   "cell_type": "code",
   "execution_count": null,
   "metadata": {},
   "outputs": [],
   "source": []
  },
  {
   "cell_type": "code",
   "execution_count": null,
   "metadata": {},
   "outputs": [],
   "source": []
  },
  {
   "cell_type": "code",
   "execution_count": null,
   "metadata": {},
   "outputs": [],
   "source": []
  }
 ],
 "metadata": {
  "kernelspec": {
   "display_name": "Python 3",
   "language": "python",
   "name": "python3"
  },
  "language_info": {
   "codemirror_mode": {
    "name": "ipython",
    "version": 3
   },
   "file_extension": ".py",
   "mimetype": "text/x-python",
   "name": "python",
   "nbconvert_exporter": "python",
   "pygments_lexer": "ipython3",
   "version": "3.6.3"
  }
 },
 "nbformat": 4,
 "nbformat_minor": 4
}
